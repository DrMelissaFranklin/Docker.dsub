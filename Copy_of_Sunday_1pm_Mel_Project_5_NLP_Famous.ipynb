{
  "cells": [
    {
      "cell_type": "markdown",
      "metadata": {
        "id": "view-in-github",
        "colab_type": "text"
      },
      "source": [
        "<a href=\"https://colab.research.google.com/github/DrMelissaFranklin/Docker.dsub/blob/main/Copy_of_Sunday_1pm_Mel_Project_5_NLP_Famous.ipynb\" target=\"_parent\"><img src=\"https://colab.research.google.com/assets/colab-badge.svg\" alt=\"Open In Colab\"/></a>"
      ]
    },
    {
      "cell_type": "markdown",
      "metadata": {
        "id": "CxYSWPCsM0YU"
      },
      "source": [
        "# Natural Language Processing\n",
        "\n"
      ]
    },
    {
      "cell_type": "code",
      "source": [],
      "metadata": {
        "id": "cQ9n30AUMGTv"
      },
      "execution_count": null,
      "outputs": []
    },
    {
      "cell_type": "markdown",
      "metadata": {
        "id": "FGQCPUEuNezI"
      },
      "source": [
        "### This project is a supervised machine learning problems using Natural Language Processing.\n",
        "\n",
        "This project is in three parts:\n",
        "- in part 1) a traditional dataset in a CSV file is used to use a labeled target as one person in the dataset to find the top ten persons most similar to the target.\n",
        "- in part 2) the same will be done using a Wikipedia API to directly access content on Wikipedia.\n",
        "- in part 3) the notebook will include an interactive component\n"
      ]
    },
    {
      "cell_type": "markdown",
      "metadata": {
        "id": "IP5iaS9lNamW"
      },
      "source": [
        "### Part 1)\n",
        "\n"
      ]
    },
    {
      "cell_type": "markdown",
      "metadata": {
        "id": "twaXGmp6OAPK"
      },
      "source": [
        "- The CSV file is available at https://ddc-datascience.s3.amazonaws.com/Projects/Project.5-NLP/Data/NLP.csv\n",
        "- The file contains a list of famous people and a brief overview.\n",
        "- The goal of part 1) is provide the capability to\n",
        "  - Take one person from the list as input and output the 10 other people who's overview are \"closest\" to the person in a Natural Language Processing sense\n",
        "  - Also output the sentiment of the overview of the person\n",
        "\n"
      ]
    },
    {
      "cell_type": "code",
      "source": [
        "%%capture\n",
        "# Install textblob\n",
        "!pip install -U textblob\n"
      ],
      "metadata": {
        "id": "bRqUxz6KewVl"
      },
      "execution_count": null,
      "outputs": []
    },
    {
      "cell_type": "code",
      "source": [
        "from textblob import TextBlob\n"
      ],
      "metadata": {
        "id": "cJSFDvkMl_JJ"
      },
      "execution_count": null,
      "outputs": []
    },
    {
      "cell_type": "code",
      "source": [
        "%%capture\n",
        "# Download corpora\n",
        "!python -m textblob.download_corpora\n"
      ],
      "metadata": {
        "id": "Yd02zbf2kqec"
      },
      "execution_count": null,
      "outputs": []
    },
    {
      "cell_type": "code",
      "source": [
        "import nltk\n",
        "from nltk.corpus import stopwords, wordnet\n",
        "from nltk.tokenize import word_tokenize, sent_tokenize\n",
        "from nltk.stem import WordNetLemmatizer\n",
        "from nltk.stem import PorterStemmer\n",
        "nltk.download('omw-1.4')\n",
        "nltk.download('stopwords')\n",
        "nltk.download('punkt')\n",
        "nltk.download('averaged_perceptron_tagger')\n",
        "nltk.download('wordnet')\n",
        "nltk.download('punkt_tab')\n",
        "\n",
        "\n",
        "stop_words = set(stopwords.words('english'))\n",
        "lemmatizer = WordNetLemmatizer()\n"
      ],
      "metadata": {
        "colab": {
          "base_uri": "https://localhost:8080/"
        },
        "id": "LcZeJjtWkrvy",
        "outputId": "fd6c0e83-0c03-48e9-d2db-36475c29176a"
      },
      "execution_count": null,
      "outputs": [
        {
          "output_type": "stream",
          "name": "stderr",
          "text": [
            "[nltk_data] Downloading package omw-1.4 to /root/nltk_data...\n",
            "[nltk_data]   Package omw-1.4 is already up-to-date!\n",
            "[nltk_data] Downloading package stopwords to /root/nltk_data...\n",
            "[nltk_data]   Package stopwords is already up-to-date!\n",
            "[nltk_data] Downloading package punkt to /root/nltk_data...\n",
            "[nltk_data]   Package punkt is already up-to-date!\n",
            "[nltk_data] Downloading package averaged_perceptron_tagger to\n",
            "[nltk_data]     /root/nltk_data...\n",
            "[nltk_data]   Package averaged_perceptron_tagger is already up-to-\n",
            "[nltk_data]       date!\n",
            "[nltk_data] Downloading package wordnet to /root/nltk_data...\n",
            "[nltk_data]   Package wordnet is already up-to-date!\n",
            "[nltk_data] Downloading package punkt_tab to /root/nltk_data...\n",
            "[nltk_data]   Package punkt_tab is already up-to-date!\n"
          ]
        }
      ]
    },
    {
      "cell_type": "code",
      "source": [
        "import pandas as pd\n",
        "import numpy as np\n",
        "import re\n",
        "import matplotlib.pyplot as plt\n",
        "import seaborn as sns\n",
        "\n",
        "from sklearn.feature_extraction.text import TfidfVectorizer\n",
        "from sklearn.neighbors import NearestNeighbors\n",
        "from sklearn.feature_extraction.text import CountVectorizer\n",
        "from sklearn.feature_extraction.text import TfidfTransformer\n",
        "from sklearn.metrics.pairwise import cosine_similarity\n",
        "\n",
        "pd.options.display.max_columns = 100"
      ],
      "metadata": {
        "id": "2aKlN3SrkiCz"
      },
      "execution_count": null,
      "outputs": []
    },
    {
      "cell_type": "code",
      "source": [
        "!curl -s https://ddc-datascience.s3.amazonaws.com/Projects/Project.5-NLP/Data/NLP.csv | wc -l"
      ],
      "metadata": {
        "colab": {
          "base_uri": "https://localhost:8080/"
        },
        "id": "t6dopgR3vfDU",
        "outputId": "c37ce20d-4de1-417e-af0d-46a1a0555b8b"
      },
      "execution_count": null,
      "outputs": [
        {
          "output_type": "stream",
          "name": "stdout",
          "text": [
            "42786\n"
          ]
        }
      ]
    },
    {
      "cell_type": "code",
      "source": [
        "df = pd.read_csv('https://ddc-datascience.s3.amazonaws.com/Projects/Project.5-NLP/Data/NLP.csv')"
      ],
      "metadata": {
        "id": "yHBJAbrGviBT"
      },
      "execution_count": null,
      "outputs": []
    },
    {
      "cell_type": "code",
      "source": [
        "df.shape\n"
      ],
      "metadata": {
        "colab": {
          "base_uri": "https://localhost:8080/"
        },
        "id": "jUSrSCO5mOtz",
        "outputId": "20a5f5e5-551f-43ce-c26d-732ebfbf6d54"
      },
      "execution_count": null,
      "outputs": [
        {
          "output_type": "execute_result",
          "data": {
            "text/plain": [
              "(42786, 3)"
            ]
          },
          "metadata": {},
          "execution_count": 8
        }
      ]
    },
    {
      "cell_type": "code",
      "source": [
        "df.columns"
      ],
      "metadata": {
        "colab": {
          "base_uri": "https://localhost:8080/"
        },
        "id": "0alpXaY7mDx7",
        "outputId": "8b74ea8d-9685-4738-cf48-a8466c01339d"
      },
      "execution_count": null,
      "outputs": [
        {
          "output_type": "execute_result",
          "data": {
            "text/plain": [
              "Index(['URI', 'name', 'text'], dtype='object')"
            ]
          },
          "metadata": {},
          "execution_count": 9
        }
      ]
    },
    {
      "cell_type": "code",
      "source": [
        "df.head()"
      ],
      "metadata": {
        "colab": {
          "base_uri": "https://localhost:8080/",
          "height": 362
        },
        "id": "A_fzGXRbmTjw",
        "outputId": "3d242408-50d5-4f46-ffc6-924a38a28af2"
      },
      "execution_count": null,
      "outputs": [
        {
          "output_type": "execute_result",
          "data": {
            "text/plain": [
              "                                                 URI                 name  \\\n",
              "0        <http://dbpedia.org/resource/Digby_Morrell>        Digby Morrell   \n",
              "1       <http://dbpedia.org/resource/Alfred_J._Lewy>       Alfred J. Lewy   \n",
              "2        <http://dbpedia.org/resource/Harpdog_Brown>        Harpdog Brown   \n",
              "3  <http://dbpedia.org/resource/Franz_Rottensteiner>  Franz Rottensteiner   \n",
              "4               <http://dbpedia.org/resource/G-Enka>               G-Enka   \n",
              "\n",
              "                                                text  \n",
              "0  digby morrell born 10 october 1979 is a former...  \n",
              "1  alfred j lewy aka sandy lewy graduated from un...  \n",
              "2  harpdog brown is a singer and harmonica player...  \n",
              "3  franz rottensteiner born in waidmannsfeld lowe...  \n",
              "4  henry krvits born 30 december 1974 in tallinn ...  "
            ],
            "text/html": [
              "\n",
              "  <div id=\"df-9b3dd3a3-74cb-429f-b57d-5f8d4985d15b\" class=\"colab-df-container\">\n",
              "    <div>\n",
              "<style scoped>\n",
              "    .dataframe tbody tr th:only-of-type {\n",
              "        vertical-align: middle;\n",
              "    }\n",
              "\n",
              "    .dataframe tbody tr th {\n",
              "        vertical-align: top;\n",
              "    }\n",
              "\n",
              "    .dataframe thead th {\n",
              "        text-align: right;\n",
              "    }\n",
              "</style>\n",
              "<table border=\"1\" class=\"dataframe\">\n",
              "  <thead>\n",
              "    <tr style=\"text-align: right;\">\n",
              "      <th></th>\n",
              "      <th>URI</th>\n",
              "      <th>name</th>\n",
              "      <th>text</th>\n",
              "    </tr>\n",
              "  </thead>\n",
              "  <tbody>\n",
              "    <tr>\n",
              "      <th>0</th>\n",
              "      <td>&lt;http://dbpedia.org/resource/Digby_Morrell&gt;</td>\n",
              "      <td>Digby Morrell</td>\n",
              "      <td>digby morrell born 10 october 1979 is a former...</td>\n",
              "    </tr>\n",
              "    <tr>\n",
              "      <th>1</th>\n",
              "      <td>&lt;http://dbpedia.org/resource/Alfred_J._Lewy&gt;</td>\n",
              "      <td>Alfred J. Lewy</td>\n",
              "      <td>alfred j lewy aka sandy lewy graduated from un...</td>\n",
              "    </tr>\n",
              "    <tr>\n",
              "      <th>2</th>\n",
              "      <td>&lt;http://dbpedia.org/resource/Harpdog_Brown&gt;</td>\n",
              "      <td>Harpdog Brown</td>\n",
              "      <td>harpdog brown is a singer and harmonica player...</td>\n",
              "    </tr>\n",
              "    <tr>\n",
              "      <th>3</th>\n",
              "      <td>&lt;http://dbpedia.org/resource/Franz_Rottensteiner&gt;</td>\n",
              "      <td>Franz Rottensteiner</td>\n",
              "      <td>franz rottensteiner born in waidmannsfeld lowe...</td>\n",
              "    </tr>\n",
              "    <tr>\n",
              "      <th>4</th>\n",
              "      <td>&lt;http://dbpedia.org/resource/G-Enka&gt;</td>\n",
              "      <td>G-Enka</td>\n",
              "      <td>henry krvits born 30 december 1974 in tallinn ...</td>\n",
              "    </tr>\n",
              "  </tbody>\n",
              "</table>\n",
              "</div>\n",
              "    <div class=\"colab-df-buttons\">\n",
              "\n",
              "  <div class=\"colab-df-container\">\n",
              "    <button class=\"colab-df-convert\" onclick=\"convertToInteractive('df-9b3dd3a3-74cb-429f-b57d-5f8d4985d15b')\"\n",
              "            title=\"Convert this dataframe to an interactive table.\"\n",
              "            style=\"display:none;\">\n",
              "\n",
              "  <svg xmlns=\"http://www.w3.org/2000/svg\" height=\"24px\" viewBox=\"0 -960 960 960\">\n",
              "    <path d=\"M120-120v-720h720v720H120Zm60-500h600v-160H180v160Zm220 220h160v-160H400v160Zm0 220h160v-160H400v160ZM180-400h160v-160H180v160Zm440 0h160v-160H620v160ZM180-180h160v-160H180v160Zm440 0h160v-160H620v160Z\"/>\n",
              "  </svg>\n",
              "    </button>\n",
              "\n",
              "  <style>\n",
              "    .colab-df-container {\n",
              "      display:flex;\n",
              "      gap: 12px;\n",
              "    }\n",
              "\n",
              "    .colab-df-convert {\n",
              "      background-color: #E8F0FE;\n",
              "      border: none;\n",
              "      border-radius: 50%;\n",
              "      cursor: pointer;\n",
              "      display: none;\n",
              "      fill: #1967D2;\n",
              "      height: 32px;\n",
              "      padding: 0 0 0 0;\n",
              "      width: 32px;\n",
              "    }\n",
              "\n",
              "    .colab-df-convert:hover {\n",
              "      background-color: #E2EBFA;\n",
              "      box-shadow: 0px 1px 2px rgba(60, 64, 67, 0.3), 0px 1px 3px 1px rgba(60, 64, 67, 0.15);\n",
              "      fill: #174EA6;\n",
              "    }\n",
              "\n",
              "    .colab-df-buttons div {\n",
              "      margin-bottom: 4px;\n",
              "    }\n",
              "\n",
              "    [theme=dark] .colab-df-convert {\n",
              "      background-color: #3B4455;\n",
              "      fill: #D2E3FC;\n",
              "    }\n",
              "\n",
              "    [theme=dark] .colab-df-convert:hover {\n",
              "      background-color: #434B5C;\n",
              "      box-shadow: 0px 1px 3px 1px rgba(0, 0, 0, 0.15);\n",
              "      filter: drop-shadow(0px 1px 2px rgba(0, 0, 0, 0.3));\n",
              "      fill: #FFFFFF;\n",
              "    }\n",
              "  </style>\n",
              "\n",
              "    <script>\n",
              "      const buttonEl =\n",
              "        document.querySelector('#df-9b3dd3a3-74cb-429f-b57d-5f8d4985d15b button.colab-df-convert');\n",
              "      buttonEl.style.display =\n",
              "        google.colab.kernel.accessAllowed ? 'block' : 'none';\n",
              "\n",
              "      async function convertToInteractive(key) {\n",
              "        const element = document.querySelector('#df-9b3dd3a3-74cb-429f-b57d-5f8d4985d15b');\n",
              "        const dataTable =\n",
              "          await google.colab.kernel.invokeFunction('convertToInteractive',\n",
              "                                                    [key], {});\n",
              "        if (!dataTable) return;\n",
              "\n",
              "        const docLinkHtml = 'Like what you see? Visit the ' +\n",
              "          '<a target=\"_blank\" href=https://colab.research.google.com/notebooks/data_table.ipynb>data table notebook</a>'\n",
              "          + ' to learn more about interactive tables.';\n",
              "        element.innerHTML = '';\n",
              "        dataTable['output_type'] = 'display_data';\n",
              "        await google.colab.output.renderOutput(dataTable, element);\n",
              "        const docLink = document.createElement('div');\n",
              "        docLink.innerHTML = docLinkHtml;\n",
              "        element.appendChild(docLink);\n",
              "      }\n",
              "    </script>\n",
              "  </div>\n",
              "\n",
              "\n",
              "<div id=\"df-7c83878c-48aa-4b32-8849-33470eaa650a\">\n",
              "  <button class=\"colab-df-quickchart\" onclick=\"quickchart('df-7c83878c-48aa-4b32-8849-33470eaa650a')\"\n",
              "            title=\"Suggest charts\"\n",
              "            style=\"display:none;\">\n",
              "\n",
              "<svg xmlns=\"http://www.w3.org/2000/svg\" height=\"24px\"viewBox=\"0 0 24 24\"\n",
              "     width=\"24px\">\n",
              "    <g>\n",
              "        <path d=\"M19 3H5c-1.1 0-2 .9-2 2v14c0 1.1.9 2 2 2h14c1.1 0 2-.9 2-2V5c0-1.1-.9-2-2-2zM9 17H7v-7h2v7zm4 0h-2V7h2v10zm4 0h-2v-4h2v4z\"/>\n",
              "    </g>\n",
              "</svg>\n",
              "  </button>\n",
              "\n",
              "<style>\n",
              "  .colab-df-quickchart {\n",
              "      --bg-color: #E8F0FE;\n",
              "      --fill-color: #1967D2;\n",
              "      --hover-bg-color: #E2EBFA;\n",
              "      --hover-fill-color: #174EA6;\n",
              "      --disabled-fill-color: #AAA;\n",
              "      --disabled-bg-color: #DDD;\n",
              "  }\n",
              "\n",
              "  [theme=dark] .colab-df-quickchart {\n",
              "      --bg-color: #3B4455;\n",
              "      --fill-color: #D2E3FC;\n",
              "      --hover-bg-color: #434B5C;\n",
              "      --hover-fill-color: #FFFFFF;\n",
              "      --disabled-bg-color: #3B4455;\n",
              "      --disabled-fill-color: #666;\n",
              "  }\n",
              "\n",
              "  .colab-df-quickchart {\n",
              "    background-color: var(--bg-color);\n",
              "    border: none;\n",
              "    border-radius: 50%;\n",
              "    cursor: pointer;\n",
              "    display: none;\n",
              "    fill: var(--fill-color);\n",
              "    height: 32px;\n",
              "    padding: 0;\n",
              "    width: 32px;\n",
              "  }\n",
              "\n",
              "  .colab-df-quickchart:hover {\n",
              "    background-color: var(--hover-bg-color);\n",
              "    box-shadow: 0 1px 2px rgba(60, 64, 67, 0.3), 0 1px 3px 1px rgba(60, 64, 67, 0.15);\n",
              "    fill: var(--button-hover-fill-color);\n",
              "  }\n",
              "\n",
              "  .colab-df-quickchart-complete:disabled,\n",
              "  .colab-df-quickchart-complete:disabled:hover {\n",
              "    background-color: var(--disabled-bg-color);\n",
              "    fill: var(--disabled-fill-color);\n",
              "    box-shadow: none;\n",
              "  }\n",
              "\n",
              "  .colab-df-spinner {\n",
              "    border: 2px solid var(--fill-color);\n",
              "    border-color: transparent;\n",
              "    border-bottom-color: var(--fill-color);\n",
              "    animation:\n",
              "      spin 1s steps(1) infinite;\n",
              "  }\n",
              "\n",
              "  @keyframes spin {\n",
              "    0% {\n",
              "      border-color: transparent;\n",
              "      border-bottom-color: var(--fill-color);\n",
              "      border-left-color: var(--fill-color);\n",
              "    }\n",
              "    20% {\n",
              "      border-color: transparent;\n",
              "      border-left-color: var(--fill-color);\n",
              "      border-top-color: var(--fill-color);\n",
              "    }\n",
              "    30% {\n",
              "      border-color: transparent;\n",
              "      border-left-color: var(--fill-color);\n",
              "      border-top-color: var(--fill-color);\n",
              "      border-right-color: var(--fill-color);\n",
              "    }\n",
              "    40% {\n",
              "      border-color: transparent;\n",
              "      border-right-color: var(--fill-color);\n",
              "      border-top-color: var(--fill-color);\n",
              "    }\n",
              "    60% {\n",
              "      border-color: transparent;\n",
              "      border-right-color: var(--fill-color);\n",
              "    }\n",
              "    80% {\n",
              "      border-color: transparent;\n",
              "      border-right-color: var(--fill-color);\n",
              "      border-bottom-color: var(--fill-color);\n",
              "    }\n",
              "    90% {\n",
              "      border-color: transparent;\n",
              "      border-bottom-color: var(--fill-color);\n",
              "    }\n",
              "  }\n",
              "</style>\n",
              "\n",
              "  <script>\n",
              "    async function quickchart(key) {\n",
              "      const quickchartButtonEl =\n",
              "        document.querySelector('#' + key + ' button');\n",
              "      quickchartButtonEl.disabled = true;  // To prevent multiple clicks.\n",
              "      quickchartButtonEl.classList.add('colab-df-spinner');\n",
              "      try {\n",
              "        const charts = await google.colab.kernel.invokeFunction(\n",
              "            'suggestCharts', [key], {});\n",
              "      } catch (error) {\n",
              "        console.error('Error during call to suggestCharts:', error);\n",
              "      }\n",
              "      quickchartButtonEl.classList.remove('colab-df-spinner');\n",
              "      quickchartButtonEl.classList.add('colab-df-quickchart-complete');\n",
              "    }\n",
              "    (() => {\n",
              "      let quickchartButtonEl =\n",
              "        document.querySelector('#df-7c83878c-48aa-4b32-8849-33470eaa650a button');\n",
              "      quickchartButtonEl.style.display =\n",
              "        google.colab.kernel.accessAllowed ? 'block' : 'none';\n",
              "    })();\n",
              "  </script>\n",
              "</div>\n",
              "\n",
              "    </div>\n",
              "  </div>\n"
            ],
            "application/vnd.google.colaboratory.intrinsic+json": {
              "type": "dataframe",
              "variable_name": "df",
              "summary": "{\n  \"name\": \"df\",\n  \"rows\": 42786,\n  \"fields\": [\n    {\n      \"column\": \"URI\",\n      \"properties\": {\n        \"dtype\": \"string\",\n        \"num_unique_values\": 42786,\n        \"samples\": [\n          \"<http://dbpedia.org/resource/Tom_Bancroft>\",\n          \"<http://dbpedia.org/resource/Bart_Zeller>\",\n          \"<http://dbpedia.org/resource/Caitlin_Morrall>\"\n        ],\n        \"semantic_type\": \"\",\n        \"description\": \"\"\n      }\n    },\n    {\n      \"column\": \"name\",\n      \"properties\": {\n        \"dtype\": \"string\",\n        \"num_unique_values\": 42785,\n        \"samples\": [\n          \"Tom Bancroft\",\n          \"James Holt (scholar)\",\n          \"Chen Tze-chung\"\n        ],\n        \"semantic_type\": \"\",\n        \"description\": \"\"\n      }\n    },\n    {\n      \"column\": \"text\",\n      \"properties\": {\n        \"dtype\": \"string\",\n        \"num_unique_values\": 42786,\n        \"samples\": [\n          \"tom bancroft born 1967 london is a british jazz drummer and composer he began drumming aged seven and started off playing jazz with his father and identical twin brother phil after studying medicine at cambridge university he spent a year studying composition and arranging at mcgill university in montreal canada qualifying as a doctor in 1992 he then worked as a jazz musician and composer supporting his music income with locum work as a hospital doctor until 1998 when he began starting music related companies he is married to singer gina rae and has two children sam and sophie in 2004 he received the creative scotland awardin 1998 he launched caber music with support from the national lottery fund which went on to release over thirty cds over the next seven years to critical acclaim including two bbc jazz awards for best cd and numerous album of the year placings he has subsequently started the company abc creative music with his twin brother phil bancroft which develops creative music education resources which are now being used in more than 500 schools in scotlandas a drummer he has studied with jo morello joey baron and andrew cyrille and played with many musicians including sun ra joakim milder charlie mariano hamiett bluiett liane carroll oliver lake george colligan david berkman tommy smith julian argelles emil vicklicky martin taylor sheila jordan shooglenifty karen mathieson reid anderson billy jenkins bill wells geri allen mr mcfalls chamber and martyn bennetthe is currently the drummer with the dave milligan trio the chick lyall trio and kevin mackenzies vital signs the laura macdonald quartet and octet and plays in an improvising duo with the italian guitarist enzo roccohe is drummer and coleader of trio aab whose first album cold fusion was named an album of 1999 by bbc radio 3 and whose second album wherever i lay my home thats my hat was an album of 2001 in the guardian and picked in a list of 100 essential all time jazz albums by mojo magazine in 2001 they also released stranger things happen at c in 2002 reactivated in 2011 trio aab performed at the delhi jazz festivalas a band leader and composer he has led orchestro interrupto formerly the tom bancroft orchestra a contemporary jazz big band producing the album pieology in 1998 many festival performances a uk tour and a live concert broadcast on bbc radio 3 in 2004 the band toured the uk with geri allen and the tour was broadcast on bbc radio 3 and received five star reviews in the guardian and the scotsman and was voted jazz gig of the year in manchesters city limits and londons time out magazines orchestri interrupto released a cd in 2009 of the music from the geri allen tour with chick lyall on piano entitled the ballad of linda crawford bancroft has also composed for smaller groups including the orange ear ensemble octet and kilt couture a collaboration with french group arfi in 2006 he launched the new tom bancroft 6 pack as well as a spinoff childrens focussed band from the orchestra called kidsamonium which premiered at the gateshead international jazz festival at the sage gateshead and also at the cheltenham jazz festival in 2006 and went on to perform all over europebancrofts compositions have been used in radio film dance television and theatre he has been commissioned by bbc scotland bbc radio 3 glasgow international jazz festival assembly direct birmingham jazz and the national youth jazz orchestra of scotland he has danced in played and composed music for life on the planets surface with kelsey michael and a case for a picnic pt2 tracing houdini and hoops hats acrobats with the choreographer ruby worthhe has led many large scale community and education projects including 150 primary school children performing at the london jazz festival 200 at perth concert hall with classical percussionist colin currie and 100 parents grandparents and children playing drums and percussion at the big stix project at the gateshead jazz festivalbancroft is an active teacher and educator from private drum students to teaching composition and leading big bands he is an apple distinguished educator he has always been active in setting up new ways to promote jazz and improvisation he curated a series of mini festivals for uk and european musicians inside the glasgow jazz festival in the 1990s called clandemonium and europhonium he was active in setting up the scottish jazz federationin 2010 he was musical director of major dance show off kilter which played in major venues across scotland toured scotland with the dave milligan trio and premiered the band of eden malefemale big band to critical acclaimin late 2010 in his role at abc creative music bancroft launched the website abc creative music online to allow scottish schools to teach creative music by smartboard\",\n          \"barton wallace zeller born july 22 1941 is a former professional baseball catcher he played one game in major league baseball in 1970 for the st louis cardinals he recently served as manager of the joliet slammers of the frontier league but was released on september 10 2012zeller was signed by the cardinals in 1963 and spent four years in the cardinals farm system after missing the 1967 season he spent 1968 and 1969 with the lewiston broncs and arkansas travelers respectively zeller played in his only major league game on may 21 1970 against the philadelphia phillies he was inserted to catch the bottom of the ninth inning zeller never had a plate appearance but was credited with one put out on billy mccools strikeout of jim hutto zeller batted and threw righthanded his jersey number was 29 at the time of play he was 6 ft 1 in tall and weighed 185 lbzeller was released as an active player by the cardinals on june 8 but stayed on as a coach for the balance of the 1970 season he played in the minors in 1971 in the milwaukee brewers and new york yankees organizationszeller was the hitting coachthird base coach for the southern illinois miners of the frontier league an independent baseball league zeller began working for the miners in their inaugural 2007 season before coming to the miners zeller spent two seasons with the sioux falls canaries as a bench coach zeller was named as the first manager of slammers in january 2011zeller is currently managing the washington wild things of the frontier league\",\n          \"caitlin shea morrall machol born may 2 1983 is a beauty queen from burlington wisconsin who competed in the 2008 miss usa pageantmorrall who had previously competed in the miss wisconsin america system won the miss wisconsin usa 2007 title in the state pageant held at richland center on 2 september 2006 she competed in the nationally televised miss usa 2007 pageant which was broadcast live from the kodak theatre in hollywood california on march 23 2007 where she placed in top 15 this was the best finish by a contestant from wisconsin in 28 yearsin june 2006 morrall placed first runnerup in the miss wisconsin competition where she competed as miss burlington area chocolatefest she had previously placed 3rd runnerup in 2004 1st runnerup in 2003 and 2nd runnerup in 2002 morrall has held other local titles such as miss racine in 2002 miss milwaukee in 2003 and miss southern wisconsin in 2004 despite being eligible to compete in the miss america system for one more year morrall made the decision to compete in the miss wisconsin usa pageant one week before applications for the pageant closedmorrall is a 2001 graduate of burlington high school wisconsin and is a 2008 graduate of alverno college in milwaukee with a bachelor of arts degree in professional communicationcaitlin is currently the traffic reporter in the morning for wtmjtv 4\"\n        ],\n        \"semantic_type\": \"\",\n        \"description\": \"\"\n      }\n    }\n  ]\n}"
            }
          },
          "metadata": {},
          "execution_count": 10
        }
      ]
    },
    {
      "cell_type": "code",
      "source": [
        "df.tail()"
      ],
      "metadata": {
        "colab": {
          "base_uri": "https://localhost:8080/",
          "height": 501
        },
        "id": "NQxjQrg_oqLR",
        "outputId": "79feb09e-7d8d-4f78-a0da-b6d0687363b7"
      },
      "execution_count": null,
      "outputs": [
        {
          "output_type": "execute_result",
          "data": {
            "text/plain": [
              "                                                     URI  \\\n",
              "42781   <http://dbpedia.org/resource/Motoaki_Takenouchi>   \n",
              "42782  <http://dbpedia.org/resource/Alan_Judge_(footb...   \n",
              "42783         <http://dbpedia.org/resource/Eduardo_Lara>   \n",
              "42784  <http://dbpedia.org/resource/Tatiana_Faberg%C3...   \n",
              "42785       <http://dbpedia.org/resource/Kenneth_Thomas>   \n",
              "\n",
              "                                     name  \\\n",
              "42781                  Motoaki Takenouchi   \n",
              "42782  Alan Judge (footballer, born 1960)   \n",
              "42783                        Eduardo Lara   \n",
              "42784                Tatiana Faberg%C3%A9   \n",
              "42785                      Kenneth Thomas   \n",
              "\n",
              "                                                    text  \n",
              "42781  motoaki takenouchi born july 8 1967 saitama pr...  \n",
              "42782  alan graham judge born 14 may 1960 is a retire...  \n",
              "42783  eduardo lara lozano born 4 september 1959 in c...  \n",
              "42784  tatiana faberg is an author and faberg scholar...  \n",
              "42785  kenneth thomas born february 24 1938 was chief...  "
            ],
            "text/html": [
              "\n",
              "  <div id=\"df-7b73ecce-56d0-4098-8f24-50b0cda84355\" class=\"colab-df-container\">\n",
              "    <div>\n",
              "<style scoped>\n",
              "    .dataframe tbody tr th:only-of-type {\n",
              "        vertical-align: middle;\n",
              "    }\n",
              "\n",
              "    .dataframe tbody tr th {\n",
              "        vertical-align: top;\n",
              "    }\n",
              "\n",
              "    .dataframe thead th {\n",
              "        text-align: right;\n",
              "    }\n",
              "</style>\n",
              "<table border=\"1\" class=\"dataframe\">\n",
              "  <thead>\n",
              "    <tr style=\"text-align: right;\">\n",
              "      <th></th>\n",
              "      <th>URI</th>\n",
              "      <th>name</th>\n",
              "      <th>text</th>\n",
              "    </tr>\n",
              "  </thead>\n",
              "  <tbody>\n",
              "    <tr>\n",
              "      <th>42781</th>\n",
              "      <td>&lt;http://dbpedia.org/resource/Motoaki_Takenouchi&gt;</td>\n",
              "      <td>Motoaki Takenouchi</td>\n",
              "      <td>motoaki takenouchi born july 8 1967 saitama pr...</td>\n",
              "    </tr>\n",
              "    <tr>\n",
              "      <th>42782</th>\n",
              "      <td>&lt;http://dbpedia.org/resource/Alan_Judge_(footb...</td>\n",
              "      <td>Alan Judge (footballer, born 1960)</td>\n",
              "      <td>alan graham judge born 14 may 1960 is a retire...</td>\n",
              "    </tr>\n",
              "    <tr>\n",
              "      <th>42783</th>\n",
              "      <td>&lt;http://dbpedia.org/resource/Eduardo_Lara&gt;</td>\n",
              "      <td>Eduardo Lara</td>\n",
              "      <td>eduardo lara lozano born 4 september 1959 in c...</td>\n",
              "    </tr>\n",
              "    <tr>\n",
              "      <th>42784</th>\n",
              "      <td>&lt;http://dbpedia.org/resource/Tatiana_Faberg%C3...</td>\n",
              "      <td>Tatiana Faberg%C3%A9</td>\n",
              "      <td>tatiana faberg is an author and faberg scholar...</td>\n",
              "    </tr>\n",
              "    <tr>\n",
              "      <th>42785</th>\n",
              "      <td>&lt;http://dbpedia.org/resource/Kenneth_Thomas&gt;</td>\n",
              "      <td>Kenneth Thomas</td>\n",
              "      <td>kenneth thomas born february 24 1938 was chief...</td>\n",
              "    </tr>\n",
              "  </tbody>\n",
              "</table>\n",
              "</div>\n",
              "    <div class=\"colab-df-buttons\">\n",
              "\n",
              "  <div class=\"colab-df-container\">\n",
              "    <button class=\"colab-df-convert\" onclick=\"convertToInteractive('df-7b73ecce-56d0-4098-8f24-50b0cda84355')\"\n",
              "            title=\"Convert this dataframe to an interactive table.\"\n",
              "            style=\"display:none;\">\n",
              "\n",
              "  <svg xmlns=\"http://www.w3.org/2000/svg\" height=\"24px\" viewBox=\"0 -960 960 960\">\n",
              "    <path d=\"M120-120v-720h720v720H120Zm60-500h600v-160H180v160Zm220 220h160v-160H400v160Zm0 220h160v-160H400v160ZM180-400h160v-160H180v160Zm440 0h160v-160H620v160ZM180-180h160v-160H180v160Zm440 0h160v-160H620v160Z\"/>\n",
              "  </svg>\n",
              "    </button>\n",
              "\n",
              "  <style>\n",
              "    .colab-df-container {\n",
              "      display:flex;\n",
              "      gap: 12px;\n",
              "    }\n",
              "\n",
              "    .colab-df-convert {\n",
              "      background-color: #E8F0FE;\n",
              "      border: none;\n",
              "      border-radius: 50%;\n",
              "      cursor: pointer;\n",
              "      display: none;\n",
              "      fill: #1967D2;\n",
              "      height: 32px;\n",
              "      padding: 0 0 0 0;\n",
              "      width: 32px;\n",
              "    }\n",
              "\n",
              "    .colab-df-convert:hover {\n",
              "      background-color: #E2EBFA;\n",
              "      box-shadow: 0px 1px 2px rgba(60, 64, 67, 0.3), 0px 1px 3px 1px rgba(60, 64, 67, 0.15);\n",
              "      fill: #174EA6;\n",
              "    }\n",
              "\n",
              "    .colab-df-buttons div {\n",
              "      margin-bottom: 4px;\n",
              "    }\n",
              "\n",
              "    [theme=dark] .colab-df-convert {\n",
              "      background-color: #3B4455;\n",
              "      fill: #D2E3FC;\n",
              "    }\n",
              "\n",
              "    [theme=dark] .colab-df-convert:hover {\n",
              "      background-color: #434B5C;\n",
              "      box-shadow: 0px 1px 3px 1px rgba(0, 0, 0, 0.15);\n",
              "      filter: drop-shadow(0px 1px 2px rgba(0, 0, 0, 0.3));\n",
              "      fill: #FFFFFF;\n",
              "    }\n",
              "  </style>\n",
              "\n",
              "    <script>\n",
              "      const buttonEl =\n",
              "        document.querySelector('#df-7b73ecce-56d0-4098-8f24-50b0cda84355 button.colab-df-convert');\n",
              "      buttonEl.style.display =\n",
              "        google.colab.kernel.accessAllowed ? 'block' : 'none';\n",
              "\n",
              "      async function convertToInteractive(key) {\n",
              "        const element = document.querySelector('#df-7b73ecce-56d0-4098-8f24-50b0cda84355');\n",
              "        const dataTable =\n",
              "          await google.colab.kernel.invokeFunction('convertToInteractive',\n",
              "                                                    [key], {});\n",
              "        if (!dataTable) return;\n",
              "\n",
              "        const docLinkHtml = 'Like what you see? Visit the ' +\n",
              "          '<a target=\"_blank\" href=https://colab.research.google.com/notebooks/data_table.ipynb>data table notebook</a>'\n",
              "          + ' to learn more about interactive tables.';\n",
              "        element.innerHTML = '';\n",
              "        dataTable['output_type'] = 'display_data';\n",
              "        await google.colab.output.renderOutput(dataTable, element);\n",
              "        const docLink = document.createElement('div');\n",
              "        docLink.innerHTML = docLinkHtml;\n",
              "        element.appendChild(docLink);\n",
              "      }\n",
              "    </script>\n",
              "  </div>\n",
              "\n",
              "\n",
              "<div id=\"df-18d74e66-c7c4-4c56-83fb-d658d0c9fabc\">\n",
              "  <button class=\"colab-df-quickchart\" onclick=\"quickchart('df-18d74e66-c7c4-4c56-83fb-d658d0c9fabc')\"\n",
              "            title=\"Suggest charts\"\n",
              "            style=\"display:none;\">\n",
              "\n",
              "<svg xmlns=\"http://www.w3.org/2000/svg\" height=\"24px\"viewBox=\"0 0 24 24\"\n",
              "     width=\"24px\">\n",
              "    <g>\n",
              "        <path d=\"M19 3H5c-1.1 0-2 .9-2 2v14c0 1.1.9 2 2 2h14c1.1 0 2-.9 2-2V5c0-1.1-.9-2-2-2zM9 17H7v-7h2v7zm4 0h-2V7h2v10zm4 0h-2v-4h2v4z\"/>\n",
              "    </g>\n",
              "</svg>\n",
              "  </button>\n",
              "\n",
              "<style>\n",
              "  .colab-df-quickchart {\n",
              "      --bg-color: #E8F0FE;\n",
              "      --fill-color: #1967D2;\n",
              "      --hover-bg-color: #E2EBFA;\n",
              "      --hover-fill-color: #174EA6;\n",
              "      --disabled-fill-color: #AAA;\n",
              "      --disabled-bg-color: #DDD;\n",
              "  }\n",
              "\n",
              "  [theme=dark] .colab-df-quickchart {\n",
              "      --bg-color: #3B4455;\n",
              "      --fill-color: #D2E3FC;\n",
              "      --hover-bg-color: #434B5C;\n",
              "      --hover-fill-color: #FFFFFF;\n",
              "      --disabled-bg-color: #3B4455;\n",
              "      --disabled-fill-color: #666;\n",
              "  }\n",
              "\n",
              "  .colab-df-quickchart {\n",
              "    background-color: var(--bg-color);\n",
              "    border: none;\n",
              "    border-radius: 50%;\n",
              "    cursor: pointer;\n",
              "    display: none;\n",
              "    fill: var(--fill-color);\n",
              "    height: 32px;\n",
              "    padding: 0;\n",
              "    width: 32px;\n",
              "  }\n",
              "\n",
              "  .colab-df-quickchart:hover {\n",
              "    background-color: var(--hover-bg-color);\n",
              "    box-shadow: 0 1px 2px rgba(60, 64, 67, 0.3), 0 1px 3px 1px rgba(60, 64, 67, 0.15);\n",
              "    fill: var(--button-hover-fill-color);\n",
              "  }\n",
              "\n",
              "  .colab-df-quickchart-complete:disabled,\n",
              "  .colab-df-quickchart-complete:disabled:hover {\n",
              "    background-color: var(--disabled-bg-color);\n",
              "    fill: var(--disabled-fill-color);\n",
              "    box-shadow: none;\n",
              "  }\n",
              "\n",
              "  .colab-df-spinner {\n",
              "    border: 2px solid var(--fill-color);\n",
              "    border-color: transparent;\n",
              "    border-bottom-color: var(--fill-color);\n",
              "    animation:\n",
              "      spin 1s steps(1) infinite;\n",
              "  }\n",
              "\n",
              "  @keyframes spin {\n",
              "    0% {\n",
              "      border-color: transparent;\n",
              "      border-bottom-color: var(--fill-color);\n",
              "      border-left-color: var(--fill-color);\n",
              "    }\n",
              "    20% {\n",
              "      border-color: transparent;\n",
              "      border-left-color: var(--fill-color);\n",
              "      border-top-color: var(--fill-color);\n",
              "    }\n",
              "    30% {\n",
              "      border-color: transparent;\n",
              "      border-left-color: var(--fill-color);\n",
              "      border-top-color: var(--fill-color);\n",
              "      border-right-color: var(--fill-color);\n",
              "    }\n",
              "    40% {\n",
              "      border-color: transparent;\n",
              "      border-right-color: var(--fill-color);\n",
              "      border-top-color: var(--fill-color);\n",
              "    }\n",
              "    60% {\n",
              "      border-color: transparent;\n",
              "      border-right-color: var(--fill-color);\n",
              "    }\n",
              "    80% {\n",
              "      border-color: transparent;\n",
              "      border-right-color: var(--fill-color);\n",
              "      border-bottom-color: var(--fill-color);\n",
              "    }\n",
              "    90% {\n",
              "      border-color: transparent;\n",
              "      border-bottom-color: var(--fill-color);\n",
              "    }\n",
              "  }\n",
              "</style>\n",
              "\n",
              "  <script>\n",
              "    async function quickchart(key) {\n",
              "      const quickchartButtonEl =\n",
              "        document.querySelector('#' + key + ' button');\n",
              "      quickchartButtonEl.disabled = true;  // To prevent multiple clicks.\n",
              "      quickchartButtonEl.classList.add('colab-df-spinner');\n",
              "      try {\n",
              "        const charts = await google.colab.kernel.invokeFunction(\n",
              "            'suggestCharts', [key], {});\n",
              "      } catch (error) {\n",
              "        console.error('Error during call to suggestCharts:', error);\n",
              "      }\n",
              "      quickchartButtonEl.classList.remove('colab-df-spinner');\n",
              "      quickchartButtonEl.classList.add('colab-df-quickchart-complete');\n",
              "    }\n",
              "    (() => {\n",
              "      let quickchartButtonEl =\n",
              "        document.querySelector('#df-18d74e66-c7c4-4c56-83fb-d658d0c9fabc button');\n",
              "      quickchartButtonEl.style.display =\n",
              "        google.colab.kernel.accessAllowed ? 'block' : 'none';\n",
              "    })();\n",
              "  </script>\n",
              "</div>\n",
              "\n",
              "    </div>\n",
              "  </div>\n"
            ],
            "application/vnd.google.colaboratory.intrinsic+json": {
              "type": "dataframe",
              "summary": "{\n  \"name\": \"df\",\n  \"rows\": 5,\n  \"fields\": [\n    {\n      \"column\": \"URI\",\n      \"properties\": {\n        \"dtype\": \"string\",\n        \"num_unique_values\": 5,\n        \"samples\": [\n          \"<http://dbpedia.org/resource/Alan_Judge_(footballer,_born_1960)>\",\n          \"<http://dbpedia.org/resource/Kenneth_Thomas>\",\n          \"<http://dbpedia.org/resource/Eduardo_Lara>\"\n        ],\n        \"semantic_type\": \"\",\n        \"description\": \"\"\n      }\n    },\n    {\n      \"column\": \"name\",\n      \"properties\": {\n        \"dtype\": \"string\",\n        \"num_unique_values\": 5,\n        \"samples\": [\n          \"Alan Judge (footballer, born 1960)\",\n          \"Kenneth Thomas\",\n          \"Eduardo Lara\"\n        ],\n        \"semantic_type\": \"\",\n        \"description\": \"\"\n      }\n    },\n    {\n      \"column\": \"text\",\n      \"properties\": {\n        \"dtype\": \"string\",\n        \"num_unique_values\": 5,\n        \"samples\": [\n          \"alan graham judge born 14 may 1960 is a retired professional footballer who is the seventh oldest player to play in the football league he played as a goalkeeperduring his career he played for various clubs at all tiers of the league he was part of the oxford united team which won the milk cup in 1986 he also briefly served as a backup goalkeeper for chelsea in the european cup winners cupoften referred to as the judge after retiring from the professional game alan worked as a driving instructor and goalkeeping coach at several clubs including swindon and oxford occasionally acting as emergency goalkeeping cover in 2001 he organised a rerun of the 1986 milk cup final against qpr for charity on 18 march 2003 at the age of 42 he played his first football league match since leaving hereford united in 1994 he helped oxford to a 11 draw with cambridge united making a vital save in stoppage time during the 200304 season he also made several appearances for didcot town he made a second appearance for oxford on 6 november 2004 at the age of 44 years and 176 days this made him the seventh oldest footballer ever to have appeared in the football league or premier league 1judge now plays for banbury united and has made 17 league appearances so far this season he is also a goalkeeping coach at oxford city\",\n          \"kenneth thomas born february 24 1938 was chief financial officer of the united states chess federation from april 23 to december 31 2004 he took over the position of cfo of the uscf during a period of great financial distress with the uscf having lost money seven years in a row with total losses amounting to 17 million he was hired by bill goichberg because the uscf was in severe financial difficulty he agreed to work for far below the normal salary he restored the federation to profitability and financial solvencyken thomas was born in mead oklahoma during the great dust bowl three of his siblings died of starvation and ken nearly died as well after world war ii ken with his family moved to new jersey he graduated from bound brook high school therekenneth thomas served in the us army ordnance corps from 1961 to 1964 as a sergeant he worked in nuclear weapon assembly he worked in the nuclear weapons laboratory in sandia base near albuquerque new mexico he was a mechanic in the internal workings of nuclear weaponslater he was transferred to ldenscheid west germany and attached to the german army the bundeswehr where he worked on secret weapons in the british sector he speaks german he traveled all over western europe arming and disarming nuclear weapons he also played chess there and twice participated in the european army championships in kaiserslautern germanyafter completing his military service he graduated from the university of houston in 1972 with a bachelor of business administration and from that scho\",\n          \"eduardo lara lozano born 4 september 1959 in cali is a colombian football managereduardo lara is the current colombian youth coach who coaches all levels of the youth nt after reynaldo rueda was promoted to coaching the senior team lara is a very strict man and has left many players off the youth squads even important players like dayro moreno and currently four starters of the under 17 team that were supposed to go to the under 17 world cup in korea but were kicked off the team for drinkinghe led colombian under 20s in 2005 to win the sudamericana and to the world cup where they lost in the quarterfinals to argentina the eventual champions in 2007 his under 20s failed to make it to the world cup but qualified the under 17s to the world cup in korea by finishing 2nd in the sudamericana by goal difference to brasilon september 19 2008 he was named as a provisional manager for major colombian football team as jorge luis pinto was dismissed by the board of colombian football federation he will lead the team for the matches against paraguay and brazil for 2010 world cup qualifiershe also has led the 20s on the 2011 world cup in colombia in which the colombian team beat france 41 mali 20 and korea 10 on the group stage on the round of 16 the colombian team beat costa rica 32 and on quarter finals was beat by mexico 13\"\n        ],\n        \"semantic_type\": \"\",\n        \"description\": \"\"\n      }\n    }\n  ]\n}"
            }
          },
          "metadata": {},
          "execution_count": 11
        }
      ]
    },
    {
      "cell_type": "code",
      "source": [
        "df.iloc[42]['text']\n",
        "#Note: spelling errors"
      ],
      "metadata": {
        "colab": {
          "base_uri": "https://localhost:8080/",
          "height": 250
        },
        "id": "W1TBGLLhL4oG",
        "outputId": "2278c854-4eff-4284-cdf0-643df07e44c9"
      },
      "execution_count": null,
      "outputs": [
        {
          "output_type": "execute_result",
          "data": {
            "text/plain": [
              "'sylvie roy born november 4 1964 in la tuque quebec is a politician in quebec canada and the coalition avenir qubec member of the national assembly for the electoral district of arthabaska she previously represented the riding of lotbinire from 2003 until 2012 initially as a member of the nowdefunct adq until the merger of that party into the caq in 2012she was awarded a law degree from universit laval in 1987 and admitted to the barreau du qubec in 1988 she was lawyer for 15 years including 12 years for mental health organizations in mauricie she served as mayor of saintsophiedelvrard from 1998 to 2003 she also worked for the bcancour regional county municipality quebecroy was first elected to the national assembly in the 2003 election with 37 of the voteparti qubcois pq incumbent jeanguy par finished third with 26 of the votein the 2007 election roy was easily reelected with 59 of the vote liberal candidate laurent boissonneault finished second with 22 of the voteon march 29 2007 roy was appointed deputy official opposition house leaderin the 2008 election roy won reelection with 44 of the vote even though her partys support sharply declined and party leader mario dumont announced his resignation on february 27 2009 she was named the interim leader of the adq until gilles taillon became the permanent leader later that year the adq merged with the caq in 2012 and roy was reelected in the 2012 election'"
            ],
            "application/vnd.google.colaboratory.intrinsic+json": {
              "type": "string"
            }
          },
          "metadata": {},
          "execution_count": 12
        }
      ]
    },
    {
      "cell_type": "code",
      "source": [
        "# Determine the sentiment associated with text for row 42, Sylvie Roy, Canadian politician.\n",
        "text_sentiment = df.iloc[42]['text']\n",
        "text_sentiment = TextBlob(text_sentiment)\n",
        "text_sentiment.sentiment"
      ],
      "metadata": {
        "colab": {
          "base_uri": "https://localhost:8080/"
        },
        "id": "uCoU6hrYMdPx",
        "outputId": "04c0d6e1-b00f-4d46-911b-266b8a419a07"
      },
      "execution_count": null,
      "outputs": [
        {
          "output_type": "execute_result",
          "data": {
            "text/plain": [
              "Sentiment(polarity=0.03240740740740741, subjectivity=0.2537037037037037)"
            ]
          },
          "metadata": {},
          "execution_count": 13
        }
      ]
    },
    {
      "cell_type": "code",
      "source": [
        "# Perform the count transformation\n",
        "vectorizer = CountVectorizer(stop_words='english')\n",
        "# Access the 'text' column of the DataFrame\n",
        "bow_vec = vectorizer.fit_transform(df.iloc[:]['text']) #slicing out the text column as a vector\n",
        "bow_vec\n",
        "#returns a bag of words vector for all 42k+"
      ],
      "metadata": {
        "colab": {
          "base_uri": "https://localhost:8080/"
        },
        "id": "-fpNnab6Nt9b",
        "outputId": "22976f7a-172e-4c8f-87a8-4a8de1814bda"
      },
      "execution_count": null,
      "outputs": [
        {
          "output_type": "execute_result",
          "data": {
            "text/plain": [
              "<42786x437190 sparse matrix of type '<class 'numpy.int64'>'\n",
              "\twith 5847547 stored elements in Compressed Sparse Row format>"
            ]
          },
          "metadata": {},
          "execution_count": 14
        }
      ]
    },
    {
      "cell_type": "code",
      "source": [
        "#bow_vec.toarray()"
      ],
      "metadata": {
        "id": "W9-vigMEOdAw"
      },
      "execution_count": null,
      "outputs": []
    },
    {
      "cell_type": "code",
      "source": [
        "#tf-idf\n",
        "tfidf = TfidfTransformer()\n",
        "tfidf_vec = tfidf.fit_transform(bow_vec)\n",
        "tfidf_vec  #a sparse matrix"
      ],
      "metadata": {
        "colab": {
          "base_uri": "https://localhost:8080/"
        },
        "id": "mD6nchEZTtoi",
        "outputId": "5957fed7-e9ef-4806-f0b9-13c55e9585a4"
      },
      "execution_count": null,
      "outputs": [
        {
          "output_type": "execute_result",
          "data": {
            "text/plain": [
              "<42786x437190 sparse matrix of type '<class 'numpy.float64'>'\n",
              "\twith 5847547 stored elements in Compressed Sparse Row format>"
            ]
          },
          "metadata": {},
          "execution_count": 16
        }
      ]
    },
    {
      "cell_type": "code",
      "execution_count": null,
      "metadata": {
        "id": "yRWvvK4t-xjr"
      },
      "outputs": [],
      "source": [
        "nn = NearestNeighbors().fit(tfidf_vec)\n"
      ]
    },
    {
      "cell_type": "markdown",
      "metadata": {
        "id": "gera5zE3cIKq"
      },
      "source": [
        "Get nearest neighbors distances to first sentence\n"
      ]
    },
    {
      "cell_type": "markdown",
      "source": [],
      "metadata": {
        "id": "M6mDCMTIUfPD"
      }
    },
    {
      "cell_type": "code",
      "execution_count": null,
      "metadata": {
        "id": "iHMcIZHr-zHg"
      },
      "outputs": [],
      "source": [
        "distances, indices = nn.kneighbors(\n",
        "  X = tfidf_vec[42],\n",
        "  n_neighbors = 11)\n",
        "\n"
      ]
    },
    {
      "cell_type": "code",
      "execution_count": null,
      "metadata": {
        "id": "hL_E2hcd-1TV",
        "colab": {
          "base_uri": "https://localhost:8080/"
        },
        "outputId": "c0d3f20f-46bd-40ac-fcc0-baab3488ce9b"
      },
      "outputs": [
        {
          "output_type": "execute_result",
          "data": {
            "text/plain": [
              "array([[0.        , 1.14739967, 1.17374642, 1.18171971, 1.20426593,\n",
              "        1.20595633, 1.22422289, 1.23227593, 1.25966377, 1.26066425,\n",
              "        1.26560136]])"
            ]
          },
          "metadata": {},
          "execution_count": 19
        }
      ],
      "source": [
        "distances\n"
      ]
    },
    {
      "cell_type": "code",
      "execution_count": null,
      "metadata": {
        "id": "1Yh33IuK-2GT",
        "colab": {
          "base_uri": "https://localhost:8080/"
        },
        "outputId": "66786de5-2e3c-4fb0-b5ee-348145aefbbf"
      },
      "outputs": [
        {
          "output_type": "execute_result",
          "data": {
            "text/plain": [
              "array([[   42, 32591,  7862, 36314,  1859, 36099, 40841, 27224, 20278,\n",
              "        26944, 18123]])"
            ]
          },
          "metadata": {},
          "execution_count": 20
        }
      ],
      "source": [
        "indices\n"
      ]
    },
    {
      "cell_type": "code",
      "source": [
        "indices[0]"
      ],
      "metadata": {
        "colab": {
          "base_uri": "https://localhost:8080/"
        },
        "id": "6I99YxSjW1U1",
        "outputId": "bcf8541e-a3c9-47c8-b388-13a634c6de60"
      },
      "execution_count": null,
      "outputs": [
        {
          "output_type": "execute_result",
          "data": {
            "text/plain": [
              "array([   42, 32591,  7862, 36314,  1859, 36099, 40841, 27224, 20278,\n",
              "       26944, 18123])"
            ]
          },
          "metadata": {},
          "execution_count": 21
        }
      ]
    },
    {
      "cell_type": "code",
      "source": [
        "df.iloc[indices[0]]"
      ],
      "metadata": {
        "colab": {
          "base_uri": "https://localhost:8080/",
          "height": 1000
        },
        "id": "vJYSpC8pUwpB",
        "outputId": "cce73070-f911-4ecb-b75c-67b90d091412"
      },
      "execution_count": null,
      "outputs": [
        {
          "output_type": "execute_result",
          "data": {
            "text/plain": [
              "                                                     URI  \\\n",
              "42              <http://dbpedia.org/resource/Sylvie_Roy>   \n",
              "32591      <http://dbpedia.org/resource/%C3%89ric_Caire>   \n",
              "7862   <http://dbpedia.org/resource/Claude_Roy_(polit...   \n",
              "36314          <http://dbpedia.org/resource/Marc_Picard>   \n",
              "1859   <http://dbpedia.org/resource/Simon-Pierre_Diam...   \n",
              "36099      <http://dbpedia.org/resource/Janvier_Grondin>   \n",
              "40841  <http://dbpedia.org/resource/Sylvain_L%C3%A9ga...   \n",
              "27224  <http://dbpedia.org/resource/Catherine_Morisse...   \n",
              "20278       <http://dbpedia.org/resource/Roger_Bertrand>   \n",
              "26944        <http://dbpedia.org/resource/Norbert_Morin>   \n",
              "18123  <http://dbpedia.org/resource/S%C3%A9bastien_Sc...   \n",
              "\n",
              "                              name  \\\n",
              "42                      Sylvie Roy   \n",
              "32591              %C3%89ric Caire   \n",
              "7862       Claude Roy (politician)   \n",
              "36314                  Marc Picard   \n",
              "1859          Simon-Pierre Diamond   \n",
              "36099              Janvier Grondin   \n",
              "40841     Sylvain L%C3%A9gar%C3%A9   \n",
              "27224         Catherine Morissette   \n",
              "20278               Roger Bertrand   \n",
              "26944                Norbert Morin   \n",
              "18123  S%C3%A9bastien Schneeberger   \n",
              "\n",
              "                                                    text  \n",
              "42     sylvie roy born november 4 1964 in la tuque qu...  \n",
              "32591  ric caire born may 21 1965 in soreltracy quebe...  \n",
              "7862   claude roy born april 25 1952 in montmagny que...  \n",
              "36314  marc picard born april 25 1955 in saintraphal ...  \n",
              "1859   simonpierre diamond born february 9 1985 in bo...  \n",
              "36099  janvier grondin born on june 16 1947 in saintj...  \n",
              "40841  sylvain lgar born october 22 1970 in quebec ci...  \n",
              "27224  catherine morissette born february 3 1979 in q...  \n",
              "20278  roger bertrand born july 26 1947 is an economi...  \n",
              "26944  norbert morin born december 16 1945 is a polit...  \n",
              "18123  sbastien schneeberger born august 3 1973 is a ...  "
            ],
            "text/html": [
              "\n",
              "  <div id=\"df-55d3ec1c-1365-4c42-b323-d82e860298e2\" class=\"colab-df-container\">\n",
              "    <div>\n",
              "<style scoped>\n",
              "    .dataframe tbody tr th:only-of-type {\n",
              "        vertical-align: middle;\n",
              "    }\n",
              "\n",
              "    .dataframe tbody tr th {\n",
              "        vertical-align: top;\n",
              "    }\n",
              "\n",
              "    .dataframe thead th {\n",
              "        text-align: right;\n",
              "    }\n",
              "</style>\n",
              "<table border=\"1\" class=\"dataframe\">\n",
              "  <thead>\n",
              "    <tr style=\"text-align: right;\">\n",
              "      <th></th>\n",
              "      <th>URI</th>\n",
              "      <th>name</th>\n",
              "      <th>text</th>\n",
              "    </tr>\n",
              "  </thead>\n",
              "  <tbody>\n",
              "    <tr>\n",
              "      <th>42</th>\n",
              "      <td>&lt;http://dbpedia.org/resource/Sylvie_Roy&gt;</td>\n",
              "      <td>Sylvie Roy</td>\n",
              "      <td>sylvie roy born november 4 1964 in la tuque qu...</td>\n",
              "    </tr>\n",
              "    <tr>\n",
              "      <th>32591</th>\n",
              "      <td>&lt;http://dbpedia.org/resource/%C3%89ric_Caire&gt;</td>\n",
              "      <td>%C3%89ric Caire</td>\n",
              "      <td>ric caire born may 21 1965 in soreltracy quebe...</td>\n",
              "    </tr>\n",
              "    <tr>\n",
              "      <th>7862</th>\n",
              "      <td>&lt;http://dbpedia.org/resource/Claude_Roy_(polit...</td>\n",
              "      <td>Claude Roy (politician)</td>\n",
              "      <td>claude roy born april 25 1952 in montmagny que...</td>\n",
              "    </tr>\n",
              "    <tr>\n",
              "      <th>36314</th>\n",
              "      <td>&lt;http://dbpedia.org/resource/Marc_Picard&gt;</td>\n",
              "      <td>Marc Picard</td>\n",
              "      <td>marc picard born april 25 1955 in saintraphal ...</td>\n",
              "    </tr>\n",
              "    <tr>\n",
              "      <th>1859</th>\n",
              "      <td>&lt;http://dbpedia.org/resource/Simon-Pierre_Diam...</td>\n",
              "      <td>Simon-Pierre Diamond</td>\n",
              "      <td>simonpierre diamond born february 9 1985 in bo...</td>\n",
              "    </tr>\n",
              "    <tr>\n",
              "      <th>36099</th>\n",
              "      <td>&lt;http://dbpedia.org/resource/Janvier_Grondin&gt;</td>\n",
              "      <td>Janvier Grondin</td>\n",
              "      <td>janvier grondin born on june 16 1947 in saintj...</td>\n",
              "    </tr>\n",
              "    <tr>\n",
              "      <th>40841</th>\n",
              "      <td>&lt;http://dbpedia.org/resource/Sylvain_L%C3%A9ga...</td>\n",
              "      <td>Sylvain L%C3%A9gar%C3%A9</td>\n",
              "      <td>sylvain lgar born october 22 1970 in quebec ci...</td>\n",
              "    </tr>\n",
              "    <tr>\n",
              "      <th>27224</th>\n",
              "      <td>&lt;http://dbpedia.org/resource/Catherine_Morisse...</td>\n",
              "      <td>Catherine Morissette</td>\n",
              "      <td>catherine morissette born february 3 1979 in q...</td>\n",
              "    </tr>\n",
              "    <tr>\n",
              "      <th>20278</th>\n",
              "      <td>&lt;http://dbpedia.org/resource/Roger_Bertrand&gt;</td>\n",
              "      <td>Roger Bertrand</td>\n",
              "      <td>roger bertrand born july 26 1947 is an economi...</td>\n",
              "    </tr>\n",
              "    <tr>\n",
              "      <th>26944</th>\n",
              "      <td>&lt;http://dbpedia.org/resource/Norbert_Morin&gt;</td>\n",
              "      <td>Norbert Morin</td>\n",
              "      <td>norbert morin born december 16 1945 is a polit...</td>\n",
              "    </tr>\n",
              "    <tr>\n",
              "      <th>18123</th>\n",
              "      <td>&lt;http://dbpedia.org/resource/S%C3%A9bastien_Sc...</td>\n",
              "      <td>S%C3%A9bastien Schneeberger</td>\n",
              "      <td>sbastien schneeberger born august 3 1973 is a ...</td>\n",
              "    </tr>\n",
              "  </tbody>\n",
              "</table>\n",
              "</div>\n",
              "    <div class=\"colab-df-buttons\">\n",
              "\n",
              "  <div class=\"colab-df-container\">\n",
              "    <button class=\"colab-df-convert\" onclick=\"convertToInteractive('df-55d3ec1c-1365-4c42-b323-d82e860298e2')\"\n",
              "            title=\"Convert this dataframe to an interactive table.\"\n",
              "            style=\"display:none;\">\n",
              "\n",
              "  <svg xmlns=\"http://www.w3.org/2000/svg\" height=\"24px\" viewBox=\"0 -960 960 960\">\n",
              "    <path d=\"M120-120v-720h720v720H120Zm60-500h600v-160H180v160Zm220 220h160v-160H400v160Zm0 220h160v-160H400v160ZM180-400h160v-160H180v160Zm440 0h160v-160H620v160ZM180-180h160v-160H180v160Zm440 0h160v-160H620v160Z\"/>\n",
              "  </svg>\n",
              "    </button>\n",
              "\n",
              "  <style>\n",
              "    .colab-df-container {\n",
              "      display:flex;\n",
              "      gap: 12px;\n",
              "    }\n",
              "\n",
              "    .colab-df-convert {\n",
              "      background-color: #E8F0FE;\n",
              "      border: none;\n",
              "      border-radius: 50%;\n",
              "      cursor: pointer;\n",
              "      display: none;\n",
              "      fill: #1967D2;\n",
              "      height: 32px;\n",
              "      padding: 0 0 0 0;\n",
              "      width: 32px;\n",
              "    }\n",
              "\n",
              "    .colab-df-convert:hover {\n",
              "      background-color: #E2EBFA;\n",
              "      box-shadow: 0px 1px 2px rgba(60, 64, 67, 0.3), 0px 1px 3px 1px rgba(60, 64, 67, 0.15);\n",
              "      fill: #174EA6;\n",
              "    }\n",
              "\n",
              "    .colab-df-buttons div {\n",
              "      margin-bottom: 4px;\n",
              "    }\n",
              "\n",
              "    [theme=dark] .colab-df-convert {\n",
              "      background-color: #3B4455;\n",
              "      fill: #D2E3FC;\n",
              "    }\n",
              "\n",
              "    [theme=dark] .colab-df-convert:hover {\n",
              "      background-color: #434B5C;\n",
              "      box-shadow: 0px 1px 3px 1px rgba(0, 0, 0, 0.15);\n",
              "      filter: drop-shadow(0px 1px 2px rgba(0, 0, 0, 0.3));\n",
              "      fill: #FFFFFF;\n",
              "    }\n",
              "  </style>\n",
              "\n",
              "    <script>\n",
              "      const buttonEl =\n",
              "        document.querySelector('#df-55d3ec1c-1365-4c42-b323-d82e860298e2 button.colab-df-convert');\n",
              "      buttonEl.style.display =\n",
              "        google.colab.kernel.accessAllowed ? 'block' : 'none';\n",
              "\n",
              "      async function convertToInteractive(key) {\n",
              "        const element = document.querySelector('#df-55d3ec1c-1365-4c42-b323-d82e860298e2');\n",
              "        const dataTable =\n",
              "          await google.colab.kernel.invokeFunction('convertToInteractive',\n",
              "                                                    [key], {});\n",
              "        if (!dataTable) return;\n",
              "\n",
              "        const docLinkHtml = 'Like what you see? Visit the ' +\n",
              "          '<a target=\"_blank\" href=https://colab.research.google.com/notebooks/data_table.ipynb>data table notebook</a>'\n",
              "          + ' to learn more about interactive tables.';\n",
              "        element.innerHTML = '';\n",
              "        dataTable['output_type'] = 'display_data';\n",
              "        await google.colab.output.renderOutput(dataTable, element);\n",
              "        const docLink = document.createElement('div');\n",
              "        docLink.innerHTML = docLinkHtml;\n",
              "        element.appendChild(docLink);\n",
              "      }\n",
              "    </script>\n",
              "  </div>\n",
              "\n",
              "\n",
              "<div id=\"df-bf9dca0a-ba6f-43a1-a5f1-2d354e2cbf49\">\n",
              "  <button class=\"colab-df-quickchart\" onclick=\"quickchart('df-bf9dca0a-ba6f-43a1-a5f1-2d354e2cbf49')\"\n",
              "            title=\"Suggest charts\"\n",
              "            style=\"display:none;\">\n",
              "\n",
              "<svg xmlns=\"http://www.w3.org/2000/svg\" height=\"24px\"viewBox=\"0 0 24 24\"\n",
              "     width=\"24px\">\n",
              "    <g>\n",
              "        <path d=\"M19 3H5c-1.1 0-2 .9-2 2v14c0 1.1.9 2 2 2h14c1.1 0 2-.9 2-2V5c0-1.1-.9-2-2-2zM9 17H7v-7h2v7zm4 0h-2V7h2v10zm4 0h-2v-4h2v4z\"/>\n",
              "    </g>\n",
              "</svg>\n",
              "  </button>\n",
              "\n",
              "<style>\n",
              "  .colab-df-quickchart {\n",
              "      --bg-color: #E8F0FE;\n",
              "      --fill-color: #1967D2;\n",
              "      --hover-bg-color: #E2EBFA;\n",
              "      --hover-fill-color: #174EA6;\n",
              "      --disabled-fill-color: #AAA;\n",
              "      --disabled-bg-color: #DDD;\n",
              "  }\n",
              "\n",
              "  [theme=dark] .colab-df-quickchart {\n",
              "      --bg-color: #3B4455;\n",
              "      --fill-color: #D2E3FC;\n",
              "      --hover-bg-color: #434B5C;\n",
              "      --hover-fill-color: #FFFFFF;\n",
              "      --disabled-bg-color: #3B4455;\n",
              "      --disabled-fill-color: #666;\n",
              "  }\n",
              "\n",
              "  .colab-df-quickchart {\n",
              "    background-color: var(--bg-color);\n",
              "    border: none;\n",
              "    border-radius: 50%;\n",
              "    cursor: pointer;\n",
              "    display: none;\n",
              "    fill: var(--fill-color);\n",
              "    height: 32px;\n",
              "    padding: 0;\n",
              "    width: 32px;\n",
              "  }\n",
              "\n",
              "  .colab-df-quickchart:hover {\n",
              "    background-color: var(--hover-bg-color);\n",
              "    box-shadow: 0 1px 2px rgba(60, 64, 67, 0.3), 0 1px 3px 1px rgba(60, 64, 67, 0.15);\n",
              "    fill: var(--button-hover-fill-color);\n",
              "  }\n",
              "\n",
              "  .colab-df-quickchart-complete:disabled,\n",
              "  .colab-df-quickchart-complete:disabled:hover {\n",
              "    background-color: var(--disabled-bg-color);\n",
              "    fill: var(--disabled-fill-color);\n",
              "    box-shadow: none;\n",
              "  }\n",
              "\n",
              "  .colab-df-spinner {\n",
              "    border: 2px solid var(--fill-color);\n",
              "    border-color: transparent;\n",
              "    border-bottom-color: var(--fill-color);\n",
              "    animation:\n",
              "      spin 1s steps(1) infinite;\n",
              "  }\n",
              "\n",
              "  @keyframes spin {\n",
              "    0% {\n",
              "      border-color: transparent;\n",
              "      border-bottom-color: var(--fill-color);\n",
              "      border-left-color: var(--fill-color);\n",
              "    }\n",
              "    20% {\n",
              "      border-color: transparent;\n",
              "      border-left-color: var(--fill-color);\n",
              "      border-top-color: var(--fill-color);\n",
              "    }\n",
              "    30% {\n",
              "      border-color: transparent;\n",
              "      border-left-color: var(--fill-color);\n",
              "      border-top-color: var(--fill-color);\n",
              "      border-right-color: var(--fill-color);\n",
              "    }\n",
              "    40% {\n",
              "      border-color: transparent;\n",
              "      border-right-color: var(--fill-color);\n",
              "      border-top-color: var(--fill-color);\n",
              "    }\n",
              "    60% {\n",
              "      border-color: transparent;\n",
              "      border-right-color: var(--fill-color);\n",
              "    }\n",
              "    80% {\n",
              "      border-color: transparent;\n",
              "      border-right-color: var(--fill-color);\n",
              "      border-bottom-color: var(--fill-color);\n",
              "    }\n",
              "    90% {\n",
              "      border-color: transparent;\n",
              "      border-bottom-color: var(--fill-color);\n",
              "    }\n",
              "  }\n",
              "</style>\n",
              "\n",
              "  <script>\n",
              "    async function quickchart(key) {\n",
              "      const quickchartButtonEl =\n",
              "        document.querySelector('#' + key + ' button');\n",
              "      quickchartButtonEl.disabled = true;  // To prevent multiple clicks.\n",
              "      quickchartButtonEl.classList.add('colab-df-spinner');\n",
              "      try {\n",
              "        const charts = await google.colab.kernel.invokeFunction(\n",
              "            'suggestCharts', [key], {});\n",
              "      } catch (error) {\n",
              "        console.error('Error during call to suggestCharts:', error);\n",
              "      }\n",
              "      quickchartButtonEl.classList.remove('colab-df-spinner');\n",
              "      quickchartButtonEl.classList.add('colab-df-quickchart-complete');\n",
              "    }\n",
              "    (() => {\n",
              "      let quickchartButtonEl =\n",
              "        document.querySelector('#df-bf9dca0a-ba6f-43a1-a5f1-2d354e2cbf49 button');\n",
              "      quickchartButtonEl.style.display =\n",
              "        google.colab.kernel.accessAllowed ? 'block' : 'none';\n",
              "    })();\n",
              "  </script>\n",
              "</div>\n",
              "\n",
              "    </div>\n",
              "  </div>\n"
            ],
            "application/vnd.google.colaboratory.intrinsic+json": {
              "type": "dataframe",
              "summary": "{\n  \"name\": \"df\",\n  \"rows\": 11,\n  \"fields\": [\n    {\n      \"column\": \"URI\",\n      \"properties\": {\n        \"dtype\": \"string\",\n        \"num_unique_values\": 11,\n        \"samples\": [\n          \"<http://dbpedia.org/resource/Janvier_Grondin>\",\n          \"<http://dbpedia.org/resource/Sylvie_Roy>\",\n          \"<http://dbpedia.org/resource/Norbert_Morin>\"\n        ],\n        \"semantic_type\": \"\",\n        \"description\": \"\"\n      }\n    },\n    {\n      \"column\": \"name\",\n      \"properties\": {\n        \"dtype\": \"string\",\n        \"num_unique_values\": 11,\n        \"samples\": [\n          \"Janvier Grondin\",\n          \"Sylvie Roy\",\n          \"Norbert Morin\"\n        ],\n        \"semantic_type\": \"\",\n        \"description\": \"\"\n      }\n    },\n    {\n      \"column\": \"text\",\n      \"properties\": {\n        \"dtype\": \"string\",\n        \"num_unique_values\": 11,\n        \"samples\": [\n          \"janvier grondin born on june 16 1947 in saintjules quebec is a former politician in the province of quebec canada he represented the beaucenord district at the national assembly of quebec until 2012 as a member of the coalition avenir quebec he previously represented the riding as a member of the now defunct action dmocratique du qubec adq before the adq merged with the caq in january 2012prior to being elected he served as mayor of saintjules beauce from 1993 to 2003 he was also an administrator for the union des producteurs agricoles upa the vicepresident of rgie intermunicipale beauce the president of the clsc beaucecentre and an administrator for the saintjules chamber of commercegrondin was first elected as a member of the national assembly in the 2003 election with 46 of the vote the liberal incumbent normand poulin finished second with 38 of the votein 2006 grondin claimed that an influential liberal supporter tried to convince him not to run in the 2007 election in order to favour the election of liberal candidate claude drouin grondin claims that a well paid job in the public service which he declined was offered to him liberal leader and premier of quebec jean charest denied the accusation and dared grondin to tell the public who made the offer grondin said that if charest called him personally he would be glad to do so but charest refusedgrondin was reelected with 63 of the vote in the 2007 election defeating liberal claude drouin and with 50 of the vote in 2008 election\",\n          \"sylvie roy born november 4 1964 in la tuque quebec is a politician in quebec canada and the coalition avenir qubec member of the national assembly for the electoral district of arthabaska she previously represented the riding of lotbinire from 2003 until 2012 initially as a member of the nowdefunct adq until the merger of that party into the caq in 2012she was awarded a law degree from universit laval in 1987 and admitted to the barreau du qubec in 1988 she was lawyer for 15 years including 12 years for mental health organizations in mauricie she served as mayor of saintsophiedelvrard from 1998 to 2003 she also worked for the bcancour regional county municipality quebecroy was first elected to the national assembly in the 2003 election with 37 of the voteparti qubcois pq incumbent jeanguy par finished third with 26 of the votein the 2007 election roy was easily reelected with 59 of the vote liberal candidate laurent boissonneault finished second with 22 of the voteon march 29 2007 roy was appointed deputy official opposition house leaderin the 2008 election roy won reelection with 44 of the vote even though her partys support sharply declined and party leader mario dumont announced his resignation on february 27 2009 she was named the interim leader of the adq until gilles taillon became the permanent leader later that year the adq merged with the caq in 2012 and roy was reelected in the 2012 election\",\n          \"norbert morin born december 16 1945 is a politician in the canadian province of quebec he is a member of the quebec liberal party and is the member of the national assembly of quebec for ctedusud electoral districthe was first elected to represent the riding of montmagnylislet in the national assembly of quebec in the 2003 provincial election but was defeated in the 2007 provincial election by claude roy of the action dmocratique du qubec he was subsequently reelected in the 2008 provincial election montmagnylislet ceased to exist in the 2012 election and morin ran and won in the newly created ctedusudprior to his election morin was a municipal councilor from 1974 to 2002 for the municipality of saintfranoisdelariviredusud and was mayor for the town in 2003 and in 2007 he was an administrative member for a local desjardins bank the montmagny clsc and chsld as well as the local tourism office he was also president for the public safety committee and an administrator of the local development center of the montmagny regional county municipality he is also the owner of a meat shop since 1990during his first term morin was the parliamentary assistant to the minister of wildlife and parks\"\n        ],\n        \"semantic_type\": \"\",\n        \"description\": \"\"\n      }\n    }\n  ]\n}"
            }
          },
          "metadata": {},
          "execution_count": 22
        }
      ]
    },
    {
      "cell_type": "markdown",
      "source": [
        "# ALTERNATIVE: Defining methods to accomplish Part 1\n",
        "\n",
        "### def preprocess_text (text):\n",
        "  '''\n",
        "  This function will take a value and apply the lower case method, remove white spaces and characters and convert the text to TextBlob\n",
        "  '''\n",
        "  text = text.lower()\n",
        "  text = re.sub(r\"[^\\w\\s]\", \"\", text)\n",
        "  text = TextBlob(text)\n",
        "  return text\n",
        "\n",
        "### def preprocess_text(text):\n",
        "    # Convert to lowercase\n",
        "    text = text.lower()\n",
        "\n",
        "    # Remove punctuation and special characters\n",
        "    text = re.sub(r'[^\\w\\s]', '', text)\n",
        "\n",
        "    return text\n",
        "\n",
        "### def create_neighbors(overviews):\n",
        "    # Create a matrix of overviews\n",
        "    overview_matrix = np.array([preprocess_text(ov) for ov in overviews])\n",
        "\n",
        "    # Initialize and fit the model [what are these algorithms doing?]\n",
        "    nn = NearestNeighbors(n_neighbors=11, algorithm='brute', metric='hamming')\n",
        "    nn.fit(overview_matrix)\n",
        "\n",
        "    return nn\n",
        "\n",
        "### def find_similar_profiles(nn, profile_index):\n",
        "    distances, indices = nn.kneighbors([np.array([preprocess_text(df.loc[df['name'] == df.iloc[profile_index]['name'], 'overview'].iloc[0])])])\n",
        "    similar_indices = indices[0][1:]\n",
        "    return df.loc[similar_indices]\n",
        "\n"
      ],
      "metadata": {
        "id": "xRSbnWXDtZQH"
      }
    },
    {
      "cell_type": "markdown",
      "source": [
        "# Part 2\n",
        "\n",
        "\n",
        "- For the same person from step 1), use the Wikipedia API to access the whole content of that person's Wikipedia page.\n",
        "- The goal of part 2) is to produce the capability to:\n",
        "  1. For that Wikipedia page determine the sentiment of the entire page\n",
        "  1. Print out the Wikipedia article\n",
        "  1. Collect the Wikipedia pages from the 10 nearest neighbors in Step 1)\n",
        "  1. Determine the nearness ranking of these 10 to your main subject based on their entire Wikipedia page\n",
        "  1. Compare the nearest ranking from Step 1) with the Wikipedia page nearness ranking"
      ],
      "metadata": {
        "id": "WvpPr2_Zs0uU"
      }
    },
    {
      "cell_type": "code",
      "source": [
        "#To grab the names from WIKI\n",
        "names = []\n",
        "for i in indices[0]:\n",
        "  names.append(df.iloc[i]['name'])\n",
        "names_for_wiki = pd.Series(names)\n",
        "#print(pd.Series(names))"
      ],
      "metadata": {
        "id": "uS_M6LcpiP6o"
      },
      "execution_count": null,
      "outputs": []
    },
    {
      "cell_type": "code",
      "source": [
        "def preprocess_names(names):\n",
        "\n",
        "    # Remove punctuation and special characters\n",
        "    Wiki_names = names.str.replace(r'[^\\w\\s]', '', regex=True) # Use .str.replace() for Series\n",
        "\n",
        "    return Wiki_names\n",
        "\n",
        "# Call the function with your data and assign the result\n",
        "processed_names = preprocess_names(names_for_wiki)\n",
        "\n",
        "# Now you can print the processed names\n",
        "print(processed_names)"
      ],
      "metadata": {
        "id": "b3sOc7vgwaV1",
        "colab": {
          "base_uri": "https://localhost:8080/"
        },
        "outputId": "08313fd4-05c2-4d4a-9a9e-1263f7832729"
      },
      "execution_count": null,
      "outputs": [
        {
          "output_type": "stream",
          "name": "stdout",
          "text": [
            "0                    Sylvie Roy\n",
            "1                 C389ric Caire\n",
            "2         Claude Roy politician\n",
            "3                   Marc Picard\n",
            "4           SimonPierre Diamond\n",
            "5               Janvier Grondin\n",
            "6          Sylvain LC3A9garC3A9\n",
            "7          Catherine Morissette\n",
            "8                Roger Bertrand\n",
            "9                 Norbert Morin\n",
            "10    SC3A9bastien Schneeberger\n",
            "dtype: object\n"
          ]
        }
      ]
    },
    {
      "cell_type": "markdown",
      "source": [
        "#Part 2: Replace Sylvie Roy (seed 42) with 42785 from the tail to be rid of french name problems."
      ],
      "metadata": {
        "id": "znWo7MA0Dn8A"
      }
    },
    {
      "cell_type": "code",
      "source": [
        "df2 = df.copy()\n",
        "df2.iloc[42785]['text']"
      ],
      "metadata": {
        "colab": {
          "base_uri": "https://localhost:8080/",
          "height": 250
        },
        "id": "-uFaOOe0DIwZ",
        "outputId": "f2c4993e-d3f2-4072-f9a2-29ccab3fd301"
      },
      "execution_count": null,
      "outputs": [
        {
          "output_type": "execute_result",
          "data": {
            "text/plain": [
              "'kenneth thomas born february 24 1938 was chief financial officer of the united states chess federation from april 23 to december 31 2004 he took over the position of cfo of the uscf during a period of great financial distress with the uscf having lost money seven years in a row with total losses amounting to 17 million he was hired by bill goichberg because the uscf was in severe financial difficulty he agreed to work for far below the normal salary he restored the federation to profitability and financial solvencyken thomas was born in mead oklahoma during the great dust bowl three of his siblings died of starvation and ken nearly died as well after world war ii ken with his family moved to new jersey he graduated from bound brook high school therekenneth thomas served in the us army ordnance corps from 1961 to 1964 as a sergeant he worked in nuclear weapon assembly he worked in the nuclear weapons laboratory in sandia base near albuquerque new mexico he was a mechanic in the internal workings of nuclear weaponslater he was transferred to ldenscheid west germany and attached to the german army the bundeswehr where he worked on secret weapons in the british sector he speaks german he traveled all over western europe arming and disarming nuclear weapons he also played chess there and twice participated in the european army championships in kaiserslautern germanyafter completing his military service he graduated from the university of houston in 1972 with a bachelor of business administration and from that scho'"
            ],
            "application/vnd.google.colaboratory.intrinsic+json": {
              "type": "string"
            }
          },
          "metadata": {},
          "execution_count": 25
        }
      ]
    },
    {
      "cell_type": "code",
      "execution_count": null,
      "metadata": {
        "id": "BRuT_s2ZFY1e"
      },
      "outputs": [],
      "source": [
        "#nn = NearestNeighbors().fit(tfidf_vec)\n",
        "#This code was already run for the entire df so don't need to run again"
      ]
    },
    {
      "cell_type": "markdown",
      "metadata": {
        "id": "3O1rlwO5FY1e"
      },
      "source": [
        "Get nearest neighbors distances to new seed 42785 Kenneth Thomas\n"
      ]
    },
    {
      "cell_type": "code",
      "execution_count": null,
      "metadata": {
        "id": "deXV1YlFFY1e"
      },
      "outputs": [],
      "source": [
        "distances, indices = nn.kneighbors(\n",
        "  X = tfidf_vec[42785],\n",
        "  n_neighbors = 11)\n",
        "\n",
        "#running this code again for 42785"
      ]
    },
    {
      "cell_type": "code",
      "execution_count": null,
      "metadata": {
        "colab": {
          "base_uri": "https://localhost:8080/"
        },
        "outputId": "2fff5fb1-8baa-4a05-d33c-ece238ba4d10",
        "id": "e4k1j-eJFY1e"
      },
      "outputs": [
        {
          "output_type": "execute_result",
          "data": {
            "text/plain": [
              "array([[0.        , 1.22992624, 1.25191282, 1.25550796, 1.26614022,\n",
              "        1.27261345, 1.28431549, 1.28672592, 1.28783668, 1.28832753,\n",
              "        1.29327643]])"
            ]
          },
          "metadata": {},
          "execution_count": 28
        }
      ],
      "source": [
        "distances\n"
      ]
    },
    {
      "cell_type": "code",
      "execution_count": null,
      "metadata": {
        "colab": {
          "base_uri": "https://localhost:8080/"
        },
        "outputId": "87cd368d-fe3a-4685-c29d-30c8f3edffee",
        "id": "aiu9009tFY1e"
      },
      "outputs": [
        {
          "output_type": "execute_result",
          "data": {
            "text/plain": [
              "array([[42785, 35332, 42541, 11232, 20076, 14897, 22282, 12890, 36050,\n",
              "        36821, 19596]])"
            ]
          },
          "metadata": {},
          "execution_count": 29
        }
      ],
      "source": [
        "indices\n"
      ]
    },
    {
      "cell_type": "code",
      "source": [
        "indices[0]"
      ],
      "metadata": {
        "colab": {
          "base_uri": "https://localhost:8080/"
        },
        "outputId": "39e94e81-cc07-4ee3-c5ac-e0ce11fa6c4a",
        "id": "CJqBGuvfFY1e"
      },
      "execution_count": null,
      "outputs": [
        {
          "output_type": "execute_result",
          "data": {
            "text/plain": [
              "array([42785, 35332, 42541, 11232, 20076, 14897, 22282, 12890, 36050,\n",
              "       36821, 19596])"
            ]
          },
          "metadata": {},
          "execution_count": 30
        }
      ]
    },
    {
      "cell_type": "code",
      "source": [
        "df2.iloc[indices[0]]"
      ],
      "metadata": {
        "colab": {
          "base_uri": "https://localhost:8080/",
          "height": 794
        },
        "outputId": "6eac6d5b-82e7-4e6c-a538-060ceaab7b39",
        "id": "nzDs7CpzFY1e"
      },
      "execution_count": null,
      "outputs": [
        {
          "output_type": "execute_result",
          "data": {
            "text/plain": [
              "                                                     URI  \\\n",
              "42785       <http://dbpedia.org/resource/Kenneth_Thomas>   \n",
              "35332          <http://dbpedia.org/resource/Don_Schultz>   \n",
              "42541       <http://dbpedia.org/resource/Tamara_Golovey>   \n",
              "11232          <http://dbpedia.org/resource/Yanko_Yanev>   \n",
              "20076  <http://dbpedia.org/resource/Michael_Khodarkov...   \n",
              "14897           <http://dbpedia.org/resource/James_Eade>   \n",
              "22282        <http://dbpedia.org/resource/Irma_Arguello>   \n",
              "12890          <http://dbpedia.org/resource/Randy_Bauer>   \n",
              "36050           <http://dbpedia.org/resource/John_Large>   \n",
              "36821  <http://dbpedia.org/resource/Michael_R._Anasta...   \n",
              "19596       <http://dbpedia.org/resource/Bruce_G._Blair>   \n",
              "\n",
              "                       name                                               text  \n",
              "42785        Kenneth Thomas  kenneth thomas born february 24 1938 was chief...  \n",
              "35332           Don Schultz  don schultz born 13 may 1936 in woodhaven quee...  \n",
              "42541        Tamara Golovey  tamara golovey russian is a chess master chess...  \n",
              "11232           Yanko Yanev  yanko yanev has played a vital role in shaping...  \n",
              "20076  Michael Khodarkovsky  michael khodarkovsky odessa ussr july 21 1958 ...  \n",
              "14897            James Eade  james eade born march 23 1957 is an american c...  \n",
              "22282         Irma Arguello  irma arguello is an international security exp...  \n",
              "12890           Randy Bauer  randy bauer born 1958 is a chess master and a ...  \n",
              "36050            John Large  john h large is a nuclear engineer and analyst...  \n",
              "36821  Michael R. Anastasio  michael anastasio born 1948 led two national s...  \n",
              "19596        Bruce G. Blair  bruce g blair born 1947 is a nuclear security ...  "
            ],
            "text/html": [
              "\n",
              "  <div id=\"df-4d4b71f1-4db9-48d0-b57d-9271b991d201\" class=\"colab-df-container\">\n",
              "    <div>\n",
              "<style scoped>\n",
              "    .dataframe tbody tr th:only-of-type {\n",
              "        vertical-align: middle;\n",
              "    }\n",
              "\n",
              "    .dataframe tbody tr th {\n",
              "        vertical-align: top;\n",
              "    }\n",
              "\n",
              "    .dataframe thead th {\n",
              "        text-align: right;\n",
              "    }\n",
              "</style>\n",
              "<table border=\"1\" class=\"dataframe\">\n",
              "  <thead>\n",
              "    <tr style=\"text-align: right;\">\n",
              "      <th></th>\n",
              "      <th>URI</th>\n",
              "      <th>name</th>\n",
              "      <th>text</th>\n",
              "    </tr>\n",
              "  </thead>\n",
              "  <tbody>\n",
              "    <tr>\n",
              "      <th>42785</th>\n",
              "      <td>&lt;http://dbpedia.org/resource/Kenneth_Thomas&gt;</td>\n",
              "      <td>Kenneth Thomas</td>\n",
              "      <td>kenneth thomas born february 24 1938 was chief...</td>\n",
              "    </tr>\n",
              "    <tr>\n",
              "      <th>35332</th>\n",
              "      <td>&lt;http://dbpedia.org/resource/Don_Schultz&gt;</td>\n",
              "      <td>Don Schultz</td>\n",
              "      <td>don schultz born 13 may 1936 in woodhaven quee...</td>\n",
              "    </tr>\n",
              "    <tr>\n",
              "      <th>42541</th>\n",
              "      <td>&lt;http://dbpedia.org/resource/Tamara_Golovey&gt;</td>\n",
              "      <td>Tamara Golovey</td>\n",
              "      <td>tamara golovey russian is a chess master chess...</td>\n",
              "    </tr>\n",
              "    <tr>\n",
              "      <th>11232</th>\n",
              "      <td>&lt;http://dbpedia.org/resource/Yanko_Yanev&gt;</td>\n",
              "      <td>Yanko Yanev</td>\n",
              "      <td>yanko yanev has played a vital role in shaping...</td>\n",
              "    </tr>\n",
              "    <tr>\n",
              "      <th>20076</th>\n",
              "      <td>&lt;http://dbpedia.org/resource/Michael_Khodarkov...</td>\n",
              "      <td>Michael Khodarkovsky</td>\n",
              "      <td>michael khodarkovsky odessa ussr july 21 1958 ...</td>\n",
              "    </tr>\n",
              "    <tr>\n",
              "      <th>14897</th>\n",
              "      <td>&lt;http://dbpedia.org/resource/James_Eade&gt;</td>\n",
              "      <td>James Eade</td>\n",
              "      <td>james eade born march 23 1957 is an american c...</td>\n",
              "    </tr>\n",
              "    <tr>\n",
              "      <th>22282</th>\n",
              "      <td>&lt;http://dbpedia.org/resource/Irma_Arguello&gt;</td>\n",
              "      <td>Irma Arguello</td>\n",
              "      <td>irma arguello is an international security exp...</td>\n",
              "    </tr>\n",
              "    <tr>\n",
              "      <th>12890</th>\n",
              "      <td>&lt;http://dbpedia.org/resource/Randy_Bauer&gt;</td>\n",
              "      <td>Randy Bauer</td>\n",
              "      <td>randy bauer born 1958 is a chess master and a ...</td>\n",
              "    </tr>\n",
              "    <tr>\n",
              "      <th>36050</th>\n",
              "      <td>&lt;http://dbpedia.org/resource/John_Large&gt;</td>\n",
              "      <td>John Large</td>\n",
              "      <td>john h large is a nuclear engineer and analyst...</td>\n",
              "    </tr>\n",
              "    <tr>\n",
              "      <th>36821</th>\n",
              "      <td>&lt;http://dbpedia.org/resource/Michael_R._Anasta...</td>\n",
              "      <td>Michael R. Anastasio</td>\n",
              "      <td>michael anastasio born 1948 led two national s...</td>\n",
              "    </tr>\n",
              "    <tr>\n",
              "      <th>19596</th>\n",
              "      <td>&lt;http://dbpedia.org/resource/Bruce_G._Blair&gt;</td>\n",
              "      <td>Bruce G. Blair</td>\n",
              "      <td>bruce g blair born 1947 is a nuclear security ...</td>\n",
              "    </tr>\n",
              "  </tbody>\n",
              "</table>\n",
              "</div>\n",
              "    <div class=\"colab-df-buttons\">\n",
              "\n",
              "  <div class=\"colab-df-container\">\n",
              "    <button class=\"colab-df-convert\" onclick=\"convertToInteractive('df-4d4b71f1-4db9-48d0-b57d-9271b991d201')\"\n",
              "            title=\"Convert this dataframe to an interactive table.\"\n",
              "            style=\"display:none;\">\n",
              "\n",
              "  <svg xmlns=\"http://www.w3.org/2000/svg\" height=\"24px\" viewBox=\"0 -960 960 960\">\n",
              "    <path d=\"M120-120v-720h720v720H120Zm60-500h600v-160H180v160Zm220 220h160v-160H400v160Zm0 220h160v-160H400v160ZM180-400h160v-160H180v160Zm440 0h160v-160H620v160ZM180-180h160v-160H180v160Zm440 0h160v-160H620v160Z\"/>\n",
              "  </svg>\n",
              "    </button>\n",
              "\n",
              "  <style>\n",
              "    .colab-df-container {\n",
              "      display:flex;\n",
              "      gap: 12px;\n",
              "    }\n",
              "\n",
              "    .colab-df-convert {\n",
              "      background-color: #E8F0FE;\n",
              "      border: none;\n",
              "      border-radius: 50%;\n",
              "      cursor: pointer;\n",
              "      display: none;\n",
              "      fill: #1967D2;\n",
              "      height: 32px;\n",
              "      padding: 0 0 0 0;\n",
              "      width: 32px;\n",
              "    }\n",
              "\n",
              "    .colab-df-convert:hover {\n",
              "      background-color: #E2EBFA;\n",
              "      box-shadow: 0px 1px 2px rgba(60, 64, 67, 0.3), 0px 1px 3px 1px rgba(60, 64, 67, 0.15);\n",
              "      fill: #174EA6;\n",
              "    }\n",
              "\n",
              "    .colab-df-buttons div {\n",
              "      margin-bottom: 4px;\n",
              "    }\n",
              "\n",
              "    [theme=dark] .colab-df-convert {\n",
              "      background-color: #3B4455;\n",
              "      fill: #D2E3FC;\n",
              "    }\n",
              "\n",
              "    [theme=dark] .colab-df-convert:hover {\n",
              "      background-color: #434B5C;\n",
              "      box-shadow: 0px 1px 3px 1px rgba(0, 0, 0, 0.15);\n",
              "      filter: drop-shadow(0px 1px 2px rgba(0, 0, 0, 0.3));\n",
              "      fill: #FFFFFF;\n",
              "    }\n",
              "  </style>\n",
              "\n",
              "    <script>\n",
              "      const buttonEl =\n",
              "        document.querySelector('#df-4d4b71f1-4db9-48d0-b57d-9271b991d201 button.colab-df-convert');\n",
              "      buttonEl.style.display =\n",
              "        google.colab.kernel.accessAllowed ? 'block' : 'none';\n",
              "\n",
              "      async function convertToInteractive(key) {\n",
              "        const element = document.querySelector('#df-4d4b71f1-4db9-48d0-b57d-9271b991d201');\n",
              "        const dataTable =\n",
              "          await google.colab.kernel.invokeFunction('convertToInteractive',\n",
              "                                                    [key], {});\n",
              "        if (!dataTable) return;\n",
              "\n",
              "        const docLinkHtml = 'Like what you see? Visit the ' +\n",
              "          '<a target=\"_blank\" href=https://colab.research.google.com/notebooks/data_table.ipynb>data table notebook</a>'\n",
              "          + ' to learn more about interactive tables.';\n",
              "        element.innerHTML = '';\n",
              "        dataTable['output_type'] = 'display_data';\n",
              "        await google.colab.output.renderOutput(dataTable, element);\n",
              "        const docLink = document.createElement('div');\n",
              "        docLink.innerHTML = docLinkHtml;\n",
              "        element.appendChild(docLink);\n",
              "      }\n",
              "    </script>\n",
              "  </div>\n",
              "\n",
              "\n",
              "<div id=\"df-b36a504f-b9b0-4aa3-ae8e-2e58353ec25e\">\n",
              "  <button class=\"colab-df-quickchart\" onclick=\"quickchart('df-b36a504f-b9b0-4aa3-ae8e-2e58353ec25e')\"\n",
              "            title=\"Suggest charts\"\n",
              "            style=\"display:none;\">\n",
              "\n",
              "<svg xmlns=\"http://www.w3.org/2000/svg\" height=\"24px\"viewBox=\"0 0 24 24\"\n",
              "     width=\"24px\">\n",
              "    <g>\n",
              "        <path d=\"M19 3H5c-1.1 0-2 .9-2 2v14c0 1.1.9 2 2 2h14c1.1 0 2-.9 2-2V5c0-1.1-.9-2-2-2zM9 17H7v-7h2v7zm4 0h-2V7h2v10zm4 0h-2v-4h2v4z\"/>\n",
              "    </g>\n",
              "</svg>\n",
              "  </button>\n",
              "\n",
              "<style>\n",
              "  .colab-df-quickchart {\n",
              "      --bg-color: #E8F0FE;\n",
              "      --fill-color: #1967D2;\n",
              "      --hover-bg-color: #E2EBFA;\n",
              "      --hover-fill-color: #174EA6;\n",
              "      --disabled-fill-color: #AAA;\n",
              "      --disabled-bg-color: #DDD;\n",
              "  }\n",
              "\n",
              "  [theme=dark] .colab-df-quickchart {\n",
              "      --bg-color: #3B4455;\n",
              "      --fill-color: #D2E3FC;\n",
              "      --hover-bg-color: #434B5C;\n",
              "      --hover-fill-color: #FFFFFF;\n",
              "      --disabled-bg-color: #3B4455;\n",
              "      --disabled-fill-color: #666;\n",
              "  }\n",
              "\n",
              "  .colab-df-quickchart {\n",
              "    background-color: var(--bg-color);\n",
              "    border: none;\n",
              "    border-radius: 50%;\n",
              "    cursor: pointer;\n",
              "    display: none;\n",
              "    fill: var(--fill-color);\n",
              "    height: 32px;\n",
              "    padding: 0;\n",
              "    width: 32px;\n",
              "  }\n",
              "\n",
              "  .colab-df-quickchart:hover {\n",
              "    background-color: var(--hover-bg-color);\n",
              "    box-shadow: 0 1px 2px rgba(60, 64, 67, 0.3), 0 1px 3px 1px rgba(60, 64, 67, 0.15);\n",
              "    fill: var(--button-hover-fill-color);\n",
              "  }\n",
              "\n",
              "  .colab-df-quickchart-complete:disabled,\n",
              "  .colab-df-quickchart-complete:disabled:hover {\n",
              "    background-color: var(--disabled-bg-color);\n",
              "    fill: var(--disabled-fill-color);\n",
              "    box-shadow: none;\n",
              "  }\n",
              "\n",
              "  .colab-df-spinner {\n",
              "    border: 2px solid var(--fill-color);\n",
              "    border-color: transparent;\n",
              "    border-bottom-color: var(--fill-color);\n",
              "    animation:\n",
              "      spin 1s steps(1) infinite;\n",
              "  }\n",
              "\n",
              "  @keyframes spin {\n",
              "    0% {\n",
              "      border-color: transparent;\n",
              "      border-bottom-color: var(--fill-color);\n",
              "      border-left-color: var(--fill-color);\n",
              "    }\n",
              "    20% {\n",
              "      border-color: transparent;\n",
              "      border-left-color: var(--fill-color);\n",
              "      border-top-color: var(--fill-color);\n",
              "    }\n",
              "    30% {\n",
              "      border-color: transparent;\n",
              "      border-left-color: var(--fill-color);\n",
              "      border-top-color: var(--fill-color);\n",
              "      border-right-color: var(--fill-color);\n",
              "    }\n",
              "    40% {\n",
              "      border-color: transparent;\n",
              "      border-right-color: var(--fill-color);\n",
              "      border-top-color: var(--fill-color);\n",
              "    }\n",
              "    60% {\n",
              "      border-color: transparent;\n",
              "      border-right-color: var(--fill-color);\n",
              "    }\n",
              "    80% {\n",
              "      border-color: transparent;\n",
              "      border-right-color: var(--fill-color);\n",
              "      border-bottom-color: var(--fill-color);\n",
              "    }\n",
              "    90% {\n",
              "      border-color: transparent;\n",
              "      border-bottom-color: var(--fill-color);\n",
              "    }\n",
              "  }\n",
              "</style>\n",
              "\n",
              "  <script>\n",
              "    async function quickchart(key) {\n",
              "      const quickchartButtonEl =\n",
              "        document.querySelector('#' + key + ' button');\n",
              "      quickchartButtonEl.disabled = true;  // To prevent multiple clicks.\n",
              "      quickchartButtonEl.classList.add('colab-df-spinner');\n",
              "      try {\n",
              "        const charts = await google.colab.kernel.invokeFunction(\n",
              "            'suggestCharts', [key], {});\n",
              "      } catch (error) {\n",
              "        console.error('Error during call to suggestCharts:', error);\n",
              "      }\n",
              "      quickchartButtonEl.classList.remove('colab-df-spinner');\n",
              "      quickchartButtonEl.classList.add('colab-df-quickchart-complete');\n",
              "    }\n",
              "    (() => {\n",
              "      let quickchartButtonEl =\n",
              "        document.querySelector('#df-b36a504f-b9b0-4aa3-ae8e-2e58353ec25e button');\n",
              "      quickchartButtonEl.style.display =\n",
              "        google.colab.kernel.accessAllowed ? 'block' : 'none';\n",
              "    })();\n",
              "  </script>\n",
              "</div>\n",
              "\n",
              "    </div>\n",
              "  </div>\n"
            ],
            "application/vnd.google.colaboratory.intrinsic+json": {
              "type": "dataframe",
              "summary": "{\n  \"name\": \"df2\",\n  \"rows\": 11,\n  \"fields\": [\n    {\n      \"column\": \"URI\",\n      \"properties\": {\n        \"dtype\": \"string\",\n        \"num_unique_values\": 11,\n        \"samples\": [\n          \"<http://dbpedia.org/resource/James_Eade>\",\n          \"<http://dbpedia.org/resource/Kenneth_Thomas>\",\n          \"<http://dbpedia.org/resource/Michael_R._Anastasio>\"\n        ],\n        \"semantic_type\": \"\",\n        \"description\": \"\"\n      }\n    },\n    {\n      \"column\": \"name\",\n      \"properties\": {\n        \"dtype\": \"string\",\n        \"num_unique_values\": 11,\n        \"samples\": [\n          \"James Eade\",\n          \"Kenneth Thomas\",\n          \"Michael R. Anastasio\"\n        ],\n        \"semantic_type\": \"\",\n        \"description\": \"\"\n      }\n    },\n    {\n      \"column\": \"text\",\n      \"properties\": {\n        \"dtype\": \"string\",\n        \"num_unique_values\": 11,\n        \"samples\": [\n          \"james eade born march 23 1957 is an american chess master chess tournament organizer and chess book publisher he holds the title of fide master he is best known for his book chess for dummies which is one of the best selling chess books of all time he was a member of the policy board of the united states chess federation uscf from 1996 to 1999 he has served as american zone president of fide the world chess federation from 2000 to 2002 and has been a trustee of the u s chess trust since 2000 he is their current treasurer he is a past president of calchess the northern california chess association the kolty chess for youth foundation a 501c3 charity and the chess journalists of america as well as a former chairman of the chess advisory board for utdallas he is a former editor and publisher of both the calchess journal and the golden gate chess newshe organized a number of fide futurities and roundrobins in the 1990s he organized the 1995 pan pacific international chess tournament the strongest chess tournament ever held in san francisco won by viktor korchnoi and the 1996 hall of fame tournament won by lubomir kavalekas a player he is a solid master rated 2320 by fide politically he is a controversial person he and tom dorsch took on the us chess establishment claiming that the uscf was being mismanaged and misgoverned into insolvency eade was one of three northern californians with mark pinto and neil falconer to bail the uscf out when it could not afford to send a team to the chess olympiadseade wrote an article for chess life making the case for chess in the olympic games he pointed out that chess was already in the african games the asian games and the central american games and that recognition by national olympic committees had led to hundreds of thousands of dollars in new contributions to chess this led some to falsely charge him with being pro drug testing eade simply maintained that drug testing a fact of life in the olympics is a small price to pay for the right to represent ones country overseaseade was made president of the us chess trust at the annual meeting in august 2010he lives in menlo park california where he continues to teach and write about chess\",\n          \"kenneth thomas born february 24 1938 was chief financial officer of the united states chess federation from april 23 to december 31 2004 he took over the position of cfo of the uscf during a period of great financial distress with the uscf having lost money seven years in a row with total losses amounting to 17 million he was hired by bill goichberg because the uscf was in severe financial difficulty he agreed to work for far below the normal salary he restored the federation to profitability and financial solvencyken thomas was born in mead oklahoma during the great dust bowl three of his siblings died of starvation and ken nearly died as well after world war ii ken with his family moved to new jersey he graduated from bound brook high school therekenneth thomas served in the us army ordnance corps from 1961 to 1964 as a sergeant he worked in nuclear weapon assembly he worked in the nuclear weapons laboratory in sandia base near albuquerque new mexico he was a mechanic in the internal workings of nuclear weaponslater he was transferred to ldenscheid west germany and attached to the german army the bundeswehr where he worked on secret weapons in the british sector he speaks german he traveled all over western europe arming and disarming nuclear weapons he also played chess there and twice participated in the european army championships in kaiserslautern germanyafter completing his military service he graduated from the university of houston in 1972 with a bachelor of business administration and from that scho\",\n          \"michael anastasio born 1948 led two national science laboratories during a time of transition he was the director of the los alamos national laboratory and president of the los alamos national security llc the company that operates the laboratory he is the former director of lawrence livermore national laboratory llnl the university of california board of regents appointed michael r anastasio the director of llnl on june 4 2002 he started on july 1 2002 in 2005 he became the president of the los alamos national security llc and became the director of the los alamos national laboratory on june 1 2006 during his directorship at lawrence livermore the laboratory won 25 rd 100 awards and maintained its worldclass leadership position in highperformance computing and its application to global climate modelinghe has a bachelors degree in physics from johns hopkins university and earned ms and phd degrees in theoretical nuclear physics from the state university of new york at stony brook his career at llnl began in 1980 as a physicist in bdivision one of the two nuclear weapons design divisions he participated in the development of the w87 w84 and b83 warheads and 10 nuclear tests he was project physicist on four of these tests in 1991 he was made bdivision leader and program manager responsible for primary weapons design from 1996 to 2001 he served as associate director for defense and nuclear technologies responsible for all activities in the laboratorys nuclear weapons program in that capacity he was instrumental in the development and execution of the national stockpile stewardship program from 2001 to 2002 anastasio served as llnls deputy director for strategic operationshe has 18 publications in intermediate energy theoretical nuclear physics and 800 citations he received the department of energy weapons recognition of excellence award in 1990 and is a member of sigma pi sigma the national physics honor society us strategic command strategic advisory group and the defense science board task force on nuclear capabilitieshe retired from his position as laboratory director at los alamos national laboratory on june 1st 2011\"\n        ],\n        \"semantic_type\": \"\",\n        \"description\": \"\"\n      }\n    }\n  ]\n}"
            }
          },
          "metadata": {},
          "execution_count": 31
        }
      ]
    },
    {
      "cell_type": "code",
      "source": [
        "%%capture output\n",
        "#install Wikipedia API\n",
        "!pip3 install wikipedia-api"
      ],
      "metadata": {
        "id": "d2iRXknpc0eb"
      },
      "execution_count": null,
      "outputs": []
    },
    {
      "cell_type": "code",
      "source": [
        "import wikipediaapi"
      ],
      "metadata": {
        "id": "ZYnUdOyLc3_S"
      },
      "execution_count": null,
      "outputs": []
    },
    {
      "cell_type": "code",
      "source": [
        "# Get NEW names from WIKI who were already determined as nearest neighbors with Kenneth Thomas\n",
        "names = [] #Create an empty list as a container for each name, that is appended row by row in the following loop\n",
        "for i in indices[0]:\n",
        "  names.append(df2.iloc[i]['name'])\n",
        "pd.Series(names) #reference the list \"names\" as a data series\n",
        "print(pd.Series(names))"
      ],
      "metadata": {
        "colab": {
          "base_uri": "https://localhost:8080/"
        },
        "id": "GVlV7YICHhtX",
        "outputId": "0f55c62a-d805-4669-f74a-f9283e58512b"
      },
      "execution_count": null,
      "outputs": [
        {
          "output_type": "stream",
          "name": "stdout",
          "text": [
            "0           Kenneth Thomas\n",
            "1              Don Schultz\n",
            "2           Tamara Golovey\n",
            "3              Yanko Yanev\n",
            "4     Michael Khodarkovsky\n",
            "5               James Eade\n",
            "6            Irma Arguello\n",
            "7              Randy Bauer\n",
            "8               John Large\n",
            "9     Michael R. Anastasio\n",
            "10          Bruce G. Blair\n",
            "dtype: object\n"
          ]
        }
      ]
    },
    {
      "cell_type": "code",
      "source": [
        "# Get the text from wikipedia referred to as \"bio\" - https://en.wikipedia.org/wiki/et.al\n",
        "list_for_series = [] #Create a list as a container for the biographical text to be retrieved using the wiki app\n",
        "for i in names:\n",
        "  bio_text = i\n",
        "  wikip = wikipediaapi.Wikipedia(user_agent = 'famous') #This line initializes the wikipediaapi to interact with Wikipedia. The user_agent is set to 'famous', which is a string identifying the biographical text.\n",
        "  page_person= wikip.page(bio_text) # This line uses the wikipediaapi to fetch the Wikipedia page for the current person (using bio_text as the page title) and assigns it to the variable page_person.\n",
        "  wiki_text = page_person.text # This line adds the extracted Wikipedia text (wiki_text) to the list_for_series list.\n",
        "  list_for_series.append(wiki_text) # This line extracts the text content from the fetched Wikipedia page (page_person) and assigns it to the variable wiki_text\n",
        "pd.Series(list_for_series) # This line creates a pandas Series from the list_for_series list"
      ],
      "metadata": {
        "colab": {
          "base_uri": "https://localhost:8080/",
          "height": 429
        },
        "id": "akVYHz10NsBs",
        "outputId": "ec9c8500-b1a9-46ed-8f2a-26ee571f74fd"
      },
      "execution_count": null,
      "outputs": [
        {
          "output_type": "execute_result",
          "data": {
            "text/plain": [
              "0     Kenneth, Ken or Kenny Thomas may refer to:\\n\\n...\n",
              "1     Donald Schultz (May 13, 1936, Woodhaven, Queen...\n",
              "2     Tamara Asherawna Golovey is a Chess Master, Ch...\n",
              "3                                                      \n",
              "4     Michael Khodarkovsky is an American chess play...\n",
              "5     James V. Eade (born March 23, 1957) is an Amer...\n",
              "6     Irma Arguello is an international security exp...\n",
              "7                                                      \n",
              "8     John Henry Large (4 May 1943 – 3 November 2018...\n",
              "9     Michael Anastasio (born 1948) led two national...\n",
              "10    Bruce Gentry Blair (November 16, 1947 – July 1...\n",
              "dtype: object"
            ],
            "text/html": [
              "<div>\n",
              "<style scoped>\n",
              "    .dataframe tbody tr th:only-of-type {\n",
              "        vertical-align: middle;\n",
              "    }\n",
              "\n",
              "    .dataframe tbody tr th {\n",
              "        vertical-align: top;\n",
              "    }\n",
              "\n",
              "    .dataframe thead th {\n",
              "        text-align: right;\n",
              "    }\n",
              "</style>\n",
              "<table border=\"1\" class=\"dataframe\">\n",
              "  <thead>\n",
              "    <tr style=\"text-align: right;\">\n",
              "      <th></th>\n",
              "      <th>0</th>\n",
              "    </tr>\n",
              "  </thead>\n",
              "  <tbody>\n",
              "    <tr>\n",
              "      <th>0</th>\n",
              "      <td>Kenneth, Ken or Kenny Thomas may refer to:\\n\\n...</td>\n",
              "    </tr>\n",
              "    <tr>\n",
              "      <th>1</th>\n",
              "      <td>Donald Schultz (May 13, 1936, Woodhaven, Queen...</td>\n",
              "    </tr>\n",
              "    <tr>\n",
              "      <th>2</th>\n",
              "      <td>Tamara Asherawna Golovey is a Chess Master, Ch...</td>\n",
              "    </tr>\n",
              "    <tr>\n",
              "      <th>3</th>\n",
              "      <td></td>\n",
              "    </tr>\n",
              "    <tr>\n",
              "      <th>4</th>\n",
              "      <td>Michael Khodarkovsky is an American chess play...</td>\n",
              "    </tr>\n",
              "    <tr>\n",
              "      <th>5</th>\n",
              "      <td>James V. Eade (born March 23, 1957) is an Amer...</td>\n",
              "    </tr>\n",
              "    <tr>\n",
              "      <th>6</th>\n",
              "      <td>Irma Arguello is an international security exp...</td>\n",
              "    </tr>\n",
              "    <tr>\n",
              "      <th>7</th>\n",
              "      <td></td>\n",
              "    </tr>\n",
              "    <tr>\n",
              "      <th>8</th>\n",
              "      <td>John Henry Large (4 May 1943 – 3 November 2018...</td>\n",
              "    </tr>\n",
              "    <tr>\n",
              "      <th>9</th>\n",
              "      <td>Michael Anastasio (born 1948) led two national...</td>\n",
              "    </tr>\n",
              "    <tr>\n",
              "      <th>10</th>\n",
              "      <td>Bruce Gentry Blair (November 16, 1947 – July 1...</td>\n",
              "    </tr>\n",
              "  </tbody>\n",
              "</table>\n",
              "</div><br><label><b>dtype:</b> object</label>"
            ]
          },
          "metadata": {},
          "execution_count": 35
        }
      ]
    },
    {
      "cell_type": "code",
      "source": [
        "def get_wiki_bios(name): # This line defines a function called get_wikipedia_content that takes one argument: names_series.\n",
        "    # the argument names_series will retrieve the Wikipedia page names as strings\n",
        "    try: # This line starts a try-except block, which is used for error handling.\n",
        "        page = wikipedia.page(name) # This line is the core of the function. It uses the wikipedia.page() function to fetch the Wikipedia page corresponding to the provided names_series argument.\n",
        "        return page.content\n",
        "    except wikipedia.exceptions.PageError:\n",
        "        # If a PageError occurs (e.g., page not found), return None\n",
        "        return None"
      ],
      "metadata": {
        "id": "NmKL7GMNh57D"
      },
      "execution_count": null,
      "outputs": []
    },
    {
      "cell_type": "markdown",
      "source": [],
      "metadata": {
        "id": "fLXTqItJJmh9"
      }
    },
    {
      "cell_type": "code",
      "source": [
        "names_series = pd.Series(names, name='IndvName') # Creates a pandas Series named names_series from the names list\n",
        "list_for_series_series = pd.Series(list_for_series, name='Blurb', index=names_series.index) # Creates another pandas Series named list_for_series_series from the list_for_series list; name='Blurb' assigns the column name 'Blurb' to this Series; index=names_series.index ensures that this Series uses the same index as names_series, so the names and blurbs are aligned correctly\n",
        "\n",
        "# Convert Series to DataFrames with a single column\n",
        "names_df = names_series.to_frame() # Converts the names_series Series into a DataFrame named names_df. This creates a DataFrame with one column ('IndvName') containing the names.\n",
        "list_for_series_df = list_for_series_series.to_frame() # Converts the list_for_series_series Series into a DataFrame named list_for_series_df. This creates a DataFrame with one column ('Blurb') containing the blurbs.\n",
        "\n",
        "mini_df = pd.concat([names_df, list_for_series_df], axis=1) # This creates the mini_df DataFrame, which now has two columns: 'IndvName' (containing names) and 'Blurb' (containing the corresponding blurbs)\n",
        "print(mini_df)"
      ],
      "metadata": {
        "colab": {
          "base_uri": "https://localhost:8080/"
        },
        "id": "Vwkwjr8fOUNd",
        "outputId": "b3fd9020-8f09-4131-bd72-f1af4dd0c034"
      },
      "execution_count": null,
      "outputs": [
        {
          "output_type": "stream",
          "name": "stdout",
          "text": [
            "                IndvName                                              Blurb\n",
            "0         Kenneth Thomas  Kenneth, Ken or Kenny Thomas may refer to:\\n\\n...\n",
            "1            Don Schultz  Donald Schultz (May 13, 1936, Woodhaven, Queen...\n",
            "2         Tamara Golovey  Tamara Asherawna Golovey is a Chess Master, Ch...\n",
            "3            Yanko Yanev                                                   \n",
            "4   Michael Khodarkovsky  Michael Khodarkovsky is an American chess play...\n",
            "5             James Eade  James V. Eade (born March 23, 1957) is an Amer...\n",
            "6          Irma Arguello  Irma Arguello is an international security exp...\n",
            "7            Randy Bauer                                                   \n",
            "8             John Large  John Henry Large (4 May 1943 – 3 November 2018...\n",
            "9   Michael R. Anastasio  Michael Anastasio (born 1948) led two national...\n",
            "10        Bruce G. Blair  Bruce Gentry Blair (November 16, 1947 – July 1...\n"
          ]
        }
      ]
    },
    {
      "cell_type": "code",
      "source": [
        "def clean_text(text): # This line defines a function named clean_text that takes one argument called text.\n",
        "    text = text.lower()  # Convert input 'text' to lowercase\n",
        "    text = re.sub(r'[^\\w\\s]', '', text)  # Remove punctuation and special characters\n",
        "\n",
        "    # Remove stop words\n",
        "    stop_words = set(stopwords.words('english'))\n",
        "    words = text.split()\n",
        "    text = ' '.join([word for word in words if word not in stop_words])\n",
        "\n",
        "    # Stemming\n",
        "    stemmer = PorterStemmer()\n",
        "    words = text.split()\n",
        "    text = ' '.join([stemmer.stem(word) for word in words])\n",
        "\n",
        "    return text\n",
        "\n",
        "# 'CleanedWikiText' and 'Blurb' refers to the column name\n",
        "mini_df['CleanedWikiText'] = mini_df['Blurb'].apply(clean_text)\n",
        "mini_df"
      ],
      "metadata": {
        "colab": {
          "base_uri": "https://localhost:8080/",
          "height": 551
        },
        "id": "moA9MW9iyLzH",
        "outputId": "06b713cf-d26d-490f-f035-7c21ef27d85f"
      },
      "execution_count": null,
      "outputs": [
        {
          "output_type": "execute_result",
          "data": {
            "text/plain": [
              "                IndvName                                              Blurb  \\\n",
              "0         Kenneth Thomas  Kenneth, Ken or Kenny Thomas may refer to:\\n\\n...   \n",
              "1            Don Schultz  Donald Schultz (May 13, 1936, Woodhaven, Queen...   \n",
              "2         Tamara Golovey  Tamara Asherawna Golovey is a Chess Master, Ch...   \n",
              "3            Yanko Yanev                                                      \n",
              "4   Michael Khodarkovsky  Michael Khodarkovsky is an American chess play...   \n",
              "5             James Eade  James V. Eade (born March 23, 1957) is an Amer...   \n",
              "6          Irma Arguello  Irma Arguello is an international security exp...   \n",
              "7            Randy Bauer                                                      \n",
              "8             John Large  John Henry Large (4 May 1943 – 3 November 2018...   \n",
              "9   Michael R. Anastasio  Michael Anastasio (born 1948) led two national...   \n",
              "10        Bruce G. Blair  Bruce Gentry Blair (November 16, 1947 – July 1...   \n",
              "\n",
              "                                      CleanedWikiText  \n",
              "0   kenneth ken kenni thoma may refer kenneth thom...  \n",
              "1   donald schultz may 13 1936 woodhaven queen new...  \n",
              "2   tamara asherawna golovey chess master chess in...  \n",
              "3                                                      \n",
              "4   michael khodarkovski american chess player coa...  \n",
              "5   jame v ead born march 23 1957 american chess m...  \n",
              "6   irma arguello intern secur expert argentina fo...  \n",
              "7                                                      \n",
              "8   john henri larg 4 may 1943 3 novemb 2018 engli...  \n",
              "9   michael anastasio born 1948 led two nation sci...  \n",
              "10  bruce gentri blair novemb 16 1947 juli 19 2020...  "
            ],
            "text/html": [
              "\n",
              "  <div id=\"df-0cd2daaf-a64d-44fb-b79c-7c322b90130e\" class=\"colab-df-container\">\n",
              "    <div>\n",
              "<style scoped>\n",
              "    .dataframe tbody tr th:only-of-type {\n",
              "        vertical-align: middle;\n",
              "    }\n",
              "\n",
              "    .dataframe tbody tr th {\n",
              "        vertical-align: top;\n",
              "    }\n",
              "\n",
              "    .dataframe thead th {\n",
              "        text-align: right;\n",
              "    }\n",
              "</style>\n",
              "<table border=\"1\" class=\"dataframe\">\n",
              "  <thead>\n",
              "    <tr style=\"text-align: right;\">\n",
              "      <th></th>\n",
              "      <th>IndvName</th>\n",
              "      <th>Blurb</th>\n",
              "      <th>CleanedWikiText</th>\n",
              "    </tr>\n",
              "  </thead>\n",
              "  <tbody>\n",
              "    <tr>\n",
              "      <th>0</th>\n",
              "      <td>Kenneth Thomas</td>\n",
              "      <td>Kenneth, Ken or Kenny Thomas may refer to:\\n\\n...</td>\n",
              "      <td>kenneth ken kenni thoma may refer kenneth thom...</td>\n",
              "    </tr>\n",
              "    <tr>\n",
              "      <th>1</th>\n",
              "      <td>Don Schultz</td>\n",
              "      <td>Donald Schultz (May 13, 1936, Woodhaven, Queen...</td>\n",
              "      <td>donald schultz may 13 1936 woodhaven queen new...</td>\n",
              "    </tr>\n",
              "    <tr>\n",
              "      <th>2</th>\n",
              "      <td>Tamara Golovey</td>\n",
              "      <td>Tamara Asherawna Golovey is a Chess Master, Ch...</td>\n",
              "      <td>tamara asherawna golovey chess master chess in...</td>\n",
              "    </tr>\n",
              "    <tr>\n",
              "      <th>3</th>\n",
              "      <td>Yanko Yanev</td>\n",
              "      <td></td>\n",
              "      <td></td>\n",
              "    </tr>\n",
              "    <tr>\n",
              "      <th>4</th>\n",
              "      <td>Michael Khodarkovsky</td>\n",
              "      <td>Michael Khodarkovsky is an American chess play...</td>\n",
              "      <td>michael khodarkovski american chess player coa...</td>\n",
              "    </tr>\n",
              "    <tr>\n",
              "      <th>5</th>\n",
              "      <td>James Eade</td>\n",
              "      <td>James V. Eade (born March 23, 1957) is an Amer...</td>\n",
              "      <td>jame v ead born march 23 1957 american chess m...</td>\n",
              "    </tr>\n",
              "    <tr>\n",
              "      <th>6</th>\n",
              "      <td>Irma Arguello</td>\n",
              "      <td>Irma Arguello is an international security exp...</td>\n",
              "      <td>irma arguello intern secur expert argentina fo...</td>\n",
              "    </tr>\n",
              "    <tr>\n",
              "      <th>7</th>\n",
              "      <td>Randy Bauer</td>\n",
              "      <td></td>\n",
              "      <td></td>\n",
              "    </tr>\n",
              "    <tr>\n",
              "      <th>8</th>\n",
              "      <td>John Large</td>\n",
              "      <td>John Henry Large (4 May 1943 – 3 November 2018...</td>\n",
              "      <td>john henri larg 4 may 1943 3 novemb 2018 engli...</td>\n",
              "    </tr>\n",
              "    <tr>\n",
              "      <th>9</th>\n",
              "      <td>Michael R. Anastasio</td>\n",
              "      <td>Michael Anastasio (born 1948) led two national...</td>\n",
              "      <td>michael anastasio born 1948 led two nation sci...</td>\n",
              "    </tr>\n",
              "    <tr>\n",
              "      <th>10</th>\n",
              "      <td>Bruce G. Blair</td>\n",
              "      <td>Bruce Gentry Blair (November 16, 1947 – July 1...</td>\n",
              "      <td>bruce gentri blair novemb 16 1947 juli 19 2020...</td>\n",
              "    </tr>\n",
              "  </tbody>\n",
              "</table>\n",
              "</div>\n",
              "    <div class=\"colab-df-buttons\">\n",
              "\n",
              "  <div class=\"colab-df-container\">\n",
              "    <button class=\"colab-df-convert\" onclick=\"convertToInteractive('df-0cd2daaf-a64d-44fb-b79c-7c322b90130e')\"\n",
              "            title=\"Convert this dataframe to an interactive table.\"\n",
              "            style=\"display:none;\">\n",
              "\n",
              "  <svg xmlns=\"http://www.w3.org/2000/svg\" height=\"24px\" viewBox=\"0 -960 960 960\">\n",
              "    <path d=\"M120-120v-720h720v720H120Zm60-500h600v-160H180v160Zm220 220h160v-160H400v160Zm0 220h160v-160H400v160ZM180-400h160v-160H180v160Zm440 0h160v-160H620v160ZM180-180h160v-160H180v160Zm440 0h160v-160H620v160Z\"/>\n",
              "  </svg>\n",
              "    </button>\n",
              "\n",
              "  <style>\n",
              "    .colab-df-container {\n",
              "      display:flex;\n",
              "      gap: 12px;\n",
              "    }\n",
              "\n",
              "    .colab-df-convert {\n",
              "      background-color: #E8F0FE;\n",
              "      border: none;\n",
              "      border-radius: 50%;\n",
              "      cursor: pointer;\n",
              "      display: none;\n",
              "      fill: #1967D2;\n",
              "      height: 32px;\n",
              "      padding: 0 0 0 0;\n",
              "      width: 32px;\n",
              "    }\n",
              "\n",
              "    .colab-df-convert:hover {\n",
              "      background-color: #E2EBFA;\n",
              "      box-shadow: 0px 1px 2px rgba(60, 64, 67, 0.3), 0px 1px 3px 1px rgba(60, 64, 67, 0.15);\n",
              "      fill: #174EA6;\n",
              "    }\n",
              "\n",
              "    .colab-df-buttons div {\n",
              "      margin-bottom: 4px;\n",
              "    }\n",
              "\n",
              "    [theme=dark] .colab-df-convert {\n",
              "      background-color: #3B4455;\n",
              "      fill: #D2E3FC;\n",
              "    }\n",
              "\n",
              "    [theme=dark] .colab-df-convert:hover {\n",
              "      background-color: #434B5C;\n",
              "      box-shadow: 0px 1px 3px 1px rgba(0, 0, 0, 0.15);\n",
              "      filter: drop-shadow(0px 1px 2px rgba(0, 0, 0, 0.3));\n",
              "      fill: #FFFFFF;\n",
              "    }\n",
              "  </style>\n",
              "\n",
              "    <script>\n",
              "      const buttonEl =\n",
              "        document.querySelector('#df-0cd2daaf-a64d-44fb-b79c-7c322b90130e button.colab-df-convert');\n",
              "      buttonEl.style.display =\n",
              "        google.colab.kernel.accessAllowed ? 'block' : 'none';\n",
              "\n",
              "      async function convertToInteractive(key) {\n",
              "        const element = document.querySelector('#df-0cd2daaf-a64d-44fb-b79c-7c322b90130e');\n",
              "        const dataTable =\n",
              "          await google.colab.kernel.invokeFunction('convertToInteractive',\n",
              "                                                    [key], {});\n",
              "        if (!dataTable) return;\n",
              "\n",
              "        const docLinkHtml = 'Like what you see? Visit the ' +\n",
              "          '<a target=\"_blank\" href=https://colab.research.google.com/notebooks/data_table.ipynb>data table notebook</a>'\n",
              "          + ' to learn more about interactive tables.';\n",
              "        element.innerHTML = '';\n",
              "        dataTable['output_type'] = 'display_data';\n",
              "        await google.colab.output.renderOutput(dataTable, element);\n",
              "        const docLink = document.createElement('div');\n",
              "        docLink.innerHTML = docLinkHtml;\n",
              "        element.appendChild(docLink);\n",
              "      }\n",
              "    </script>\n",
              "  </div>\n",
              "\n",
              "\n",
              "<div id=\"df-0410b37c-a983-41d7-aad1-885d9fc6562b\">\n",
              "  <button class=\"colab-df-quickchart\" onclick=\"quickchart('df-0410b37c-a983-41d7-aad1-885d9fc6562b')\"\n",
              "            title=\"Suggest charts\"\n",
              "            style=\"display:none;\">\n",
              "\n",
              "<svg xmlns=\"http://www.w3.org/2000/svg\" height=\"24px\"viewBox=\"0 0 24 24\"\n",
              "     width=\"24px\">\n",
              "    <g>\n",
              "        <path d=\"M19 3H5c-1.1 0-2 .9-2 2v14c0 1.1.9 2 2 2h14c1.1 0 2-.9 2-2V5c0-1.1-.9-2-2-2zM9 17H7v-7h2v7zm4 0h-2V7h2v10zm4 0h-2v-4h2v4z\"/>\n",
              "    </g>\n",
              "</svg>\n",
              "  </button>\n",
              "\n",
              "<style>\n",
              "  .colab-df-quickchart {\n",
              "      --bg-color: #E8F0FE;\n",
              "      --fill-color: #1967D2;\n",
              "      --hover-bg-color: #E2EBFA;\n",
              "      --hover-fill-color: #174EA6;\n",
              "      --disabled-fill-color: #AAA;\n",
              "      --disabled-bg-color: #DDD;\n",
              "  }\n",
              "\n",
              "  [theme=dark] .colab-df-quickchart {\n",
              "      --bg-color: #3B4455;\n",
              "      --fill-color: #D2E3FC;\n",
              "      --hover-bg-color: #434B5C;\n",
              "      --hover-fill-color: #FFFFFF;\n",
              "      --disabled-bg-color: #3B4455;\n",
              "      --disabled-fill-color: #666;\n",
              "  }\n",
              "\n",
              "  .colab-df-quickchart {\n",
              "    background-color: var(--bg-color);\n",
              "    border: none;\n",
              "    border-radius: 50%;\n",
              "    cursor: pointer;\n",
              "    display: none;\n",
              "    fill: var(--fill-color);\n",
              "    height: 32px;\n",
              "    padding: 0;\n",
              "    width: 32px;\n",
              "  }\n",
              "\n",
              "  .colab-df-quickchart:hover {\n",
              "    background-color: var(--hover-bg-color);\n",
              "    box-shadow: 0 1px 2px rgba(60, 64, 67, 0.3), 0 1px 3px 1px rgba(60, 64, 67, 0.15);\n",
              "    fill: var(--button-hover-fill-color);\n",
              "  }\n",
              "\n",
              "  .colab-df-quickchart-complete:disabled,\n",
              "  .colab-df-quickchart-complete:disabled:hover {\n",
              "    background-color: var(--disabled-bg-color);\n",
              "    fill: var(--disabled-fill-color);\n",
              "    box-shadow: none;\n",
              "  }\n",
              "\n",
              "  .colab-df-spinner {\n",
              "    border: 2px solid var(--fill-color);\n",
              "    border-color: transparent;\n",
              "    border-bottom-color: var(--fill-color);\n",
              "    animation:\n",
              "      spin 1s steps(1) infinite;\n",
              "  }\n",
              "\n",
              "  @keyframes spin {\n",
              "    0% {\n",
              "      border-color: transparent;\n",
              "      border-bottom-color: var(--fill-color);\n",
              "      border-left-color: var(--fill-color);\n",
              "    }\n",
              "    20% {\n",
              "      border-color: transparent;\n",
              "      border-left-color: var(--fill-color);\n",
              "      border-top-color: var(--fill-color);\n",
              "    }\n",
              "    30% {\n",
              "      border-color: transparent;\n",
              "      border-left-color: var(--fill-color);\n",
              "      border-top-color: var(--fill-color);\n",
              "      border-right-color: var(--fill-color);\n",
              "    }\n",
              "    40% {\n",
              "      border-color: transparent;\n",
              "      border-right-color: var(--fill-color);\n",
              "      border-top-color: var(--fill-color);\n",
              "    }\n",
              "    60% {\n",
              "      border-color: transparent;\n",
              "      border-right-color: var(--fill-color);\n",
              "    }\n",
              "    80% {\n",
              "      border-color: transparent;\n",
              "      border-right-color: var(--fill-color);\n",
              "      border-bottom-color: var(--fill-color);\n",
              "    }\n",
              "    90% {\n",
              "      border-color: transparent;\n",
              "      border-bottom-color: var(--fill-color);\n",
              "    }\n",
              "  }\n",
              "</style>\n",
              "\n",
              "  <script>\n",
              "    async function quickchart(key) {\n",
              "      const quickchartButtonEl =\n",
              "        document.querySelector('#' + key + ' button');\n",
              "      quickchartButtonEl.disabled = true;  // To prevent multiple clicks.\n",
              "      quickchartButtonEl.classList.add('colab-df-spinner');\n",
              "      try {\n",
              "        const charts = await google.colab.kernel.invokeFunction(\n",
              "            'suggestCharts', [key], {});\n",
              "      } catch (error) {\n",
              "        console.error('Error during call to suggestCharts:', error);\n",
              "      }\n",
              "      quickchartButtonEl.classList.remove('colab-df-spinner');\n",
              "      quickchartButtonEl.classList.add('colab-df-quickchart-complete');\n",
              "    }\n",
              "    (() => {\n",
              "      let quickchartButtonEl =\n",
              "        document.querySelector('#df-0410b37c-a983-41d7-aad1-885d9fc6562b button');\n",
              "      quickchartButtonEl.style.display =\n",
              "        google.colab.kernel.accessAllowed ? 'block' : 'none';\n",
              "    })();\n",
              "  </script>\n",
              "</div>\n",
              "\n",
              "  <div id=\"id_aab0afbd-5490-450d-95fb-5eb4404f8982\">\n",
              "    <style>\n",
              "      .colab-df-generate {\n",
              "        background-color: #E8F0FE;\n",
              "        border: none;\n",
              "        border-radius: 50%;\n",
              "        cursor: pointer;\n",
              "        display: none;\n",
              "        fill: #1967D2;\n",
              "        height: 32px;\n",
              "        padding: 0 0 0 0;\n",
              "        width: 32px;\n",
              "      }\n",
              "\n",
              "      .colab-df-generate:hover {\n",
              "        background-color: #E2EBFA;\n",
              "        box-shadow: 0px 1px 2px rgba(60, 64, 67, 0.3), 0px 1px 3px 1px rgba(60, 64, 67, 0.15);\n",
              "        fill: #174EA6;\n",
              "      }\n",
              "\n",
              "      [theme=dark] .colab-df-generate {\n",
              "        background-color: #3B4455;\n",
              "        fill: #D2E3FC;\n",
              "      }\n",
              "\n",
              "      [theme=dark] .colab-df-generate:hover {\n",
              "        background-color: #434B5C;\n",
              "        box-shadow: 0px 1px 3px 1px rgba(0, 0, 0, 0.15);\n",
              "        filter: drop-shadow(0px 1px 2px rgba(0, 0, 0, 0.3));\n",
              "        fill: #FFFFFF;\n",
              "      }\n",
              "    </style>\n",
              "    <button class=\"colab-df-generate\" onclick=\"generateWithVariable('mini_df')\"\n",
              "            title=\"Generate code using this dataframe.\"\n",
              "            style=\"display:none;\">\n",
              "\n",
              "  <svg xmlns=\"http://www.w3.org/2000/svg\" height=\"24px\"viewBox=\"0 0 24 24\"\n",
              "       width=\"24px\">\n",
              "    <path d=\"M7,19H8.4L18.45,9,17,7.55,7,17.6ZM5,21V16.75L18.45,3.32a2,2,0,0,1,2.83,0l1.4,1.43a1.91,1.91,0,0,1,.58,1.4,1.91,1.91,0,0,1-.58,1.4L9.25,21ZM18.45,9,17,7.55Zm-12,3A5.31,5.31,0,0,0,4.9,8.1,5.31,5.31,0,0,0,1,6.5,5.31,5.31,0,0,0,4.9,4.9,5.31,5.31,0,0,0,6.5,1,5.31,5.31,0,0,0,8.1,4.9,5.31,5.31,0,0,0,12,6.5,5.46,5.46,0,0,0,6.5,12Z\"/>\n",
              "  </svg>\n",
              "    </button>\n",
              "    <script>\n",
              "      (() => {\n",
              "      const buttonEl =\n",
              "        document.querySelector('#id_aab0afbd-5490-450d-95fb-5eb4404f8982 button.colab-df-generate');\n",
              "      buttonEl.style.display =\n",
              "        google.colab.kernel.accessAllowed ? 'block' : 'none';\n",
              "\n",
              "      buttonEl.onclick = () => {\n",
              "        google.colab.notebook.generateWithVariable('mini_df');\n",
              "      }\n",
              "      })();\n",
              "    </script>\n",
              "  </div>\n",
              "\n",
              "    </div>\n",
              "  </div>\n"
            ],
            "application/vnd.google.colaboratory.intrinsic+json": {
              "type": "dataframe",
              "variable_name": "mini_df",
              "summary": "{\n  \"name\": \"mini_df\",\n  \"rows\": 11,\n  \"fields\": [\n    {\n      \"column\": \"IndvName\",\n      \"properties\": {\n        \"dtype\": \"string\",\n        \"num_unique_values\": 11,\n        \"samples\": [\n          \"James Eade\",\n          \"Kenneth Thomas\",\n          \"Michael R. Anastasio\"\n        ],\n        \"semantic_type\": \"\",\n        \"description\": \"\"\n      }\n    },\n    {\n      \"column\": \"Blurb\",\n      \"properties\": {\n        \"dtype\": \"string\",\n        \"num_unique_values\": 10,\n        \"samples\": [\n          \"Michael Anastasio (born 1948) led two national science laboratories during a time of transition. He was the director of the Los Alamos National Laboratory and president of the Los Alamos National Security LLC, the company that operates the laboratory. He is the former director of Lawrence Livermore National Laboratory (LLNL). The University of California Board of Regents appointed Michael R. Anastasio the director of LLNL on June 4, 2002. He started on July 1, 2002. In 2005 he became the president of the Los Alamos National Security LLC, and became the director of the Los Alamos National Laboratory on June 1, 2006. During his directorship at Lawrence Livermore, the laboratory won 25 R&D 100 Awards and maintained its world-class leadership position in high-performance computing and its application to global climate modeling.\\nHe has a bachelor's degree in physics from Johns Hopkins University and earned M.S. and Ph.D. degrees in theoretical nuclear physics from the State University of New York at Stony Brook. His career at LLNL began in 1980 as a physicist in B-Division, one of the two nuclear weapons design divisions. He participated in the development of the W87, W84, and B83 warheads and 10 nuclear tests; he was project physicist on four of these tests. In 1991, he was made B-division leader and program manager responsible for primary weapons design. From 1996 to 2001, he served as associate director for Defense and Nuclear Technologies, responsible for all activities in the laboratory's nuclear weapons program. In that capacity, he was instrumental in the development and execution of the national Stockpile Stewardship Program.  From 2001 to 2002, Anastasio served as LLNL's deputy director for Strategic Operations.\\nHe has 18 publications in intermediate energy theoretical nuclear physics and 800 citations. He received the Department of Energy Weapons Recognition of Excellence Award in 1990 and is a member of Sigma Pi Sigma, the national physics honor society; U.S. Strategic Command, Strategic Advisory Group; and the Defense Science Board Task Force on Nuclear Capabilities.\\nHe retired from his position as Laboratory Director at Los Alamos National Laboratory on June 1, 2011.\\n\\nReferences\\nExternal links\\nOral history interview of Michael R. Anastasio (18 June 2020)\",\n          \"Donald Schultz (May 13, 1936, Woodhaven, Queens, New York \\u2013 April 20, 2020, New Jersey) was a president and a vice-president of the United States Chess Federation (USCF). He was elected vice-president on August 14, 2005. He was defeated by the Susan Polgar-Paul Truong slate when he ran for re-election in July, 2007. He was a rated chess expert.\\n\\nChess organizer and official\\nAlthough an expert chess player, Schultz's greatest joy came in bringing people together through the many chess tournaments that he either organized or helped with. Schultz and his family were traveling from their home in Brussels, Belgium in 1971 to the United States to visit family when they stopped in Reykjavik, Iceland to see the Fischer/Spassky tournament. Bobby Fischer was a friend and asked him to stay on as one of his allowed council of three. This was the beginning of Schultz's foray into the world of international chess.  Over the next several decades, he traveled around the world for chess conferences and tournaments, often accompanied by his wife, Teresa Russ Schultz.\\nSchultz first ran for USCF President in 1966, but was defeated by Marshall Rohland. In 1981, Schultz was appointed U.S. Delegate to FIDE, the World Chess Federation. In 1982, in Thessaloniki, Schultz was elected to the Executive Council of FIDE.\\nIn 1992, he was elected to the Policy Board of the USCF. In 1993, he organized a tour for the Israel Youth Chess Team to the US. In 1993 and 1994 he, along with Yasser Seirawan, ran a chess school for children in Fond du Lac, Wisconsin. In 1996, Schultz was elected President of the USCF for a three-year term. In 2003, Schultz was elected to the Executive Board of the USCF for a four-year term. He is the author of two books, \\\"Chessdon\\\" and \\\"Fischer, Kasparov and the Others\\\". He has held numerous political positions in chess.\\nSchultz died on April 20, 2020, in Emerson, New Jersey from complications caused by the COVID-19 virus.\\n\\nState Associations\\nPresident, NYS Chess Association 1964-1965\\nPresident, North Carolina Chess Association 1966\\u20131971\\nPresident, Georgia Chess Association 1977\\u20131979\\nPresident, Florida Chess Association \\u2013 1987 -1993\\nElected Honorary Lifetime Member Florida Chess Association Board of Directors in 1996.\\nEditor floridaCHESS 1994 to 1996. Won numerous awards including Best State publication in 1995 and 1996.\\nFIDE Delegate: 1983 to 1989 and 1993\\nFIDE Zonal President: 1982, 1993 to 1994\\nFIDE Executive Board; 1982 to 1990\\nAttended 21 FIDE Congresses (1972, 1974, 1978 to 1991, 1993, 1994, 2000, 2002 and  2005).\\n\\nMajor Tournaments Organized\\n1963 NYS Championship \\u2013 Poughkeepsie, NY\\n1962 U.S. 30/30 Championship, Poughkeepsie, NY\\n1967 U.S. Junior Open, Raleigh, NC\\n1969 North Carolina Invitational, Raleigh, NC\\n1990 World Youth Chess Championships, Fond du Lac, WI\\n1991 U.S. Women's Championship, Highland Beach, FL\\n1993 Amateur Team Finals, Baltimore, MD\\n1994 US Championship, Key West, FL\\n1996 New York Invitational, NYC (one of the strongest round robins ever held in U.S.)\\n2005 U.S. Senior Open in Boca Raton, Florida\\n\\nOther Major Event Organized\\n1981 FIDE Congress in Atlanta: (only FIDE Congress ever held in the U.S.)\\n\\nOther Key Positions\\nFIDE Executive Council 1982 to 1990\\nCo-Chair FIDE UNESCO Commission- 1981, 82\\nUSCF Executive Board Member: 1992 to 1995\\nUSCF President: 1996 to 1999\\nUSCF Secretary: 2004, 05\\nUSCF Vice President: 2005 \\u2013 2007\\nChess for Peace Advisory Board: 2005 -\\n\\nBooks\\nSchultz, Don (1999). Chessdon. Chess Don. ISBN 0-9670775-0-8.\\nFischer, Kasparov and Others ISBN 0-9670775-1-6\\n\\nExternal links\\nDon Schultz website\\n\\n\\n== References ==\",\n          \"James V. Eade (born March 23, 1957) is an American chess master, chess administrator, chess tournament organizer, and chess book publisher. He holds the title of FIDE Master. He is best known for the books Chess for Dummies (1996) and The Chess Player's Bible (2004), both of which have been through multiple editions and been translated into seven languages.\\nHe became involved in organizing chess tournaments in the 1990s. He organized the 1995 Pan Pacific International Chess Tournament, the strongest chess tournament ever held in San Francisco, won by Viktor Korchnoi, and the 1996 Hall of Fame tournament, won by Lubomir Kavalek. He also founded Hypermodern Press, a chess publishing company which produced a handful of well-received titles before ceasing operations in 1999.\\nHe was a member of the Policy Board of the United States Chess Federation (USCF) from 1996 to 1999. He has served as American Zone President of FIDE, the World Chess Federation, from 2000 to 2002, and was a Trustee of the U. S. Chess Trust from 2000 to 2019, as well as a past President. He is also a past President of CalChess (the Northern California Chess Association), The Kolty Chess for Youth Foundation (a 501(c)-3 charity), and the Chess Journalists of America, as well as a former chairman of the chess advisory board for UT-Dallas. He is a former editor and publisher of both the CalChess Journal and the Golden Gate Chess News, and was awarded chess educator of the year for 2016 by UT-Dallas. In 2018, the USCF recognized Mr. Eade with the award for Outstanding Career Achievement. In 2019, he started the Eade Foundation (a 501(c)-3 foundation), where he is chairman and CEO. Its web site, https://www.eadefoundation.org/ , won Best Chess Website award for 2021 from the Chess Journalists of America. In 2022, he was awarded the Marquis Who's Who Humanitarian Award and was also recognized by Marquis Who's Who Top Executives for dedication, achievements, and leadership in promoting the game of chess. Marquis Who's Who also named Eade a Distinguished Leader for 2023. Eade won the 2023 Chess Journalists Award for \\\"Best Online Interview\\\". His new book \\\"Freedom\\\" is now available on Amazon. He also hosts the show \\\"Change Your Mind\\\" on Podcast TV.\\nHe lives in Menlo Park, California, where he continues to teach and write about chess.\\n\\nBooks\\nBooks written by James Eade\\nJames Eade (1991). Remember the MacCutcheon!. Chess Enterprises. ISBN 978-0-945470-10-6.\\nJames Eade; Nick de Firmian (1996). San Francisco 1995. Hypermodern Press. ISBN 978-1-886040-19-9.\\nJames Eade (1996). Chess for Dummies. Wiley. ISBN 978-0-7645-5003-4.\\nJames Eade (2004). The Chess Player's Bible : Illustrated Strategies for Staying Ahead of the Game. Barron's Educational Series. ISBN 978-0-7641-5787-5.\\nJames Eade (2010). Chess Openings for Dummies. Wiley. ISBN 978-0-470-60364-2.\\nJames Eade (2023). Freedom. Wiley. ISBN 978-1-958211-32-8.\\n\\nBooks published by James Eade and his Hypermodern Press\\nModern Chess Brilliancies (Great Literature Series) by Larry Evans ISBN 1-886040-11-7\\nThe Chess of Bobby Fischer (Great Literature Series) by Robert E. Burger ISBN 1-886040-12-5\\nThe Bobby Fischer I Knew & Other Stories by Arnold Denker and Larry Parr ISBN 1-886040-18-4\\nThe Unconventional King's Indian defense (Competitive Chess Series) by John L. Watson ISBN 1-886040-10-9\\nThe Big Book of Combinations Eric Schiller 1995 ISBN 1-886040-14-1\\nThe Big Book of Busts John Watson & Eric Schiller 1995 ISBN 1-886040-13-3\\n\\nReferences\\nExternal links\\nJim Eade's Chess  Journal\\nJim Eade rating card at FIDE\\nJim Eade player profile and games at Chessgames.com\\nJames Eade chess games at 365Chess.com\\nJames V. Eade rating and tournament record at US Chess Federation\"\n        ],\n        \"semantic_type\": \"\",\n        \"description\": \"\"\n      }\n    },\n    {\n      \"column\": \"CleanedWikiText\",\n      \"properties\": {\n        \"dtype\": \"string\",\n        \"num_unique_values\": 10,\n        \"samples\": [\n          \"michael anastasio born 1948 led two nation scienc laboratori time transit director lo alamo nation laboratori presid lo alamo nation secur llc compani oper laboratori former director lawrenc livermor nation laboratori llnl univers california board regent appoint michael r anastasio director llnl june 4 2002 start juli 1 2002 2005 becam presid lo alamo nation secur llc becam director lo alamo nation laboratori june 1 2006 directorship lawrenc livermor laboratori 25 rd 100 award maintain worldclass leadership posit highperform comput applic global climat model bachelor degre physic john hopkin univers earn ms phd degre theoret nuclear physic state univers new york stoni brook career llnl began 1980 physicist bdivis one two nuclear weapon design divis particip develop w87 w84 b83 warhead 10 nuclear test project physicist four test 1991 made bdivis leader program manag respons primari weapon design 1996 2001 serv associ director defens nuclear technolog respons activ laboratori nuclear weapon program capac instrument develop execut nation stockpil stewardship program 2001 2002 anastasio serv llnl deputi director strateg oper 18 public intermedi energi theoret nuclear physic 800 citat receiv depart energi weapon recognit excel award 1990 member sigma pi sigma nation physic honor societi us strateg command strateg advisori group defens scienc board task forc nuclear capabl retir posit laboratori director lo alamo nation laboratori june 1 2011 refer extern link oral histori interview michael r anastasio 18 june 2020\",\n          \"donald schultz may 13 1936 woodhaven queen new york april 20 2020 new jersey presid vicepresid unit state chess feder uscf elect vicepresid august 14 2005 defeat susan polgarpaul truong slate ran reelect juli 2007 rate chess expert chess organ offici although expert chess player schultz greatest joy came bring peopl togeth mani chess tournament either organ help schultz famili travel home brussel belgium 1971 unit state visit famili stop reykjavik iceland see fischerspasski tournament bobbi fischer friend ask stay one allow council three begin schultz foray world intern chess next sever decad travel around world chess confer tournament often accompani wife teresa russ schultz schultz first ran uscf presid 1966 defeat marshal rohland 1981 schultz appoint us deleg fide world chess feder 1982 thessaloniki schultz elect execut council fide 1992 elect polici board uscf 1993 organ tour israel youth chess team us 1993 1994 along yasser seirawan ran chess school children fond du lac wisconsin 1996 schultz elect presid uscf threeyear term 2003 schultz elect execut board uscf fouryear term author two book chessdon fischer kasparov other held numer polit posit chess schultz die april 20 2020 emerson new jersey complic caus covid19 viru state associ presid ny chess associ 19641965 presid north carolina chess associ 19661971 presid georgia chess associ 19771979 presid florida chess associ 1987 1993 elect honorari lifetim member florida chess associ board director 1996 editor floridachess 1994 1996 numer award includ best state public 1995 1996 fide deleg 1983 1989 1993 fide zonal presid 1982 1993 1994 fide execut board 1982 1990 attend 21 fide congress 1972 1974 1978 1991 1993 1994 2000 2002 2005 major tournament organ 1963 ny championship poughkeepsi ny 1962 us 3030 championship poughkeepsi ny 1967 us junior open raleigh nc 1969 north carolina invit raleigh nc 1990 world youth chess championship fond du lac wi 1991 us women championship highland beach fl 1993 amateur team final baltimor md 1994 us championship key west fl 1996 new york invit nyc one strongest round robin ever held us 2005 us senior open boca raton florida major event organ 1981 fide congress atlanta fide congress ever held us key posit fide execut council 1982 1990 cochair fide unesco commiss 1981 82 uscf execut board member 1992 1995 uscf presid 1996 1999 uscf secretari 2004 05 uscf vice presid 2005 2007 chess peac advisori board 2005 book schultz 1999 chessdon chess isbn 0967077508 fischer kasparov other isbn 0967077516 extern link schultz websit refer\",\n          \"jame v ead born march 23 1957 american chess master chess administr chess tournament organ chess book publish hold titl fide master best known book chess dummi 1996 chess player bibl 2004 multipl edit translat seven languag becam involv organ chess tournament 1990 organ 1995 pan pacif intern chess tournament strongest chess tournament ever held san francisco viktor korchnoi 1996 hall fame tournament lubomir kavalek also found hypermodern press chess publish compani produc hand wellreceiv titl ceas oper 1999 member polici board unit state chess feder uscf 1996 1999 serv american zone presid fide world chess feder 2000 2002 truste u chess trust 2000 2019 well past presid also past presid calchess northern california chess associ kolti chess youth foundat 501c3 chariti chess journalist america well former chairman chess advisori board utdalla former editor publish calchess journal golden gate chess news award chess educ year 2016 utdalla 2018 uscf recogn mr ead award outstand career achiev 2019 start ead foundat 501c3 foundat chairman ceo web site httpswwweadefoundationorg best chess websit award 2021 chess journalist america 2022 award marqui who humanitarian award also recogn marqui who top execut dedic achiev leadership promot game chess marqui who also name ead distinguish leader 2023 ead 2023 chess journalist award best onlin interview new book freedom avail amazon also host show chang mind podcast tv live menlo park california continu teach write chess book book written jame ead jame ead 1991 rememb maccutcheon chess enterpris isbn 9780945470106 jame ead nick de firmian 1996 san francisco 1995 hypermodern press isbn 9781886040199 jame ead 1996 chess dummi wiley isbn 9780764550034 jame ead 2004 chess player bibl illustr strategi stay ahead game barron educ seri isbn 9780764157875 jame ead 2010 chess open dummi wiley isbn 9780470603642 jame ead 2023 freedom wiley isbn 9781958211328 book publish jame ead hypermodern press modern chess brillianc great literatur seri larri evan isbn 1886040117 chess bobbi fischer great literatur seri robert e burger isbn 1886040125 bobbi fischer knew stori arnold denker larri parr isbn 1886040184 unconvent king indian defens competit chess seri john l watson isbn 1886040109 big book combin eric schiller 1995 isbn 1886040141 big book bust john watson eric schiller 1995 isbn 1886040133 refer extern link jim ead chess journal jim ead rate card fide jim ead player profil game chessgamescom jame ead chess game 365chesscom jame v ead rate tournament record us chess feder\"\n        ],\n        \"semantic_type\": \"\",\n        \"description\": \"\"\n      }\n    }\n  ]\n}"
            }
          },
          "metadata": {},
          "execution_count": 38
        }
      ]
    },
    {
      "cell_type": "code",
      "source": [
        "# Perform the TF-IDF Vectorization\n",
        "tf_idf_vec = TfidfVectorizer(stop_words = 'english')\n",
        "tf_idf_peep = tf_idf_vec.fit_transform(mini_df)\n",
        "tf_idf_peep.shape"
      ],
      "metadata": {
        "id": "LHYHCIuSfb3V",
        "colab": {
          "base_uri": "https://localhost:8080/"
        },
        "outputId": "fc8cac8e-52fc-4c70-99d7-12cf294f052d"
      },
      "execution_count": null,
      "outputs": [
        {
          "output_type": "execute_result",
          "data": {
            "text/plain": [
              "(3, 3)"
            ]
          },
          "metadata": {},
          "execution_count": 39
        }
      ]
    },
    {
      "cell_type": "code",
      "source": [
        "tf_idf_peep"
      ],
      "metadata": {
        "id": "F_0nhpejfw5e",
        "colab": {
          "base_uri": "https://localhost:8080/"
        },
        "outputId": "fd7bfc51-16b1-40d6-9779-4b01cb8f7cd6"
      },
      "execution_count": null,
      "outputs": [
        {
          "output_type": "execute_result",
          "data": {
            "text/plain": [
              "<3x3 sparse matrix of type '<class 'numpy.float64'>'\n",
              "\twith 3 stored elements in Compressed Sparse Row format>"
            ]
          },
          "metadata": {},
          "execution_count": 40
        }
      ]
    },
    {
      "cell_type": "code",
      "source": [
        "tf_idf_peep.transpose().shape"
      ],
      "metadata": {
        "id": "Jq52sZGsf5gW",
        "colab": {
          "base_uri": "https://localhost:8080/"
        },
        "outputId": "276a0353-3716-4438-b55f-9ada8edd48b3"
      },
      "execution_count": null,
      "outputs": [
        {
          "output_type": "execute_result",
          "data": {
            "text/plain": [
              "(3, 3)"
            ]
          },
          "metadata": {},
          "execution_count": 41
        }
      ]
    },
    {
      "cell_type": "code",
      "source": [
        "tf_idf_vec.get_feature_names_out()"
      ],
      "metadata": {
        "id": "Vt-oKnxlgA-f",
        "colab": {
          "base_uri": "https://localhost:8080/"
        },
        "outputId": "67f6c026-5067-4738-c63d-27376e3faeb6"
      },
      "execution_count": null,
      "outputs": [
        {
          "output_type": "execute_result",
          "data": {
            "text/plain": [
              "array(['blurb', 'cleanedwikitext', 'indvname'], dtype=object)"
            ]
          },
          "metadata": {},
          "execution_count": 42
        }
      ]
    },
    {
      "cell_type": "markdown",
      "source": [
        "# Troubleshooting reveals common errors and why the old code does not work as intended:"
      ],
      "metadata": {
        "id": "wKp2ZIvfkLvz"
      }
    },
    {
      "cell_type": "markdown",
      "source": [
        "#Part 3\n",
        "Make an interactive notebook.\n",
        "\n",
        "In addition to presenting the project slides, at the end of the presentation each student will demonstrate their code using a famous person suggested by the other students that exists in the DBpedia set.\n",
        "\n",
        "create a function of tf-idf but need to precalculate the tf-idf or it will take too long\n",
        "\n",
        "Drop down\n",
        "sensitivity, polarity\n"
      ],
      "metadata": {
        "id": "K9xpYXUXp3b3"
      }
    },
    {
      "cell_type": "code",
      "source": [
        "# Determine the sentiment associated with the text column in a row number between 0 and 42785 for the AWS dataset.\n",
        "text_sentiment = df.iloc[42785]['text']\n",
        "text_sentiment = TextBlob(text_sentiment)\n",
        "text_sentiment.sentiment"
      ],
      "metadata": {
        "colab": {
          "base_uri": "https://localhost:8080/"
        },
        "id": "CEMBF18JIKhy",
        "outputId": "02ac1eeb-c9d7-4c88-9327-0eb5908a8c96"
      },
      "execution_count": null,
      "outputs": [
        {
          "output_type": "execute_result",
          "data": {
            "text/plain": [
              "Sentiment(polarity=0.05142292490118579, subjectivity=0.34561264822134385)"
            ]
          },
          "metadata": {},
          "execution_count": 46
        }
      ]
    },
    {
      "cell_type": "code",
      "source": [
        "def get_wikipedia_content(names): # This line defines a function called get_wikipedia_content that accepts one argument: names, expected to be a string.\n",
        "    try: # Begin a try-except block, a common way in Python to handle potential errors.\n",
        "        page = wikipedia.page(names) # This is the core of the function and uses the wikipedia.page() function (from the wikipedia app library) to fetch the Wikipedia page corresponding to the provided names and assigns it to the variable page.\n",
        "        return page.content\n",
        "    except wikipedia.exceptions.PageError:\n",
        "        return None  # If a PageError occurs (e.g., page not found), return None\n",
        "print(names) # This returned and printed the value of the 'names' variable, but what was needed was a data series \"names_series\" not a variable"
      ],
      "metadata": {
        "colab": {
          "base_uri": "https://localhost:8080/"
        },
        "outputId": "f4e46411-f40b-4ed7-ce5e-72e4564acec7",
        "id": "6w98_sBN4P_d"
      },
      "execution_count": null,
      "outputs": [
        {
          "output_type": "stream",
          "name": "stdout",
          "text": [
            "['Kenneth Thomas', 'Don Schultz', 'Tamara Golovey', 'Yanko Yanev', 'Michael Khodarkovsky', 'James Eade', 'Irma Arguello', 'Randy Bauer', 'John Large', 'Michael R. Anastasio', 'Bruce G. Blair']\n"
          ]
        }
      ]
    },
    {
      "cell_type": "code",
      "source": [
        "#wiki_names = names_for_wiki2.copy() # Creates a copy of the names_for_wiki2 list (which contains the names of Kenneth Thomas but not the 10 neighbors) and assigns it to wiki_names\n",
        "\n",
        "#wikip = wikipediaapi.Wikipedia(user_agent='Famous_Peep') # This line initializes the wikipediaapi to interact with Wikipedia. The user_agent is set to 'famous_Peep', which is a string identifying the biographical text.\n",
        "\n",
        "# Loop through wiki_names to get text for each person\n",
        "#wiki_texts = {}  # Dictionary to store Wikipedia text for each person\n",
        "#for person in wiki_names: # Starts a loop that iterates through each person (name) in the wiki_names list.\n",
        "    #try: # This code block handles errors.\n",
        "        #page_ex = wikip.page(person) # activates the fetch of the biographical text\n",
        "        #if page_ex.exists(): # Checks to see if the page exists\n",
        "            #wiki_texts[person] = page_ex.text # If the page exists, this line stores the text content of the page (page_ex.text) in the wiki_texts dictionary, using the person's name as the key\n",
        "        #else: # If the page does not exist, this block is executed.\n",
        "            #print(f\"Wikipedia page not found for: {person}\")\n",
        "    #except Exception as e:\n",
        "        #print(f\"Error fetching Wikipedia page for {person}: {e}\")\n",
        "#print(wiki_texts) # Print the wiki_texts dictionary\n",
        "\n",
        "wiki_df = pd.DataFrame(wiki_texts.items(), columns=['Person', 'WikiText'])\n",
        "# Creates a DataFrame named wiki_df using the pd.DataFrame()constructor; wiki_texts.items() provides the data for the DataFrame as a list of (key, value) pairs from the wiki_texts dictionary (where keys are person names and values are Wikipedia text content), columns=['Person', 'WikiText'] specifies the column names for the DataFrame.\n",
        "print(wiki_df)"
      ],
      "metadata": {
        "id": "KuW7VCGh4CRg"
      },
      "execution_count": null,
      "outputs": []
    },
    {
      "cell_type": "markdown",
      "source": [
        "##Future Directions:"
      ],
      "metadata": {
        "id": "FDYeiFDG-Zmj"
      }
    },
    {
      "cell_type": "code",
      "source": [
        "#compare this output from #42 to above output from #42 without cleaning above\n",
        "# BEYOND MVP - consider french translation and compare again...."
      ],
      "metadata": {
        "id": "MKfpZYkag08j"
      },
      "execution_count": null,
      "outputs": []
    }
  ],
  "metadata": {
    "colab": {
      "provenance": [],
      "include_colab_link": true
    },
    "kernelspec": {
      "display_name": "Python 3 (ipykernel)",
      "language": "python",
      "name": "python3"
    },
    "language_info": {
      "codemirror_mode": {
        "name": "ipython",
        "version": 3
      },
      "file_extension": ".py",
      "mimetype": "text/x-python",
      "name": "python",
      "nbconvert_exporter": "python",
      "pygments_lexer": "ipython3",
      "version": "3.10.12"
    }
  },
  "nbformat": 4,
  "nbformat_minor": 0
}