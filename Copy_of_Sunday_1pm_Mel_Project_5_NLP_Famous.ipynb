{
  "cells": [
    {
      "cell_type": "markdown",
      "metadata": {
        "id": "view-in-github",
        "colab_type": "text"
      },
      "source": [
        "<a href=\"https://colab.research.google.com/github/DrMelissaFranklin/Docker.dsub/blob/main/Copy_of_Sunday_1pm_Mel_Project_5_NLP_Famous.ipynb\" target=\"_parent\"><img src=\"https://colab.research.google.com/assets/colab-badge.svg\" alt=\"Open In Colab\"/></a>"
      ]
    },
    {
      "cell_type": "markdown",
      "metadata": {
        "id": "CxYSWPCsM0YU"
      },
      "source": [
        "# Natural Language Processing\n",
        "\n"
      ]
    },
    {
      "cell_type": "markdown",
      "metadata": {
        "id": "FGQCPUEuNezI"
      },
      "source": [
        "This project will give you practical experience using Natural Language Processing techniques. This project is in three parts:\n",
        "- in part 1) you will use a traditional dataset in a CSV file\n",
        "- in part 2) you will use the Wikipedia API to directly access content\n",
        "on Wikipedia.\n",
        "- in part 3) you will make your notebook interactive\n"
      ]
    },
    {
      "cell_type": "markdown",
      "metadata": {
        "id": "IP5iaS9lNamW"
      },
      "source": [
        "### Part 1)\n",
        "\n"
      ]
    },
    {
      "cell_type": "markdown",
      "metadata": {
        "id": "twaXGmp6OAPK"
      },
      "source": [
        "- The CSV file is available at https://ddc-datascience.s3.amazonaws.com/Projects/Project.5-NLP/Data/NLP.csv\n",
        "- The file contains a list of famous people and a brief overview.\n",
        "- The goal of part 1) is provide the capability to\n",
        "  - Take one person from the list as input and output the 10 other people who's overview are \"closest\" to the person in a Natural Language Processing sense\n",
        "  - Also output the sentiment of the overview of the person\n",
        "\n"
      ]
    },
    {
      "cell_type": "markdown",
      "metadata": {
        "id": "SyoC6PWeN9un"
      },
      "source": [
        "### Part 2)\n",
        "\n"
      ]
    },
    {
      "cell_type": "markdown",
      "metadata": {
        "id": "AJxfrb48N-v9"
      },
      "source": [
        "- For the same person from step 1), use the Wikipedia API to access the whole content of that person's Wikipedia page.\n",
        "- The goal of part 2) is to produce the capability to:\n",
        "  1. For that Wikipedia page determine the sentiment of the entire page\n",
        "  1. Print out the Wikipedia article\n",
        "  1. Collect the Wikipedia pages from the 10 nearest neighbors in Step 1)\n",
        "  1. Determine the nearness ranking of these 10 to your main subject based on their entire Wikipedia page\n",
        "  1. Compare the nearest ranking from Step 1) with the Wikipedia page nearness ranking\n",
        "\n"
      ]
    },
    {
      "cell_type": "markdown",
      "metadata": {
        "id": "xEIw9hfFObw7"
      },
      "source": [
        "### Part 3)\n"
      ]
    },
    {
      "cell_type": "markdown",
      "metadata": {
        "id": "SVW0y4Axty7A"
      },
      "source": [
        "Make an interactive notebook.\n",
        "\n",
        "In addition to presenting the project slides, at the end of the presentation each student will demonstrate their code using a famous person suggested by the other students that exists in the DBpedia set.\n"
      ]
    },
    {
      "cell_type": "code",
      "source": [
        "%%capture\n",
        "# Install textblob\n",
        "!pip install -U textblob\n"
      ],
      "metadata": {
        "id": "bRqUxz6KewVl"
      },
      "execution_count": null,
      "outputs": []
    },
    {
      "cell_type": "code",
      "source": [
        "from textblob import TextBlob\n"
      ],
      "metadata": {
        "id": "cJSFDvkMl_JJ"
      },
      "execution_count": null,
      "outputs": []
    },
    {
      "cell_type": "code",
      "source": [
        "%%capture\n",
        "# Download corpora\n",
        "!python -m textblob.download_corpora\n"
      ],
      "metadata": {
        "id": "Yd02zbf2kqec"
      },
      "execution_count": null,
      "outputs": []
    },
    {
      "cell_type": "code",
      "source": [
        "import nltk\n",
        "from nltk.corpus import stopwords, wordnet\n",
        "from nltk.tokenize import word_tokenize, sent_tokenize\n",
        "from nltk.stem import WordNetLemmatizer\n",
        "nltk.download('omw-1.4')\n",
        "nltk.download('stopwords')\n",
        "nltk.download('punkt')\n",
        "nltk.download('averaged_perceptron_tagger')\n",
        "nltk.download('wordnet')\n",
        "nltk.download('punkt_tab')\n",
        "\n",
        "\n",
        "stop_words = set(stopwords.words('english'))\n",
        "lemmatizer = WordNetLemmatizer()\n"
      ],
      "metadata": {
        "colab": {
          "base_uri": "https://localhost:8080/"
        },
        "id": "LcZeJjtWkrvy",
        "outputId": "8c00d4ae-4781-47e9-cf4b-9b47d7c317bc"
      },
      "execution_count": null,
      "outputs": [
        {
          "output_type": "stream",
          "name": "stderr",
          "text": [
            "[nltk_data] Downloading package omw-1.4 to /root/nltk_data...\n",
            "[nltk_data]   Package omw-1.4 is already up-to-date!\n",
            "[nltk_data] Downloading package stopwords to /root/nltk_data...\n",
            "[nltk_data]   Package stopwords is already up-to-date!\n",
            "[nltk_data] Downloading package punkt to /root/nltk_data...\n",
            "[nltk_data]   Package punkt is already up-to-date!\n",
            "[nltk_data] Downloading package averaged_perceptron_tagger to\n",
            "[nltk_data]     /root/nltk_data...\n",
            "[nltk_data]   Package averaged_perceptron_tagger is already up-to-\n",
            "[nltk_data]       date!\n",
            "[nltk_data] Downloading package wordnet to /root/nltk_data...\n",
            "[nltk_data]   Package wordnet is already up-to-date!\n",
            "[nltk_data] Downloading package punkt_tab to /root/nltk_data...\n",
            "[nltk_data]   Package punkt_tab is already up-to-date!\n"
          ]
        }
      ]
    },
    {
      "cell_type": "code",
      "source": [
        "import pandas as pd\n",
        "import numpy as np\n",
        "import re\n",
        "import matplotlib.pyplot as plt\n",
        "import seaborn as sns\n",
        "\n",
        "from sklearn.feature_extraction.text import TfidfVectorizer\n",
        "from sklearn.neighbors import NearestNeighbors\n",
        "from sklearn.feature_extraction.text import CountVectorizer\n",
        "from sklearn.feature_extraction.text import TfidfTransformer\n",
        "from sklearn.metrics.pairwise import cosine_similarity\n",
        "\n",
        "pd.options.display.max_columns = 100"
      ],
      "metadata": {
        "id": "2aKlN3SrkiCz"
      },
      "execution_count": null,
      "outputs": []
    },
    {
      "cell_type": "code",
      "source": [
        "!curl -s https://ddc-datascience.s3.amazonaws.com/Projects/Project.5-NLP/Data/NLP.csv | wc -l"
      ],
      "metadata": {
        "colab": {
          "base_uri": "https://localhost:8080/"
        },
        "id": "t6dopgR3vfDU",
        "outputId": "a7eb2d96-ead9-4068-a39f-f7493165d850"
      },
      "execution_count": null,
      "outputs": [
        {
          "output_type": "stream",
          "name": "stdout",
          "text": [
            "42786\n"
          ]
        }
      ]
    },
    {
      "cell_type": "code",
      "source": [
        "df = pd.read_csv('https://ddc-datascience.s3.amazonaws.com/Projects/Project.5-NLP/Data/NLP.csv')"
      ],
      "metadata": {
        "id": "yHBJAbrGviBT"
      },
      "execution_count": null,
      "outputs": []
    },
    {
      "cell_type": "code",
      "source": [
        "df.shape\n"
      ],
      "metadata": {
        "colab": {
          "base_uri": "https://localhost:8080/"
        },
        "id": "jUSrSCO5mOtz",
        "outputId": "48a1c44a-4788-48e4-ffcc-0ad976ca2cfd"
      },
      "execution_count": null,
      "outputs": [
        {
          "output_type": "execute_result",
          "data": {
            "text/plain": [
              "(42786, 3)"
            ]
          },
          "metadata": {},
          "execution_count": 96
        }
      ]
    },
    {
      "cell_type": "code",
      "source": [
        "df.columns"
      ],
      "metadata": {
        "colab": {
          "base_uri": "https://localhost:8080/"
        },
        "id": "0alpXaY7mDx7",
        "outputId": "f70e80d5-15a1-4a06-d9b9-d11fb74e7cfd"
      },
      "execution_count": null,
      "outputs": [
        {
          "output_type": "execute_result",
          "data": {
            "text/plain": [
              "Index(['URI', 'name', 'text'], dtype='object')"
            ]
          },
          "metadata": {},
          "execution_count": 97
        }
      ]
    },
    {
      "cell_type": "code",
      "source": [
        "df.head()"
      ],
      "metadata": {
        "colab": {
          "base_uri": "https://localhost:8080/",
          "height": 414
        },
        "id": "A_fzGXRbmTjw",
        "outputId": "3df2c2d6-746b-446d-dd76-b62d36cd1d21"
      },
      "execution_count": null,
      "outputs": [
        {
          "output_type": "execute_result",
          "data": {
            "text/plain": [
              "                                                 URI                 name  \\\n",
              "0        <http://dbpedia.org/resource/Digby_Morrell>        Digby Morrell   \n",
              "1       <http://dbpedia.org/resource/Alfred_J._Lewy>       Alfred J. Lewy   \n",
              "2        <http://dbpedia.org/resource/Harpdog_Brown>        Harpdog Brown   \n",
              "3  <http://dbpedia.org/resource/Franz_Rottensteiner>  Franz Rottensteiner   \n",
              "4               <http://dbpedia.org/resource/G-Enka>               G-Enka   \n",
              "\n",
              "                                                text  \n",
              "0  digby morrell born 10 october 1979 is a former...  \n",
              "1  alfred j lewy aka sandy lewy graduated from un...  \n",
              "2  harpdog brown is a singer and harmonica player...  \n",
              "3  franz rottensteiner born in waidmannsfeld lowe...  \n",
              "4  henry krvits born 30 december 1974 in tallinn ...  "
            ],
            "text/html": [
              "\n",
              "  <div id=\"df-59af2d6b-7185-4ed6-aade-8b4d2bba92e8\" class=\"colab-df-container\">\n",
              "    <div>\n",
              "<style scoped>\n",
              "    .dataframe tbody tr th:only-of-type {\n",
              "        vertical-align: middle;\n",
              "    }\n",
              "\n",
              "    .dataframe tbody tr th {\n",
              "        vertical-align: top;\n",
              "    }\n",
              "\n",
              "    .dataframe thead th {\n",
              "        text-align: right;\n",
              "    }\n",
              "</style>\n",
              "<table border=\"1\" class=\"dataframe\">\n",
              "  <thead>\n",
              "    <tr style=\"text-align: right;\">\n",
              "      <th></th>\n",
              "      <th>URI</th>\n",
              "      <th>name</th>\n",
              "      <th>text</th>\n",
              "    </tr>\n",
              "  </thead>\n",
              "  <tbody>\n",
              "    <tr>\n",
              "      <th>0</th>\n",
              "      <td>&lt;http://dbpedia.org/resource/Digby_Morrell&gt;</td>\n",
              "      <td>Digby Morrell</td>\n",
              "      <td>digby morrell born 10 october 1979 is a former...</td>\n",
              "    </tr>\n",
              "    <tr>\n",
              "      <th>1</th>\n",
              "      <td>&lt;http://dbpedia.org/resource/Alfred_J._Lewy&gt;</td>\n",
              "      <td>Alfred J. Lewy</td>\n",
              "      <td>alfred j lewy aka sandy lewy graduated from un...</td>\n",
              "    </tr>\n",
              "    <tr>\n",
              "      <th>2</th>\n",
              "      <td>&lt;http://dbpedia.org/resource/Harpdog_Brown&gt;</td>\n",
              "      <td>Harpdog Brown</td>\n",
              "      <td>harpdog brown is a singer and harmonica player...</td>\n",
              "    </tr>\n",
              "    <tr>\n",
              "      <th>3</th>\n",
              "      <td>&lt;http://dbpedia.org/resource/Franz_Rottensteiner&gt;</td>\n",
              "      <td>Franz Rottensteiner</td>\n",
              "      <td>franz rottensteiner born in waidmannsfeld lowe...</td>\n",
              "    </tr>\n",
              "    <tr>\n",
              "      <th>4</th>\n",
              "      <td>&lt;http://dbpedia.org/resource/G-Enka&gt;</td>\n",
              "      <td>G-Enka</td>\n",
              "      <td>henry krvits born 30 december 1974 in tallinn ...</td>\n",
              "    </tr>\n",
              "  </tbody>\n",
              "</table>\n",
              "</div>\n",
              "    <div class=\"colab-df-buttons\">\n",
              "\n",
              "  <div class=\"colab-df-container\">\n",
              "    <button class=\"colab-df-convert\" onclick=\"convertToInteractive('df-59af2d6b-7185-4ed6-aade-8b4d2bba92e8')\"\n",
              "            title=\"Convert this dataframe to an interactive table.\"\n",
              "            style=\"display:none;\">\n",
              "\n",
              "  <svg xmlns=\"http://www.w3.org/2000/svg\" height=\"24px\" viewBox=\"0 -960 960 960\">\n",
              "    <path d=\"M120-120v-720h720v720H120Zm60-500h600v-160H180v160Zm220 220h160v-160H400v160Zm0 220h160v-160H400v160ZM180-400h160v-160H180v160Zm440 0h160v-160H620v160ZM180-180h160v-160H180v160Zm440 0h160v-160H620v160Z\"/>\n",
              "  </svg>\n",
              "    </button>\n",
              "\n",
              "  <style>\n",
              "    .colab-df-container {\n",
              "      display:flex;\n",
              "      gap: 12px;\n",
              "    }\n",
              "\n",
              "    .colab-df-convert {\n",
              "      background-color: #E8F0FE;\n",
              "      border: none;\n",
              "      border-radius: 50%;\n",
              "      cursor: pointer;\n",
              "      display: none;\n",
              "      fill: #1967D2;\n",
              "      height: 32px;\n",
              "      padding: 0 0 0 0;\n",
              "      width: 32px;\n",
              "    }\n",
              "\n",
              "    .colab-df-convert:hover {\n",
              "      background-color: #E2EBFA;\n",
              "      box-shadow: 0px 1px 2px rgba(60, 64, 67, 0.3), 0px 1px 3px 1px rgba(60, 64, 67, 0.15);\n",
              "      fill: #174EA6;\n",
              "    }\n",
              "\n",
              "    .colab-df-buttons div {\n",
              "      margin-bottom: 4px;\n",
              "    }\n",
              "\n",
              "    [theme=dark] .colab-df-convert {\n",
              "      background-color: #3B4455;\n",
              "      fill: #D2E3FC;\n",
              "    }\n",
              "\n",
              "    [theme=dark] .colab-df-convert:hover {\n",
              "      background-color: #434B5C;\n",
              "      box-shadow: 0px 1px 3px 1px rgba(0, 0, 0, 0.15);\n",
              "      filter: drop-shadow(0px 1px 2px rgba(0, 0, 0, 0.3));\n",
              "      fill: #FFFFFF;\n",
              "    }\n",
              "  </style>\n",
              "\n",
              "    <script>\n",
              "      const buttonEl =\n",
              "        document.querySelector('#df-59af2d6b-7185-4ed6-aade-8b4d2bba92e8 button.colab-df-convert');\n",
              "      buttonEl.style.display =\n",
              "        google.colab.kernel.accessAllowed ? 'block' : 'none';\n",
              "\n",
              "      async function convertToInteractive(key) {\n",
              "        const element = document.querySelector('#df-59af2d6b-7185-4ed6-aade-8b4d2bba92e8');\n",
              "        const dataTable =\n",
              "          await google.colab.kernel.invokeFunction('convertToInteractive',\n",
              "                                                    [key], {});\n",
              "        if (!dataTable) return;\n",
              "\n",
              "        const docLinkHtml = 'Like what you see? Visit the ' +\n",
              "          '<a target=\"_blank\" href=https://colab.research.google.com/notebooks/data_table.ipynb>data table notebook</a>'\n",
              "          + ' to learn more about interactive tables.';\n",
              "        element.innerHTML = '';\n",
              "        dataTable['output_type'] = 'display_data';\n",
              "        await google.colab.output.renderOutput(dataTable, element);\n",
              "        const docLink = document.createElement('div');\n",
              "        docLink.innerHTML = docLinkHtml;\n",
              "        element.appendChild(docLink);\n",
              "      }\n",
              "    </script>\n",
              "  </div>\n",
              "\n",
              "\n",
              "<div id=\"df-ced4b358-8823-4792-8067-8d613c586fd4\">\n",
              "  <button class=\"colab-df-quickchart\" onclick=\"quickchart('df-ced4b358-8823-4792-8067-8d613c586fd4')\"\n",
              "            title=\"Suggest charts\"\n",
              "            style=\"display:none;\">\n",
              "\n",
              "<svg xmlns=\"http://www.w3.org/2000/svg\" height=\"24px\"viewBox=\"0 0 24 24\"\n",
              "     width=\"24px\">\n",
              "    <g>\n",
              "        <path d=\"M19 3H5c-1.1 0-2 .9-2 2v14c0 1.1.9 2 2 2h14c1.1 0 2-.9 2-2V5c0-1.1-.9-2-2-2zM9 17H7v-7h2v7zm4 0h-2V7h2v10zm4 0h-2v-4h2v4z\"/>\n",
              "    </g>\n",
              "</svg>\n",
              "  </button>\n",
              "\n",
              "<style>\n",
              "  .colab-df-quickchart {\n",
              "      --bg-color: #E8F0FE;\n",
              "      --fill-color: #1967D2;\n",
              "      --hover-bg-color: #E2EBFA;\n",
              "      --hover-fill-color: #174EA6;\n",
              "      --disabled-fill-color: #AAA;\n",
              "      --disabled-bg-color: #DDD;\n",
              "  }\n",
              "\n",
              "  [theme=dark] .colab-df-quickchart {\n",
              "      --bg-color: #3B4455;\n",
              "      --fill-color: #D2E3FC;\n",
              "      --hover-bg-color: #434B5C;\n",
              "      --hover-fill-color: #FFFFFF;\n",
              "      --disabled-bg-color: #3B4455;\n",
              "      --disabled-fill-color: #666;\n",
              "  }\n",
              "\n",
              "  .colab-df-quickchart {\n",
              "    background-color: var(--bg-color);\n",
              "    border: none;\n",
              "    border-radius: 50%;\n",
              "    cursor: pointer;\n",
              "    display: none;\n",
              "    fill: var(--fill-color);\n",
              "    height: 32px;\n",
              "    padding: 0;\n",
              "    width: 32px;\n",
              "  }\n",
              "\n",
              "  .colab-df-quickchart:hover {\n",
              "    background-color: var(--hover-bg-color);\n",
              "    box-shadow: 0 1px 2px rgba(60, 64, 67, 0.3), 0 1px 3px 1px rgba(60, 64, 67, 0.15);\n",
              "    fill: var(--button-hover-fill-color);\n",
              "  }\n",
              "\n",
              "  .colab-df-quickchart-complete:disabled,\n",
              "  .colab-df-quickchart-complete:disabled:hover {\n",
              "    background-color: var(--disabled-bg-color);\n",
              "    fill: var(--disabled-fill-color);\n",
              "    box-shadow: none;\n",
              "  }\n",
              "\n",
              "  .colab-df-spinner {\n",
              "    border: 2px solid var(--fill-color);\n",
              "    border-color: transparent;\n",
              "    border-bottom-color: var(--fill-color);\n",
              "    animation:\n",
              "      spin 1s steps(1) infinite;\n",
              "  }\n",
              "\n",
              "  @keyframes spin {\n",
              "    0% {\n",
              "      border-color: transparent;\n",
              "      border-bottom-color: var(--fill-color);\n",
              "      border-left-color: var(--fill-color);\n",
              "    }\n",
              "    20% {\n",
              "      border-color: transparent;\n",
              "      border-left-color: var(--fill-color);\n",
              "      border-top-color: var(--fill-color);\n",
              "    }\n",
              "    30% {\n",
              "      border-color: transparent;\n",
              "      border-left-color: var(--fill-color);\n",
              "      border-top-color: var(--fill-color);\n",
              "      border-right-color: var(--fill-color);\n",
              "    }\n",
              "    40% {\n",
              "      border-color: transparent;\n",
              "      border-right-color: var(--fill-color);\n",
              "      border-top-color: var(--fill-color);\n",
              "    }\n",
              "    60% {\n",
              "      border-color: transparent;\n",
              "      border-right-color: var(--fill-color);\n",
              "    }\n",
              "    80% {\n",
              "      border-color: transparent;\n",
              "      border-right-color: var(--fill-color);\n",
              "      border-bottom-color: var(--fill-color);\n",
              "    }\n",
              "    90% {\n",
              "      border-color: transparent;\n",
              "      border-bottom-color: var(--fill-color);\n",
              "    }\n",
              "  }\n",
              "</style>\n",
              "\n",
              "  <script>\n",
              "    async function quickchart(key) {\n",
              "      const quickchartButtonEl =\n",
              "        document.querySelector('#' + key + ' button');\n",
              "      quickchartButtonEl.disabled = true;  // To prevent multiple clicks.\n",
              "      quickchartButtonEl.classList.add('colab-df-spinner');\n",
              "      try {\n",
              "        const charts = await google.colab.kernel.invokeFunction(\n",
              "            'suggestCharts', [key], {});\n",
              "      } catch (error) {\n",
              "        console.error('Error during call to suggestCharts:', error);\n",
              "      }\n",
              "      quickchartButtonEl.classList.remove('colab-df-spinner');\n",
              "      quickchartButtonEl.classList.add('colab-df-quickchart-complete');\n",
              "    }\n",
              "    (() => {\n",
              "      let quickchartButtonEl =\n",
              "        document.querySelector('#df-ced4b358-8823-4792-8067-8d613c586fd4 button');\n",
              "      quickchartButtonEl.style.display =\n",
              "        google.colab.kernel.accessAllowed ? 'block' : 'none';\n",
              "    })();\n",
              "  </script>\n",
              "</div>\n",
              "\n",
              "    </div>\n",
              "  </div>\n"
            ],
            "application/vnd.google.colaboratory.intrinsic+json": {
              "type": "dataframe",
              "variable_name": "df",
              "summary": "{\n  \"name\": \"df\",\n  \"rows\": 42786,\n  \"fields\": [\n    {\n      \"column\": \"URI\",\n      \"properties\": {\n        \"dtype\": \"string\",\n        \"num_unique_values\": 42786,\n        \"samples\": [\n          \"<http://dbpedia.org/resource/Tom_Bancroft>\",\n          \"<http://dbpedia.org/resource/Bart_Zeller>\",\n          \"<http://dbpedia.org/resource/Caitlin_Morrall>\"\n        ],\n        \"semantic_type\": \"\",\n        \"description\": \"\"\n      }\n    },\n    {\n      \"column\": \"name\",\n      \"properties\": {\n        \"dtype\": \"string\",\n        \"num_unique_values\": 42785,\n        \"samples\": [\n          \"Tom Bancroft\",\n          \"James Holt (scholar)\",\n          \"Chen Tze-chung\"\n        ],\n        \"semantic_type\": \"\",\n        \"description\": \"\"\n      }\n    },\n    {\n      \"column\": \"text\",\n      \"properties\": {\n        \"dtype\": \"string\",\n        \"num_unique_values\": 42786,\n        \"samples\": [\n          \"tom bancroft born 1967 london is a british jazz drummer and composer he began drumming aged seven and started off playing jazz with his father and identical twin brother phil after studying medicine at cambridge university he spent a year studying composition and arranging at mcgill university in montreal canada qualifying as a doctor in 1992 he then worked as a jazz musician and composer supporting his music income with locum work as a hospital doctor until 1998 when he began starting music related companies he is married to singer gina rae and has two children sam and sophie in 2004 he received the creative scotland awardin 1998 he launched caber music with support from the national lottery fund which went on to release over thirty cds over the next seven years to critical acclaim including two bbc jazz awards for best cd and numerous album of the year placings he has subsequently started the company abc creative music with his twin brother phil bancroft which develops creative music education resources which are now being used in more than 500 schools in scotlandas a drummer he has studied with jo morello joey baron and andrew cyrille and played with many musicians including sun ra joakim milder charlie mariano hamiett bluiett liane carroll oliver lake george colligan david berkman tommy smith julian argelles emil vicklicky martin taylor sheila jordan shooglenifty karen mathieson reid anderson billy jenkins bill wells geri allen mr mcfalls chamber and martyn bennetthe is currently the drummer with the dave milligan trio the chick lyall trio and kevin mackenzies vital signs the laura macdonald quartet and octet and plays in an improvising duo with the italian guitarist enzo roccohe is drummer and coleader of trio aab whose first album cold fusion was named an album of 1999 by bbc radio 3 and whose second album wherever i lay my home thats my hat was an album of 2001 in the guardian and picked in a list of 100 essential all time jazz albums by mojo magazine in 2001 they also released stranger things happen at c in 2002 reactivated in 2011 trio aab performed at the delhi jazz festivalas a band leader and composer he has led orchestro interrupto formerly the tom bancroft orchestra a contemporary jazz big band producing the album pieology in 1998 many festival performances a uk tour and a live concert broadcast on bbc radio 3 in 2004 the band toured the uk with geri allen and the tour was broadcast on bbc radio 3 and received five star reviews in the guardian and the scotsman and was voted jazz gig of the year in manchesters city limits and londons time out magazines orchestri interrupto released a cd in 2009 of the music from the geri allen tour with chick lyall on piano entitled the ballad of linda crawford bancroft has also composed for smaller groups including the orange ear ensemble octet and kilt couture a collaboration with french group arfi in 2006 he launched the new tom bancroft 6 pack as well as a spinoff childrens focussed band from the orchestra called kidsamonium which premiered at the gateshead international jazz festival at the sage gateshead and also at the cheltenham jazz festival in 2006 and went on to perform all over europebancrofts compositions have been used in radio film dance television and theatre he has been commissioned by bbc scotland bbc radio 3 glasgow international jazz festival assembly direct birmingham jazz and the national youth jazz orchestra of scotland he has danced in played and composed music for life on the planets surface with kelsey michael and a case for a picnic pt2 tracing houdini and hoops hats acrobats with the choreographer ruby worthhe has led many large scale community and education projects including 150 primary school children performing at the london jazz festival 200 at perth concert hall with classical percussionist colin currie and 100 parents grandparents and children playing drums and percussion at the big stix project at the gateshead jazz festivalbancroft is an active teacher and educator from private drum students to teaching composition and leading big bands he is an apple distinguished educator he has always been active in setting up new ways to promote jazz and improvisation he curated a series of mini festivals for uk and european musicians inside the glasgow jazz festival in the 1990s called clandemonium and europhonium he was active in setting up the scottish jazz federationin 2010 he was musical director of major dance show off kilter which played in major venues across scotland toured scotland with the dave milligan trio and premiered the band of eden malefemale big band to critical acclaimin late 2010 in his role at abc creative music bancroft launched the website abc creative music online to allow scottish schools to teach creative music by smartboard\",\n          \"barton wallace zeller born july 22 1941 is a former professional baseball catcher he played one game in major league baseball in 1970 for the st louis cardinals he recently served as manager of the joliet slammers of the frontier league but was released on september 10 2012zeller was signed by the cardinals in 1963 and spent four years in the cardinals farm system after missing the 1967 season he spent 1968 and 1969 with the lewiston broncs and arkansas travelers respectively zeller played in his only major league game on may 21 1970 against the philadelphia phillies he was inserted to catch the bottom of the ninth inning zeller never had a plate appearance but was credited with one put out on billy mccools strikeout of jim hutto zeller batted and threw righthanded his jersey number was 29 at the time of play he was 6 ft 1 in tall and weighed 185 lbzeller was released as an active player by the cardinals on june 8 but stayed on as a coach for the balance of the 1970 season he played in the minors in 1971 in the milwaukee brewers and new york yankees organizationszeller was the hitting coachthird base coach for the southern illinois miners of the frontier league an independent baseball league zeller began working for the miners in their inaugural 2007 season before coming to the miners zeller spent two seasons with the sioux falls canaries as a bench coach zeller was named as the first manager of slammers in january 2011zeller is currently managing the washington wild things of the frontier league\",\n          \"caitlin shea morrall machol born may 2 1983 is a beauty queen from burlington wisconsin who competed in the 2008 miss usa pageantmorrall who had previously competed in the miss wisconsin america system won the miss wisconsin usa 2007 title in the state pageant held at richland center on 2 september 2006 she competed in the nationally televised miss usa 2007 pageant which was broadcast live from the kodak theatre in hollywood california on march 23 2007 where she placed in top 15 this was the best finish by a contestant from wisconsin in 28 yearsin june 2006 morrall placed first runnerup in the miss wisconsin competition where she competed as miss burlington area chocolatefest she had previously placed 3rd runnerup in 2004 1st runnerup in 2003 and 2nd runnerup in 2002 morrall has held other local titles such as miss racine in 2002 miss milwaukee in 2003 and miss southern wisconsin in 2004 despite being eligible to compete in the miss america system for one more year morrall made the decision to compete in the miss wisconsin usa pageant one week before applications for the pageant closedmorrall is a 2001 graduate of burlington high school wisconsin and is a 2008 graduate of alverno college in milwaukee with a bachelor of arts degree in professional communicationcaitlin is currently the traffic reporter in the morning for wtmjtv 4\"\n        ],\n        \"semantic_type\": \"\",\n        \"description\": \"\"\n      }\n    }\n  ]\n}"
            }
          },
          "metadata": {},
          "execution_count": 98
        }
      ]
    },
    {
      "cell_type": "code",
      "source": [
        "df.tail()"
      ],
      "metadata": {
        "colab": {
          "base_uri": "https://localhost:8080/",
          "height": 658
        },
        "id": "NQxjQrg_oqLR",
        "outputId": "2ba4a0b8-28f5-4a5a-f6fb-80f2caa388f7"
      },
      "execution_count": null,
      "outputs": [
        {
          "output_type": "execute_result",
          "data": {
            "text/plain": [
              "                                                     URI  \\\n",
              "42781   <http://dbpedia.org/resource/Motoaki_Takenouchi>   \n",
              "42782  <http://dbpedia.org/resource/Alan_Judge_(footb...   \n",
              "42783         <http://dbpedia.org/resource/Eduardo_Lara>   \n",
              "42784  <http://dbpedia.org/resource/Tatiana_Faberg%C3...   \n",
              "42785       <http://dbpedia.org/resource/Kenneth_Thomas>   \n",
              "\n",
              "                                     name  \\\n",
              "42781                  Motoaki Takenouchi   \n",
              "42782  Alan Judge (footballer, born 1960)   \n",
              "42783                        Eduardo Lara   \n",
              "42784                Tatiana Faberg%C3%A9   \n",
              "42785                      Kenneth Thomas   \n",
              "\n",
              "                                                    text  \n",
              "42781  motoaki takenouchi born july 8 1967 saitama pr...  \n",
              "42782  alan graham judge born 14 may 1960 is a retire...  \n",
              "42783  eduardo lara lozano born 4 september 1959 in c...  \n",
              "42784  tatiana faberg is an author and faberg scholar...  \n",
              "42785  kenneth thomas born february 24 1938 was chief...  "
            ],
            "text/html": [
              "\n",
              "  <div id=\"df-40229025-688f-4e01-b038-b503b7e83e53\" class=\"colab-df-container\">\n",
              "    <div>\n",
              "<style scoped>\n",
              "    .dataframe tbody tr th:only-of-type {\n",
              "        vertical-align: middle;\n",
              "    }\n",
              "\n",
              "    .dataframe tbody tr th {\n",
              "        vertical-align: top;\n",
              "    }\n",
              "\n",
              "    .dataframe thead th {\n",
              "        text-align: right;\n",
              "    }\n",
              "</style>\n",
              "<table border=\"1\" class=\"dataframe\">\n",
              "  <thead>\n",
              "    <tr style=\"text-align: right;\">\n",
              "      <th></th>\n",
              "      <th>URI</th>\n",
              "      <th>name</th>\n",
              "      <th>text</th>\n",
              "    </tr>\n",
              "  </thead>\n",
              "  <tbody>\n",
              "    <tr>\n",
              "      <th>42781</th>\n",
              "      <td>&lt;http://dbpedia.org/resource/Motoaki_Takenouchi&gt;</td>\n",
              "      <td>Motoaki Takenouchi</td>\n",
              "      <td>motoaki takenouchi born july 8 1967 saitama pr...</td>\n",
              "    </tr>\n",
              "    <tr>\n",
              "      <th>42782</th>\n",
              "      <td>&lt;http://dbpedia.org/resource/Alan_Judge_(footb...</td>\n",
              "      <td>Alan Judge (footballer, born 1960)</td>\n",
              "      <td>alan graham judge born 14 may 1960 is a retire...</td>\n",
              "    </tr>\n",
              "    <tr>\n",
              "      <th>42783</th>\n",
              "      <td>&lt;http://dbpedia.org/resource/Eduardo_Lara&gt;</td>\n",
              "      <td>Eduardo Lara</td>\n",
              "      <td>eduardo lara lozano born 4 september 1959 in c...</td>\n",
              "    </tr>\n",
              "    <tr>\n",
              "      <th>42784</th>\n",
              "      <td>&lt;http://dbpedia.org/resource/Tatiana_Faberg%C3...</td>\n",
              "      <td>Tatiana Faberg%C3%A9</td>\n",
              "      <td>tatiana faberg is an author and faberg scholar...</td>\n",
              "    </tr>\n",
              "    <tr>\n",
              "      <th>42785</th>\n",
              "      <td>&lt;http://dbpedia.org/resource/Kenneth_Thomas&gt;</td>\n",
              "      <td>Kenneth Thomas</td>\n",
              "      <td>kenneth thomas born february 24 1938 was chief...</td>\n",
              "    </tr>\n",
              "  </tbody>\n",
              "</table>\n",
              "</div>\n",
              "    <div class=\"colab-df-buttons\">\n",
              "\n",
              "  <div class=\"colab-df-container\">\n",
              "    <button class=\"colab-df-convert\" onclick=\"convertToInteractive('df-40229025-688f-4e01-b038-b503b7e83e53')\"\n",
              "            title=\"Convert this dataframe to an interactive table.\"\n",
              "            style=\"display:none;\">\n",
              "\n",
              "  <svg xmlns=\"http://www.w3.org/2000/svg\" height=\"24px\" viewBox=\"0 -960 960 960\">\n",
              "    <path d=\"M120-120v-720h720v720H120Zm60-500h600v-160H180v160Zm220 220h160v-160H400v160Zm0 220h160v-160H400v160ZM180-400h160v-160H180v160Zm440 0h160v-160H620v160ZM180-180h160v-160H180v160Zm440 0h160v-160H620v160Z\"/>\n",
              "  </svg>\n",
              "    </button>\n",
              "\n",
              "  <style>\n",
              "    .colab-df-container {\n",
              "      display:flex;\n",
              "      gap: 12px;\n",
              "    }\n",
              "\n",
              "    .colab-df-convert {\n",
              "      background-color: #E8F0FE;\n",
              "      border: none;\n",
              "      border-radius: 50%;\n",
              "      cursor: pointer;\n",
              "      display: none;\n",
              "      fill: #1967D2;\n",
              "      height: 32px;\n",
              "      padding: 0 0 0 0;\n",
              "      width: 32px;\n",
              "    }\n",
              "\n",
              "    .colab-df-convert:hover {\n",
              "      background-color: #E2EBFA;\n",
              "      box-shadow: 0px 1px 2px rgba(60, 64, 67, 0.3), 0px 1px 3px 1px rgba(60, 64, 67, 0.15);\n",
              "      fill: #174EA6;\n",
              "    }\n",
              "\n",
              "    .colab-df-buttons div {\n",
              "      margin-bottom: 4px;\n",
              "    }\n",
              "\n",
              "    [theme=dark] .colab-df-convert {\n",
              "      background-color: #3B4455;\n",
              "      fill: #D2E3FC;\n",
              "    }\n",
              "\n",
              "    [theme=dark] .colab-df-convert:hover {\n",
              "      background-color: #434B5C;\n",
              "      box-shadow: 0px 1px 3px 1px rgba(0, 0, 0, 0.15);\n",
              "      filter: drop-shadow(0px 1px 2px rgba(0, 0, 0, 0.3));\n",
              "      fill: #FFFFFF;\n",
              "    }\n",
              "  </style>\n",
              "\n",
              "    <script>\n",
              "      const buttonEl =\n",
              "        document.querySelector('#df-40229025-688f-4e01-b038-b503b7e83e53 button.colab-df-convert');\n",
              "      buttonEl.style.display =\n",
              "        google.colab.kernel.accessAllowed ? 'block' : 'none';\n",
              "\n",
              "      async function convertToInteractive(key) {\n",
              "        const element = document.querySelector('#df-40229025-688f-4e01-b038-b503b7e83e53');\n",
              "        const dataTable =\n",
              "          await google.colab.kernel.invokeFunction('convertToInteractive',\n",
              "                                                    [key], {});\n",
              "        if (!dataTable) return;\n",
              "\n",
              "        const docLinkHtml = 'Like what you see? Visit the ' +\n",
              "          '<a target=\"_blank\" href=https://colab.research.google.com/notebooks/data_table.ipynb>data table notebook</a>'\n",
              "          + ' to learn more about interactive tables.';\n",
              "        element.innerHTML = '';\n",
              "        dataTable['output_type'] = 'display_data';\n",
              "        await google.colab.output.renderOutput(dataTable, element);\n",
              "        const docLink = document.createElement('div');\n",
              "        docLink.innerHTML = docLinkHtml;\n",
              "        element.appendChild(docLink);\n",
              "      }\n",
              "    </script>\n",
              "  </div>\n",
              "\n",
              "\n",
              "<div id=\"df-01e4ccb1-5469-48e4-8833-48aa903343d4\">\n",
              "  <button class=\"colab-df-quickchart\" onclick=\"quickchart('df-01e4ccb1-5469-48e4-8833-48aa903343d4')\"\n",
              "            title=\"Suggest charts\"\n",
              "            style=\"display:none;\">\n",
              "\n",
              "<svg xmlns=\"http://www.w3.org/2000/svg\" height=\"24px\"viewBox=\"0 0 24 24\"\n",
              "     width=\"24px\">\n",
              "    <g>\n",
              "        <path d=\"M19 3H5c-1.1 0-2 .9-2 2v14c0 1.1.9 2 2 2h14c1.1 0 2-.9 2-2V5c0-1.1-.9-2-2-2zM9 17H7v-7h2v7zm4 0h-2V7h2v10zm4 0h-2v-4h2v4z\"/>\n",
              "    </g>\n",
              "</svg>\n",
              "  </button>\n",
              "\n",
              "<style>\n",
              "  .colab-df-quickchart {\n",
              "      --bg-color: #E8F0FE;\n",
              "      --fill-color: #1967D2;\n",
              "      --hover-bg-color: #E2EBFA;\n",
              "      --hover-fill-color: #174EA6;\n",
              "      --disabled-fill-color: #AAA;\n",
              "      --disabled-bg-color: #DDD;\n",
              "  }\n",
              "\n",
              "  [theme=dark] .colab-df-quickchart {\n",
              "      --bg-color: #3B4455;\n",
              "      --fill-color: #D2E3FC;\n",
              "      --hover-bg-color: #434B5C;\n",
              "      --hover-fill-color: #FFFFFF;\n",
              "      --disabled-bg-color: #3B4455;\n",
              "      --disabled-fill-color: #666;\n",
              "  }\n",
              "\n",
              "  .colab-df-quickchart {\n",
              "    background-color: var(--bg-color);\n",
              "    border: none;\n",
              "    border-radius: 50%;\n",
              "    cursor: pointer;\n",
              "    display: none;\n",
              "    fill: var(--fill-color);\n",
              "    height: 32px;\n",
              "    padding: 0;\n",
              "    width: 32px;\n",
              "  }\n",
              "\n",
              "  .colab-df-quickchart:hover {\n",
              "    background-color: var(--hover-bg-color);\n",
              "    box-shadow: 0 1px 2px rgba(60, 64, 67, 0.3), 0 1px 3px 1px rgba(60, 64, 67, 0.15);\n",
              "    fill: var(--button-hover-fill-color);\n",
              "  }\n",
              "\n",
              "  .colab-df-quickchart-complete:disabled,\n",
              "  .colab-df-quickchart-complete:disabled:hover {\n",
              "    background-color: var(--disabled-bg-color);\n",
              "    fill: var(--disabled-fill-color);\n",
              "    box-shadow: none;\n",
              "  }\n",
              "\n",
              "  .colab-df-spinner {\n",
              "    border: 2px solid var(--fill-color);\n",
              "    border-color: transparent;\n",
              "    border-bottom-color: var(--fill-color);\n",
              "    animation:\n",
              "      spin 1s steps(1) infinite;\n",
              "  }\n",
              "\n",
              "  @keyframes spin {\n",
              "    0% {\n",
              "      border-color: transparent;\n",
              "      border-bottom-color: var(--fill-color);\n",
              "      border-left-color: var(--fill-color);\n",
              "    }\n",
              "    20% {\n",
              "      border-color: transparent;\n",
              "      border-left-color: var(--fill-color);\n",
              "      border-top-color: var(--fill-color);\n",
              "    }\n",
              "    30% {\n",
              "      border-color: transparent;\n",
              "      border-left-color: var(--fill-color);\n",
              "      border-top-color: var(--fill-color);\n",
              "      border-right-color: var(--fill-color);\n",
              "    }\n",
              "    40% {\n",
              "      border-color: transparent;\n",
              "      border-right-color: var(--fill-color);\n",
              "      border-top-color: var(--fill-color);\n",
              "    }\n",
              "    60% {\n",
              "      border-color: transparent;\n",
              "      border-right-color: var(--fill-color);\n",
              "    }\n",
              "    80% {\n",
              "      border-color: transparent;\n",
              "      border-right-color: var(--fill-color);\n",
              "      border-bottom-color: var(--fill-color);\n",
              "    }\n",
              "    90% {\n",
              "      border-color: transparent;\n",
              "      border-bottom-color: var(--fill-color);\n",
              "    }\n",
              "  }\n",
              "</style>\n",
              "\n",
              "  <script>\n",
              "    async function quickchart(key) {\n",
              "      const quickchartButtonEl =\n",
              "        document.querySelector('#' + key + ' button');\n",
              "      quickchartButtonEl.disabled = true;  // To prevent multiple clicks.\n",
              "      quickchartButtonEl.classList.add('colab-df-spinner');\n",
              "      try {\n",
              "        const charts = await google.colab.kernel.invokeFunction(\n",
              "            'suggestCharts', [key], {});\n",
              "      } catch (error) {\n",
              "        console.error('Error during call to suggestCharts:', error);\n",
              "      }\n",
              "      quickchartButtonEl.classList.remove('colab-df-spinner');\n",
              "      quickchartButtonEl.classList.add('colab-df-quickchart-complete');\n",
              "    }\n",
              "    (() => {\n",
              "      let quickchartButtonEl =\n",
              "        document.querySelector('#df-01e4ccb1-5469-48e4-8833-48aa903343d4 button');\n",
              "      quickchartButtonEl.style.display =\n",
              "        google.colab.kernel.accessAllowed ? 'block' : 'none';\n",
              "    })();\n",
              "  </script>\n",
              "</div>\n",
              "\n",
              "    </div>\n",
              "  </div>\n"
            ],
            "application/vnd.google.colaboratory.intrinsic+json": {
              "type": "dataframe",
              "summary": "{\n  \"name\": \"df\",\n  \"rows\": 5,\n  \"fields\": [\n    {\n      \"column\": \"URI\",\n      \"properties\": {\n        \"dtype\": \"string\",\n        \"num_unique_values\": 5,\n        \"samples\": [\n          \"<http://dbpedia.org/resource/Alan_Judge_(footballer,_born_1960)>\",\n          \"<http://dbpedia.org/resource/Kenneth_Thomas>\",\n          \"<http://dbpedia.org/resource/Eduardo_Lara>\"\n        ],\n        \"semantic_type\": \"\",\n        \"description\": \"\"\n      }\n    },\n    {\n      \"column\": \"name\",\n      \"properties\": {\n        \"dtype\": \"string\",\n        \"num_unique_values\": 5,\n        \"samples\": [\n          \"Alan Judge (footballer, born 1960)\",\n          \"Kenneth Thomas\",\n          \"Eduardo Lara\"\n        ],\n        \"semantic_type\": \"\",\n        \"description\": \"\"\n      }\n    },\n    {\n      \"column\": \"text\",\n      \"properties\": {\n        \"dtype\": \"string\",\n        \"num_unique_values\": 5,\n        \"samples\": [\n          \"alan graham judge born 14 may 1960 is a retired professional footballer who is the seventh oldest player to play in the football league he played as a goalkeeperduring his career he played for various clubs at all tiers of the league he was part of the oxford united team which won the milk cup in 1986 he also briefly served as a backup goalkeeper for chelsea in the european cup winners cupoften referred to as the judge after retiring from the professional game alan worked as a driving instructor and goalkeeping coach at several clubs including swindon and oxford occasionally acting as emergency goalkeeping cover in 2001 he organised a rerun of the 1986 milk cup final against qpr for charity on 18 march 2003 at the age of 42 he played his first football league match since leaving hereford united in 1994 he helped oxford to a 11 draw with cambridge united making a vital save in stoppage time during the 200304 season he also made several appearances for didcot town he made a second appearance for oxford on 6 november 2004 at the age of 44 years and 176 days this made him the seventh oldest footballer ever to have appeared in the football league or premier league 1judge now plays for banbury united and has made 17 league appearances so far this season he is also a goalkeeping coach at oxford city\",\n          \"kenneth thomas born february 24 1938 was chief financial officer of the united states chess federation from april 23 to december 31 2004 he took over the position of cfo of the uscf during a period of great financial distress with the uscf having lost money seven years in a row with total losses amounting to 17 million he was hired by bill goichberg because the uscf was in severe financial difficulty he agreed to work for far below the normal salary he restored the federation to profitability and financial solvencyken thomas was born in mead oklahoma during the great dust bowl three of his siblings died of starvation and ken nearly died as well after world war ii ken with his family moved to new jersey he graduated from bound brook high school therekenneth thomas served in the us army ordnance corps from 1961 to 1964 as a sergeant he worked in nuclear weapon assembly he worked in the nuclear weapons laboratory in sandia base near albuquerque new mexico he was a mechanic in the internal workings of nuclear weaponslater he was transferred to ldenscheid west germany and attached to the german army the bundeswehr where he worked on secret weapons in the british sector he speaks german he traveled all over western europe arming and disarming nuclear weapons he also played chess there and twice participated in the european army championships in kaiserslautern germanyafter completing his military service he graduated from the university of houston in 1972 with a bachelor of business administration and from that scho\",\n          \"eduardo lara lozano born 4 september 1959 in cali is a colombian football managereduardo lara is the current colombian youth coach who coaches all levels of the youth nt after reynaldo rueda was promoted to coaching the senior team lara is a very strict man and has left many players off the youth squads even important players like dayro moreno and currently four starters of the under 17 team that were supposed to go to the under 17 world cup in korea but were kicked off the team for drinkinghe led colombian under 20s in 2005 to win the sudamericana and to the world cup where they lost in the quarterfinals to argentina the eventual champions in 2007 his under 20s failed to make it to the world cup but qualified the under 17s to the world cup in korea by finishing 2nd in the sudamericana by goal difference to brasilon september 19 2008 he was named as a provisional manager for major colombian football team as jorge luis pinto was dismissed by the board of colombian football federation he will lead the team for the matches against paraguay and brazil for 2010 world cup qualifiershe also has led the 20s on the 2011 world cup in colombia in which the colombian team beat france 41 mali 20 and korea 10 on the group stage on the round of 16 the colombian team beat costa rica 32 and on quarter finals was beat by mexico 13\"\n        ],\n        \"semantic_type\": \"\",\n        \"description\": \"\"\n      }\n    }\n  ]\n}"
            }
          },
          "metadata": {},
          "execution_count": 99
        }
      ]
    },
    {
      "cell_type": "code",
      "source": [
        "df.iloc[42]['text']\n",
        "#Note: spelling errors"
      ],
      "metadata": {
        "colab": {
          "base_uri": "https://localhost:8080/",
          "height": 268
        },
        "id": "W1TBGLLhL4oG",
        "outputId": "b225c2ff-12a5-4e3e-a2fc-cc25afff6b2c"
      },
      "execution_count": null,
      "outputs": [
        {
          "output_type": "execute_result",
          "data": {
            "text/plain": [
              "'sylvie roy born november 4 1964 in la tuque quebec is a politician in quebec canada and the coalition avenir qubec member of the national assembly for the electoral district of arthabaska she previously represented the riding of lotbinire from 2003 until 2012 initially as a member of the nowdefunct adq until the merger of that party into the caq in 2012she was awarded a law degree from universit laval in 1987 and admitted to the barreau du qubec in 1988 she was lawyer for 15 years including 12 years for mental health organizations in mauricie she served as mayor of saintsophiedelvrard from 1998 to 2003 she also worked for the bcancour regional county municipality quebecroy was first elected to the national assembly in the 2003 election with 37 of the voteparti qubcois pq incumbent jeanguy par finished third with 26 of the votein the 2007 election roy was easily reelected with 59 of the vote liberal candidate laurent boissonneault finished second with 22 of the voteon march 29 2007 roy was appointed deputy official opposition house leaderin the 2008 election roy won reelection with 44 of the vote even though her partys support sharply declined and party leader mario dumont announced his resignation on february 27 2009 she was named the interim leader of the adq until gilles taillon became the permanent leader later that year the adq merged with the caq in 2012 and roy was reelected in the 2012 election'"
            ],
            "application/vnd.google.colaboratory.intrinsic+json": {
              "type": "string"
            }
          },
          "metadata": {},
          "execution_count": 100
        }
      ]
    },
    {
      "cell_type": "code",
      "source": [
        "# Break the text into tokens and tag part of speech\n",
        "#Tokens_text42 = TextBlob(df.iloc[42]['text'])"
      ],
      "metadata": {
        "id": "UB0wYd4cQ3y8"
      },
      "execution_count": null,
      "outputs": []
    },
    {
      "cell_type": "code",
      "source": [
        "# Parse into words\n",
        "#Tokens_text42.text[42].words"
      ],
      "metadata": {
        "id": "wWuwqviSQrgO"
      },
      "execution_count": null,
      "outputs": []
    },
    {
      "cell_type": "code",
      "source": [
        "# What is the sentiment associated with text for row 42, Sylvie Roy, Canadian politician\n",
        "text_sentiment = df.iloc[42]['text']\n",
        "text_sentiment = TextBlob(text_sentiment)\n",
        "text_sentiment.sentiment"
      ],
      "metadata": {
        "colab": {
          "base_uri": "https://localhost:8080/"
        },
        "id": "uCoU6hrYMdPx",
        "outputId": "f4b0061e-919e-4a09-e546-71015dffd4bd"
      },
      "execution_count": null,
      "outputs": [
        {
          "output_type": "execute_result",
          "data": {
            "text/plain": [
              "Sentiment(polarity=0.03240740740740741, subjectivity=0.2537037037037037)"
            ]
          },
          "metadata": {},
          "execution_count": 103
        }
      ]
    },
    {
      "cell_type": "code",
      "source": [
        "# Perform the count transformation\n",
        "vectorizer = CountVectorizer(stop_words='english')\n",
        "# Access the 'text' value from the 42nd row of the DataFrame\n",
        "bow_vec = vectorizer.fit_transform(df.iloc[:]['text']) #slicing out a ds\n",
        "bow_vec\n",
        "#returns a bag of words vector of all 42k+"
      ],
      "metadata": {
        "colab": {
          "base_uri": "https://localhost:8080/"
        },
        "id": "-fpNnab6Nt9b",
        "outputId": "59c11169-6ffd-4208-a00e-30162a6e7419"
      },
      "execution_count": null,
      "outputs": [
        {
          "output_type": "execute_result",
          "data": {
            "text/plain": [
              "<42786x437190 sparse matrix of type '<class 'numpy.int64'>'\n",
              "\twith 5847547 stored elements in Compressed Sparse Row format>"
            ]
          },
          "metadata": {},
          "execution_count": 104
        }
      ]
    },
    {
      "cell_type": "code",
      "source": [
        "#bow_vec.toarray()"
      ],
      "metadata": {
        "id": "W9-vigMEOdAw"
      },
      "execution_count": null,
      "outputs": []
    },
    {
      "cell_type": "code",
      "source": [
        "#tf-idf\n",
        "tfidf = TfidfTransformer()\n",
        "tfidf_vec = tfidf.fit_transform(bow_vec)\n",
        "tfidf_vec  #a sparse matrix"
      ],
      "metadata": {
        "colab": {
          "base_uri": "https://localhost:8080/"
        },
        "id": "mD6nchEZTtoi",
        "outputId": "6316f83e-f209-4f3c-fab1-ccd83da64615"
      },
      "execution_count": null,
      "outputs": [
        {
          "output_type": "execute_result",
          "data": {
            "text/plain": [
              "<42786x437190 sparse matrix of type '<class 'numpy.float64'>'\n",
              "\twith 5847547 stored elements in Compressed Sparse Row format>"
            ]
          },
          "metadata": {},
          "execution_count": 106
        }
      ]
    },
    {
      "cell_type": "code",
      "execution_count": null,
      "metadata": {
        "id": "yRWvvK4t-xjr"
      },
      "outputs": [],
      "source": [
        "nn = NearestNeighbors().fit(tfidf_vec)\n"
      ]
    },
    {
      "cell_type": "markdown",
      "metadata": {
        "id": "gera5zE3cIKq"
      },
      "source": [
        "Get nearest neighbors distances to first sentence\n"
      ]
    },
    {
      "cell_type": "markdown",
      "source": [],
      "metadata": {
        "id": "M6mDCMTIUfPD"
      }
    },
    {
      "cell_type": "code",
      "execution_count": null,
      "metadata": {
        "id": "iHMcIZHr-zHg"
      },
      "outputs": [],
      "source": [
        "distances, indices = nn.kneighbors(\n",
        "  X = tfidf_vec[42],\n",
        "  n_neighbors = 11)\n",
        "\n"
      ]
    },
    {
      "cell_type": "code",
      "execution_count": null,
      "metadata": {
        "id": "hL_E2hcd-1TV",
        "colab": {
          "base_uri": "https://localhost:8080/"
        },
        "outputId": "9cefdd8f-b399-4ede-e999-8728627d49f2"
      },
      "outputs": [
        {
          "output_type": "execute_result",
          "data": {
            "text/plain": [
              "array([[0.        , 1.14739967, 1.17374642, 1.18171971, 1.20426593,\n",
              "        1.20595633, 1.22422289, 1.23227593, 1.25966377, 1.26066425,\n",
              "        1.26560136]])"
            ]
          },
          "metadata": {},
          "execution_count": 109
        }
      ],
      "source": [
        "distances\n"
      ]
    },
    {
      "cell_type": "code",
      "execution_count": null,
      "metadata": {
        "id": "1Yh33IuK-2GT",
        "colab": {
          "base_uri": "https://localhost:8080/"
        },
        "outputId": "f4b2d622-4a14-4e3b-9514-3036b2a69967"
      },
      "outputs": [
        {
          "output_type": "execute_result",
          "data": {
            "text/plain": [
              "array([[   42, 32591,  7862, 36314,  1859, 36099, 40841, 27224, 20278,\n",
              "        26944, 18123]])"
            ]
          },
          "metadata": {},
          "execution_count": 110
        }
      ],
      "source": [
        "indices\n"
      ]
    },
    {
      "cell_type": "code",
      "source": [
        "indices[0]"
      ],
      "metadata": {
        "colab": {
          "base_uri": "https://localhost:8080/"
        },
        "id": "6I99YxSjW1U1",
        "outputId": "5979eb42-8b36-489d-e928-fa87db8225da"
      },
      "execution_count": null,
      "outputs": [
        {
          "output_type": "execute_result",
          "data": {
            "text/plain": [
              "array([   42, 32591,  7862, 36314,  1859, 36099, 40841, 27224, 20278,\n",
              "       26944, 18123])"
            ]
          },
          "metadata": {},
          "execution_count": 111
        }
      ]
    },
    {
      "cell_type": "code",
      "source": [
        "df.iloc[indices[0]]"
      ],
      "metadata": {
        "colab": {
          "base_uri": "https://localhost:8080/",
          "height": 1000
        },
        "id": "vJYSpC8pUwpB",
        "outputId": "72093a90-5c0c-486c-cb70-8c4a391376d0"
      },
      "execution_count": null,
      "outputs": [
        {
          "output_type": "execute_result",
          "data": {
            "text/plain": [
              "                                                     URI  \\\n",
              "42              <http://dbpedia.org/resource/Sylvie_Roy>   \n",
              "32591      <http://dbpedia.org/resource/%C3%89ric_Caire>   \n",
              "7862   <http://dbpedia.org/resource/Claude_Roy_(polit...   \n",
              "36314          <http://dbpedia.org/resource/Marc_Picard>   \n",
              "1859   <http://dbpedia.org/resource/Simon-Pierre_Diam...   \n",
              "36099      <http://dbpedia.org/resource/Janvier_Grondin>   \n",
              "40841  <http://dbpedia.org/resource/Sylvain_L%C3%A9ga...   \n",
              "27224  <http://dbpedia.org/resource/Catherine_Morisse...   \n",
              "20278       <http://dbpedia.org/resource/Roger_Bertrand>   \n",
              "26944        <http://dbpedia.org/resource/Norbert_Morin>   \n",
              "18123  <http://dbpedia.org/resource/S%C3%A9bastien_Sc...   \n",
              "\n",
              "                              name  \\\n",
              "42                      Sylvie Roy   \n",
              "32591              %C3%89ric Caire   \n",
              "7862       Claude Roy (politician)   \n",
              "36314                  Marc Picard   \n",
              "1859          Simon-Pierre Diamond   \n",
              "36099              Janvier Grondin   \n",
              "40841     Sylvain L%C3%A9gar%C3%A9   \n",
              "27224         Catherine Morissette   \n",
              "20278               Roger Bertrand   \n",
              "26944                Norbert Morin   \n",
              "18123  S%C3%A9bastien Schneeberger   \n",
              "\n",
              "                                                    text  \n",
              "42     sylvie roy born november 4 1964 in la tuque qu...  \n",
              "32591  ric caire born may 21 1965 in soreltracy quebe...  \n",
              "7862   claude roy born april 25 1952 in montmagny que...  \n",
              "36314  marc picard born april 25 1955 in saintraphal ...  \n",
              "1859   simonpierre diamond born february 9 1985 in bo...  \n",
              "36099  janvier grondin born on june 16 1947 in saintj...  \n",
              "40841  sylvain lgar born october 22 1970 in quebec ci...  \n",
              "27224  catherine morissette born february 3 1979 in q...  \n",
              "20278  roger bertrand born july 26 1947 is an economi...  \n",
              "26944  norbert morin born december 16 1945 is a polit...  \n",
              "18123  sbastien schneeberger born august 3 1973 is a ...  "
            ],
            "text/html": [
              "\n",
              "  <div id=\"df-520673d7-cbe9-4492-853f-25bdf6e024a1\" class=\"colab-df-container\">\n",
              "    <div>\n",
              "<style scoped>\n",
              "    .dataframe tbody tr th:only-of-type {\n",
              "        vertical-align: middle;\n",
              "    }\n",
              "\n",
              "    .dataframe tbody tr th {\n",
              "        vertical-align: top;\n",
              "    }\n",
              "\n",
              "    .dataframe thead th {\n",
              "        text-align: right;\n",
              "    }\n",
              "</style>\n",
              "<table border=\"1\" class=\"dataframe\">\n",
              "  <thead>\n",
              "    <tr style=\"text-align: right;\">\n",
              "      <th></th>\n",
              "      <th>URI</th>\n",
              "      <th>name</th>\n",
              "      <th>text</th>\n",
              "    </tr>\n",
              "  </thead>\n",
              "  <tbody>\n",
              "    <tr>\n",
              "      <th>42</th>\n",
              "      <td>&lt;http://dbpedia.org/resource/Sylvie_Roy&gt;</td>\n",
              "      <td>Sylvie Roy</td>\n",
              "      <td>sylvie roy born november 4 1964 in la tuque qu...</td>\n",
              "    </tr>\n",
              "    <tr>\n",
              "      <th>32591</th>\n",
              "      <td>&lt;http://dbpedia.org/resource/%C3%89ric_Caire&gt;</td>\n",
              "      <td>%C3%89ric Caire</td>\n",
              "      <td>ric caire born may 21 1965 in soreltracy quebe...</td>\n",
              "    </tr>\n",
              "    <tr>\n",
              "      <th>7862</th>\n",
              "      <td>&lt;http://dbpedia.org/resource/Claude_Roy_(polit...</td>\n",
              "      <td>Claude Roy (politician)</td>\n",
              "      <td>claude roy born april 25 1952 in montmagny que...</td>\n",
              "    </tr>\n",
              "    <tr>\n",
              "      <th>36314</th>\n",
              "      <td>&lt;http://dbpedia.org/resource/Marc_Picard&gt;</td>\n",
              "      <td>Marc Picard</td>\n",
              "      <td>marc picard born april 25 1955 in saintraphal ...</td>\n",
              "    </tr>\n",
              "    <tr>\n",
              "      <th>1859</th>\n",
              "      <td>&lt;http://dbpedia.org/resource/Simon-Pierre_Diam...</td>\n",
              "      <td>Simon-Pierre Diamond</td>\n",
              "      <td>simonpierre diamond born february 9 1985 in bo...</td>\n",
              "    </tr>\n",
              "    <tr>\n",
              "      <th>36099</th>\n",
              "      <td>&lt;http://dbpedia.org/resource/Janvier_Grondin&gt;</td>\n",
              "      <td>Janvier Grondin</td>\n",
              "      <td>janvier grondin born on june 16 1947 in saintj...</td>\n",
              "    </tr>\n",
              "    <tr>\n",
              "      <th>40841</th>\n",
              "      <td>&lt;http://dbpedia.org/resource/Sylvain_L%C3%A9ga...</td>\n",
              "      <td>Sylvain L%C3%A9gar%C3%A9</td>\n",
              "      <td>sylvain lgar born october 22 1970 in quebec ci...</td>\n",
              "    </tr>\n",
              "    <tr>\n",
              "      <th>27224</th>\n",
              "      <td>&lt;http://dbpedia.org/resource/Catherine_Morisse...</td>\n",
              "      <td>Catherine Morissette</td>\n",
              "      <td>catherine morissette born february 3 1979 in q...</td>\n",
              "    </tr>\n",
              "    <tr>\n",
              "      <th>20278</th>\n",
              "      <td>&lt;http://dbpedia.org/resource/Roger_Bertrand&gt;</td>\n",
              "      <td>Roger Bertrand</td>\n",
              "      <td>roger bertrand born july 26 1947 is an economi...</td>\n",
              "    </tr>\n",
              "    <tr>\n",
              "      <th>26944</th>\n",
              "      <td>&lt;http://dbpedia.org/resource/Norbert_Morin&gt;</td>\n",
              "      <td>Norbert Morin</td>\n",
              "      <td>norbert morin born december 16 1945 is a polit...</td>\n",
              "    </tr>\n",
              "    <tr>\n",
              "      <th>18123</th>\n",
              "      <td>&lt;http://dbpedia.org/resource/S%C3%A9bastien_Sc...</td>\n",
              "      <td>S%C3%A9bastien Schneeberger</td>\n",
              "      <td>sbastien schneeberger born august 3 1973 is a ...</td>\n",
              "    </tr>\n",
              "  </tbody>\n",
              "</table>\n",
              "</div>\n",
              "    <div class=\"colab-df-buttons\">\n",
              "\n",
              "  <div class=\"colab-df-container\">\n",
              "    <button class=\"colab-df-convert\" onclick=\"convertToInteractive('df-520673d7-cbe9-4492-853f-25bdf6e024a1')\"\n",
              "            title=\"Convert this dataframe to an interactive table.\"\n",
              "            style=\"display:none;\">\n",
              "\n",
              "  <svg xmlns=\"http://www.w3.org/2000/svg\" height=\"24px\" viewBox=\"0 -960 960 960\">\n",
              "    <path d=\"M120-120v-720h720v720H120Zm60-500h600v-160H180v160Zm220 220h160v-160H400v160Zm0 220h160v-160H400v160ZM180-400h160v-160H180v160Zm440 0h160v-160H620v160ZM180-180h160v-160H180v160Zm440 0h160v-160H620v160Z\"/>\n",
              "  </svg>\n",
              "    </button>\n",
              "\n",
              "  <style>\n",
              "    .colab-df-container {\n",
              "      display:flex;\n",
              "      gap: 12px;\n",
              "    }\n",
              "\n",
              "    .colab-df-convert {\n",
              "      background-color: #E8F0FE;\n",
              "      border: none;\n",
              "      border-radius: 50%;\n",
              "      cursor: pointer;\n",
              "      display: none;\n",
              "      fill: #1967D2;\n",
              "      height: 32px;\n",
              "      padding: 0 0 0 0;\n",
              "      width: 32px;\n",
              "    }\n",
              "\n",
              "    .colab-df-convert:hover {\n",
              "      background-color: #E2EBFA;\n",
              "      box-shadow: 0px 1px 2px rgba(60, 64, 67, 0.3), 0px 1px 3px 1px rgba(60, 64, 67, 0.15);\n",
              "      fill: #174EA6;\n",
              "    }\n",
              "\n",
              "    .colab-df-buttons div {\n",
              "      margin-bottom: 4px;\n",
              "    }\n",
              "\n",
              "    [theme=dark] .colab-df-convert {\n",
              "      background-color: #3B4455;\n",
              "      fill: #D2E3FC;\n",
              "    }\n",
              "\n",
              "    [theme=dark] .colab-df-convert:hover {\n",
              "      background-color: #434B5C;\n",
              "      box-shadow: 0px 1px 3px 1px rgba(0, 0, 0, 0.15);\n",
              "      filter: drop-shadow(0px 1px 2px rgba(0, 0, 0, 0.3));\n",
              "      fill: #FFFFFF;\n",
              "    }\n",
              "  </style>\n",
              "\n",
              "    <script>\n",
              "      const buttonEl =\n",
              "        document.querySelector('#df-520673d7-cbe9-4492-853f-25bdf6e024a1 button.colab-df-convert');\n",
              "      buttonEl.style.display =\n",
              "        google.colab.kernel.accessAllowed ? 'block' : 'none';\n",
              "\n",
              "      async function convertToInteractive(key) {\n",
              "        const element = document.querySelector('#df-520673d7-cbe9-4492-853f-25bdf6e024a1');\n",
              "        const dataTable =\n",
              "          await google.colab.kernel.invokeFunction('convertToInteractive',\n",
              "                                                    [key], {});\n",
              "        if (!dataTable) return;\n",
              "\n",
              "        const docLinkHtml = 'Like what you see? Visit the ' +\n",
              "          '<a target=\"_blank\" href=https://colab.research.google.com/notebooks/data_table.ipynb>data table notebook</a>'\n",
              "          + ' to learn more about interactive tables.';\n",
              "        element.innerHTML = '';\n",
              "        dataTable['output_type'] = 'display_data';\n",
              "        await google.colab.output.renderOutput(dataTable, element);\n",
              "        const docLink = document.createElement('div');\n",
              "        docLink.innerHTML = docLinkHtml;\n",
              "        element.appendChild(docLink);\n",
              "      }\n",
              "    </script>\n",
              "  </div>\n",
              "\n",
              "\n",
              "<div id=\"df-7818b7e8-cc14-43ef-aff6-cb7f6e65ae31\">\n",
              "  <button class=\"colab-df-quickchart\" onclick=\"quickchart('df-7818b7e8-cc14-43ef-aff6-cb7f6e65ae31')\"\n",
              "            title=\"Suggest charts\"\n",
              "            style=\"display:none;\">\n",
              "\n",
              "<svg xmlns=\"http://www.w3.org/2000/svg\" height=\"24px\"viewBox=\"0 0 24 24\"\n",
              "     width=\"24px\">\n",
              "    <g>\n",
              "        <path d=\"M19 3H5c-1.1 0-2 .9-2 2v14c0 1.1.9 2 2 2h14c1.1 0 2-.9 2-2V5c0-1.1-.9-2-2-2zM9 17H7v-7h2v7zm4 0h-2V7h2v10zm4 0h-2v-4h2v4z\"/>\n",
              "    </g>\n",
              "</svg>\n",
              "  </button>\n",
              "\n",
              "<style>\n",
              "  .colab-df-quickchart {\n",
              "      --bg-color: #E8F0FE;\n",
              "      --fill-color: #1967D2;\n",
              "      --hover-bg-color: #E2EBFA;\n",
              "      --hover-fill-color: #174EA6;\n",
              "      --disabled-fill-color: #AAA;\n",
              "      --disabled-bg-color: #DDD;\n",
              "  }\n",
              "\n",
              "  [theme=dark] .colab-df-quickchart {\n",
              "      --bg-color: #3B4455;\n",
              "      --fill-color: #D2E3FC;\n",
              "      --hover-bg-color: #434B5C;\n",
              "      --hover-fill-color: #FFFFFF;\n",
              "      --disabled-bg-color: #3B4455;\n",
              "      --disabled-fill-color: #666;\n",
              "  }\n",
              "\n",
              "  .colab-df-quickchart {\n",
              "    background-color: var(--bg-color);\n",
              "    border: none;\n",
              "    border-radius: 50%;\n",
              "    cursor: pointer;\n",
              "    display: none;\n",
              "    fill: var(--fill-color);\n",
              "    height: 32px;\n",
              "    padding: 0;\n",
              "    width: 32px;\n",
              "  }\n",
              "\n",
              "  .colab-df-quickchart:hover {\n",
              "    background-color: var(--hover-bg-color);\n",
              "    box-shadow: 0 1px 2px rgba(60, 64, 67, 0.3), 0 1px 3px 1px rgba(60, 64, 67, 0.15);\n",
              "    fill: var(--button-hover-fill-color);\n",
              "  }\n",
              "\n",
              "  .colab-df-quickchart-complete:disabled,\n",
              "  .colab-df-quickchart-complete:disabled:hover {\n",
              "    background-color: var(--disabled-bg-color);\n",
              "    fill: var(--disabled-fill-color);\n",
              "    box-shadow: none;\n",
              "  }\n",
              "\n",
              "  .colab-df-spinner {\n",
              "    border: 2px solid var(--fill-color);\n",
              "    border-color: transparent;\n",
              "    border-bottom-color: var(--fill-color);\n",
              "    animation:\n",
              "      spin 1s steps(1) infinite;\n",
              "  }\n",
              "\n",
              "  @keyframes spin {\n",
              "    0% {\n",
              "      border-color: transparent;\n",
              "      border-bottom-color: var(--fill-color);\n",
              "      border-left-color: var(--fill-color);\n",
              "    }\n",
              "    20% {\n",
              "      border-color: transparent;\n",
              "      border-left-color: var(--fill-color);\n",
              "      border-top-color: var(--fill-color);\n",
              "    }\n",
              "    30% {\n",
              "      border-color: transparent;\n",
              "      border-left-color: var(--fill-color);\n",
              "      border-top-color: var(--fill-color);\n",
              "      border-right-color: var(--fill-color);\n",
              "    }\n",
              "    40% {\n",
              "      border-color: transparent;\n",
              "      border-right-color: var(--fill-color);\n",
              "      border-top-color: var(--fill-color);\n",
              "    }\n",
              "    60% {\n",
              "      border-color: transparent;\n",
              "      border-right-color: var(--fill-color);\n",
              "    }\n",
              "    80% {\n",
              "      border-color: transparent;\n",
              "      border-right-color: var(--fill-color);\n",
              "      border-bottom-color: var(--fill-color);\n",
              "    }\n",
              "    90% {\n",
              "      border-color: transparent;\n",
              "      border-bottom-color: var(--fill-color);\n",
              "    }\n",
              "  }\n",
              "</style>\n",
              "\n",
              "  <script>\n",
              "    async function quickchart(key) {\n",
              "      const quickchartButtonEl =\n",
              "        document.querySelector('#' + key + ' button');\n",
              "      quickchartButtonEl.disabled = true;  // To prevent multiple clicks.\n",
              "      quickchartButtonEl.classList.add('colab-df-spinner');\n",
              "      try {\n",
              "        const charts = await google.colab.kernel.invokeFunction(\n",
              "            'suggestCharts', [key], {});\n",
              "      } catch (error) {\n",
              "        console.error('Error during call to suggestCharts:', error);\n",
              "      }\n",
              "      quickchartButtonEl.classList.remove('colab-df-spinner');\n",
              "      quickchartButtonEl.classList.add('colab-df-quickchart-complete');\n",
              "    }\n",
              "    (() => {\n",
              "      let quickchartButtonEl =\n",
              "        document.querySelector('#df-7818b7e8-cc14-43ef-aff6-cb7f6e65ae31 button');\n",
              "      quickchartButtonEl.style.display =\n",
              "        google.colab.kernel.accessAllowed ? 'block' : 'none';\n",
              "    })();\n",
              "  </script>\n",
              "</div>\n",
              "\n",
              "    </div>\n",
              "  </div>\n"
            ],
            "application/vnd.google.colaboratory.intrinsic+json": {
              "type": "dataframe",
              "summary": "{\n  \"name\": \"df\",\n  \"rows\": 11,\n  \"fields\": [\n    {\n      \"column\": \"URI\",\n      \"properties\": {\n        \"dtype\": \"string\",\n        \"num_unique_values\": 11,\n        \"samples\": [\n          \"<http://dbpedia.org/resource/Janvier_Grondin>\",\n          \"<http://dbpedia.org/resource/Sylvie_Roy>\",\n          \"<http://dbpedia.org/resource/Norbert_Morin>\"\n        ],\n        \"semantic_type\": \"\",\n        \"description\": \"\"\n      }\n    },\n    {\n      \"column\": \"name\",\n      \"properties\": {\n        \"dtype\": \"string\",\n        \"num_unique_values\": 11,\n        \"samples\": [\n          \"Janvier Grondin\",\n          \"Sylvie Roy\",\n          \"Norbert Morin\"\n        ],\n        \"semantic_type\": \"\",\n        \"description\": \"\"\n      }\n    },\n    {\n      \"column\": \"text\",\n      \"properties\": {\n        \"dtype\": \"string\",\n        \"num_unique_values\": 11,\n        \"samples\": [\n          \"janvier grondin born on june 16 1947 in saintjules quebec is a former politician in the province of quebec canada he represented the beaucenord district at the national assembly of quebec until 2012 as a member of the coalition avenir quebec he previously represented the riding as a member of the now defunct action dmocratique du qubec adq before the adq merged with the caq in january 2012prior to being elected he served as mayor of saintjules beauce from 1993 to 2003 he was also an administrator for the union des producteurs agricoles upa the vicepresident of rgie intermunicipale beauce the president of the clsc beaucecentre and an administrator for the saintjules chamber of commercegrondin was first elected as a member of the national assembly in the 2003 election with 46 of the vote the liberal incumbent normand poulin finished second with 38 of the votein 2006 grondin claimed that an influential liberal supporter tried to convince him not to run in the 2007 election in order to favour the election of liberal candidate claude drouin grondin claims that a well paid job in the public service which he declined was offered to him liberal leader and premier of quebec jean charest denied the accusation and dared grondin to tell the public who made the offer grondin said that if charest called him personally he would be glad to do so but charest refusedgrondin was reelected with 63 of the vote in the 2007 election defeating liberal claude drouin and with 50 of the vote in 2008 election\",\n          \"sylvie roy born november 4 1964 in la tuque quebec is a politician in quebec canada and the coalition avenir qubec member of the national assembly for the electoral district of arthabaska she previously represented the riding of lotbinire from 2003 until 2012 initially as a member of the nowdefunct adq until the merger of that party into the caq in 2012she was awarded a law degree from universit laval in 1987 and admitted to the barreau du qubec in 1988 she was lawyer for 15 years including 12 years for mental health organizations in mauricie she served as mayor of saintsophiedelvrard from 1998 to 2003 she also worked for the bcancour regional county municipality quebecroy was first elected to the national assembly in the 2003 election with 37 of the voteparti qubcois pq incumbent jeanguy par finished third with 26 of the votein the 2007 election roy was easily reelected with 59 of the vote liberal candidate laurent boissonneault finished second with 22 of the voteon march 29 2007 roy was appointed deputy official opposition house leaderin the 2008 election roy won reelection with 44 of the vote even though her partys support sharply declined and party leader mario dumont announced his resignation on february 27 2009 she was named the interim leader of the adq until gilles taillon became the permanent leader later that year the adq merged with the caq in 2012 and roy was reelected in the 2012 election\",\n          \"norbert morin born december 16 1945 is a politician in the canadian province of quebec he is a member of the quebec liberal party and is the member of the national assembly of quebec for ctedusud electoral districthe was first elected to represent the riding of montmagnylislet in the national assembly of quebec in the 2003 provincial election but was defeated in the 2007 provincial election by claude roy of the action dmocratique du qubec he was subsequently reelected in the 2008 provincial election montmagnylislet ceased to exist in the 2012 election and morin ran and won in the newly created ctedusudprior to his election morin was a municipal councilor from 1974 to 2002 for the municipality of saintfranoisdelariviredusud and was mayor for the town in 2003 and in 2007 he was an administrative member for a local desjardins bank the montmagny clsc and chsld as well as the local tourism office he was also president for the public safety committee and an administrator of the local development center of the montmagny regional county municipality he is also the owner of a meat shop since 1990during his first term morin was the parliamentary assistant to the minister of wildlife and parks\"\n        ],\n        \"semantic_type\": \"\",\n        \"description\": \"\"\n      }\n    }\n  ]\n}"
            }
          },
          "metadata": {},
          "execution_count": 112
        }
      ]
    },
    {
      "cell_type": "markdown",
      "source": [
        "# ALTERNATIVE: Using loops to accomplish Part 1\n",
        "\n",
        "### def preprocess_text(text):\n",
        "    # Convert to lowercase\n",
        "    text = text.lower()\n",
        "\n",
        "    # Remove punctuation and special characters\n",
        "    text = re.sub(r'[^\\w\\s]', '', text)\n",
        "\n",
        "    return text\n",
        "\n",
        "### def create_neighbors(overviews):\n",
        "    # Create a matrix of overviews\n",
        "    overview_matrix = np.array([preprocess_text(ov) for ov in overviews])\n",
        "\n",
        "    # Initialize and fit the model [what are these algorithms doing?]\n",
        "    nn = NearestNeighbors(n_neighbors=11, algorithm='brute', metric='hamming')\n",
        "    nn.fit(overview_matrix)\n",
        "\n",
        "    return nn\n",
        "\n",
        "### def find_similar_profiles(nn, profile_index):\n",
        "    distances, indices = nn.kneighbors([np.array([preprocess_text(df.loc[df['name'] == df.iloc[profile_index]['name'], 'overview'].iloc[0])])])\n",
        "    similar_indices = indices[0][1:]\n",
        "    return df.loc[similar_indices]\n",
        "\n"
      ],
      "metadata": {
        "id": "xRSbnWXDtZQH"
      }
    },
    {
      "cell_type": "markdown",
      "source": [
        "# Part 2\n",
        "\n",
        "\n",
        "- For the same person from step 1), use the Wikipedia API to access the whole content of that person's Wikipedia page.\n",
        "- The goal of part 2) is to produce the capability to:\n",
        "  1. For that Wikipedia page determine the sentiment of the entire page\n",
        "  1. Print out the Wikipedia article\n",
        "  1. Collect the Wikipedia pages from the 10 nearest neighbors in Step 1)\n",
        "  1. Determine the nearness ranking of these 10 to your main subject based on their entire Wikipedia page\n",
        "  1. Compare the nearest ranking from Step 1) with the Wikipedia page nearness ranking"
      ],
      "metadata": {
        "id": "WvpPr2_Zs0uU"
      }
    },
    {
      "cell_type": "code",
      "source": [
        "#To grab the names from WIKI\n",
        "names = []\n",
        "for i in indices[0]:\n",
        "  names.append(df.iloc[i]['name'])\n",
        "names_for_wiki = pd.Series(names)\n",
        "#print(pd.Series(names))"
      ],
      "metadata": {
        "id": "uS_M6LcpiP6o"
      },
      "execution_count": null,
      "outputs": []
    },
    {
      "cell_type": "code",
      "source": [
        "def preprocess_names(names):\n",
        "\n",
        "    # Remove punctuation and special characters\n",
        "    Wiki_names = names.str.replace(r'[^\\w\\s]', '', regex=True) # Use .str.replace() for Series\n",
        "\n",
        "    return Wiki_names\n",
        "\n",
        "# Call the function with your data and assign the result\n",
        "processed_names = preprocess_names(names_for_wiki)\n",
        "\n",
        "# Now you can print the processed names\n",
        "print(processed_names)"
      ],
      "metadata": {
        "id": "b3sOc7vgwaV1",
        "colab": {
          "base_uri": "https://localhost:8080/"
        },
        "outputId": "e5ad3c42-606c-426f-b1ca-be10c2df455b"
      },
      "execution_count": null,
      "outputs": [
        {
          "output_type": "stream",
          "name": "stdout",
          "text": [
            "0                    Sylvie Roy\n",
            "1                 C389ric Caire\n",
            "2         Claude Roy politician\n",
            "3                   Marc Picard\n",
            "4           SimonPierre Diamond\n",
            "5               Janvier Grondin\n",
            "6          Sylvain LC3A9garC3A9\n",
            "7          Catherine Morissette\n",
            "8                Roger Bertrand\n",
            "9                 Norbert Morin\n",
            "10    SC3A9bastien Schneeberger\n",
            "dtype: object\n"
          ]
        }
      ]
    },
    {
      "cell_type": "markdown",
      "source": [
        "#Part 2: Replace Sylvie Roy (seed 42) with 42785 from the tail to be rid of french name problems."
      ],
      "metadata": {
        "id": "znWo7MA0Dn8A"
      }
    },
    {
      "cell_type": "code",
      "source": [
        "df2 = df.copy()\n",
        "df2.iloc[42785]['text']"
      ],
      "metadata": {
        "colab": {
          "base_uri": "https://localhost:8080/",
          "height": 268
        },
        "id": "-uFaOOe0DIwZ",
        "outputId": "0e877c41-da38-4d1f-b1d9-c88f26f23c26"
      },
      "execution_count": null,
      "outputs": [
        {
          "output_type": "execute_result",
          "data": {
            "text/plain": [
              "'kenneth thomas born february 24 1938 was chief financial officer of the united states chess federation from april 23 to december 31 2004 he took over the position of cfo of the uscf during a period of great financial distress with the uscf having lost money seven years in a row with total losses amounting to 17 million he was hired by bill goichberg because the uscf was in severe financial difficulty he agreed to work for far below the normal salary he restored the federation to profitability and financial solvencyken thomas was born in mead oklahoma during the great dust bowl three of his siblings died of starvation and ken nearly died as well after world war ii ken with his family moved to new jersey he graduated from bound brook high school therekenneth thomas served in the us army ordnance corps from 1961 to 1964 as a sergeant he worked in nuclear weapon assembly he worked in the nuclear weapons laboratory in sandia base near albuquerque new mexico he was a mechanic in the internal workings of nuclear weaponslater he was transferred to ldenscheid west germany and attached to the german army the bundeswehr where he worked on secret weapons in the british sector he speaks german he traveled all over western europe arming and disarming nuclear weapons he also played chess there and twice participated in the european army championships in kaiserslautern germanyafter completing his military service he graduated from the university of houston in 1972 with a bachelor of business administration and from that scho'"
            ],
            "application/vnd.google.colaboratory.intrinsic+json": {
              "type": "string"
            }
          },
          "metadata": {},
          "execution_count": 115
        }
      ]
    },
    {
      "cell_type": "code",
      "execution_count": null,
      "metadata": {
        "id": "BRuT_s2ZFY1e"
      },
      "outputs": [],
      "source": [
        "#nn = NearestNeighbors().fit(tfidf_vec)\n",
        "#This was already run for the entire df so don't need to run again"
      ]
    },
    {
      "cell_type": "markdown",
      "metadata": {
        "id": "3O1rlwO5FY1e"
      },
      "source": [
        "Get nearest neighbors distances to new seed 42785 Kenneth Thomas\n"
      ]
    },
    {
      "cell_type": "code",
      "execution_count": null,
      "metadata": {
        "id": "deXV1YlFFY1e"
      },
      "outputs": [],
      "source": [
        "distances, indices = nn.kneighbors(\n",
        "  X = tfidf_vec[42785],\n",
        "  n_neighbors = 11)\n",
        "\n",
        "#running this code again for 42785"
      ]
    },
    {
      "cell_type": "code",
      "execution_count": null,
      "metadata": {
        "colab": {
          "base_uri": "https://localhost:8080/"
        },
        "outputId": "e6e91437-adb2-4bd8-9e1a-85879adb65d5",
        "id": "e4k1j-eJFY1e"
      },
      "outputs": [
        {
          "output_type": "execute_result",
          "data": {
            "text/plain": [
              "array([[0.        , 1.22992624, 1.25191282, 1.25550796, 1.26614022,\n",
              "        1.27261345, 1.28431549, 1.28672592, 1.28783668, 1.28832753,\n",
              "        1.29327643]])"
            ]
          },
          "metadata": {},
          "execution_count": 118
        }
      ],
      "source": [
        "distances\n"
      ]
    },
    {
      "cell_type": "code",
      "execution_count": null,
      "metadata": {
        "colab": {
          "base_uri": "https://localhost:8080/"
        },
        "outputId": "b74cd985-2d46-4313-d5ad-8de032500120",
        "id": "aiu9009tFY1e"
      },
      "outputs": [
        {
          "output_type": "execute_result",
          "data": {
            "text/plain": [
              "array([[42785, 35332, 42541, 11232, 20076, 14897, 22282, 12890, 36050,\n",
              "        36821, 19596]])"
            ]
          },
          "metadata": {},
          "execution_count": 148
        }
      ],
      "source": [
        "indices\n"
      ]
    },
    {
      "cell_type": "code",
      "source": [
        "indices[0]"
      ],
      "metadata": {
        "colab": {
          "base_uri": "https://localhost:8080/"
        },
        "outputId": "73d40bce-4ae9-4950-ba74-cce45e425a1c",
        "id": "CJqBGuvfFY1e"
      },
      "execution_count": null,
      "outputs": [
        {
          "output_type": "execute_result",
          "data": {
            "text/plain": [
              "array([42785, 35332, 42541, 11232, 20076, 14897, 22282, 12890, 36050,\n",
              "       36821, 19596])"
            ]
          },
          "metadata": {},
          "execution_count": 149
        }
      ]
    },
    {
      "cell_type": "code",
      "source": [
        "df2.iloc[indices[0]]"
      ],
      "metadata": {
        "colab": {
          "base_uri": "https://localhost:8080/",
          "height": 1000
        },
        "outputId": "3c4627f5-4afc-447a-8c0e-f3d611413e82",
        "id": "nzDs7CpzFY1e"
      },
      "execution_count": null,
      "outputs": [
        {
          "output_type": "execute_result",
          "data": {
            "text/plain": [
              "                                                     URI  \\\n",
              "42785       <http://dbpedia.org/resource/Kenneth_Thomas>   \n",
              "35332          <http://dbpedia.org/resource/Don_Schultz>   \n",
              "42541       <http://dbpedia.org/resource/Tamara_Golovey>   \n",
              "11232          <http://dbpedia.org/resource/Yanko_Yanev>   \n",
              "20076  <http://dbpedia.org/resource/Michael_Khodarkov...   \n",
              "14897           <http://dbpedia.org/resource/James_Eade>   \n",
              "22282        <http://dbpedia.org/resource/Irma_Arguello>   \n",
              "12890          <http://dbpedia.org/resource/Randy_Bauer>   \n",
              "36050           <http://dbpedia.org/resource/John_Large>   \n",
              "36821  <http://dbpedia.org/resource/Michael_R._Anasta...   \n",
              "19596       <http://dbpedia.org/resource/Bruce_G._Blair>   \n",
              "\n",
              "                       name                                               text  \n",
              "42785        Kenneth Thomas  kenneth thomas born february 24 1938 was chief...  \n",
              "35332           Don Schultz  don schultz born 13 may 1936 in woodhaven quee...  \n",
              "42541        Tamara Golovey  tamara golovey russian is a chess master chess...  \n",
              "11232           Yanko Yanev  yanko yanev has played a vital role in shaping...  \n",
              "20076  Michael Khodarkovsky  michael khodarkovsky odessa ussr july 21 1958 ...  \n",
              "14897            James Eade  james eade born march 23 1957 is an american c...  \n",
              "22282         Irma Arguello  irma arguello is an international security exp...  \n",
              "12890           Randy Bauer  randy bauer born 1958 is a chess master and a ...  \n",
              "36050            John Large  john h large is a nuclear engineer and analyst...  \n",
              "36821  Michael R. Anastasio  michael anastasio born 1948 led two national s...  \n",
              "19596        Bruce G. Blair  bruce g blair born 1947 is a nuclear security ...  "
            ],
            "text/html": [
              "\n",
              "  <div id=\"df-42c91e69-826e-47e9-abf7-447f8715ec2c\" class=\"colab-df-container\">\n",
              "    <div>\n",
              "<style scoped>\n",
              "    .dataframe tbody tr th:only-of-type {\n",
              "        vertical-align: middle;\n",
              "    }\n",
              "\n",
              "    .dataframe tbody tr th {\n",
              "        vertical-align: top;\n",
              "    }\n",
              "\n",
              "    .dataframe thead th {\n",
              "        text-align: right;\n",
              "    }\n",
              "</style>\n",
              "<table border=\"1\" class=\"dataframe\">\n",
              "  <thead>\n",
              "    <tr style=\"text-align: right;\">\n",
              "      <th></th>\n",
              "      <th>URI</th>\n",
              "      <th>name</th>\n",
              "      <th>text</th>\n",
              "    </tr>\n",
              "  </thead>\n",
              "  <tbody>\n",
              "    <tr>\n",
              "      <th>42785</th>\n",
              "      <td>&lt;http://dbpedia.org/resource/Kenneth_Thomas&gt;</td>\n",
              "      <td>Kenneth Thomas</td>\n",
              "      <td>kenneth thomas born february 24 1938 was chief...</td>\n",
              "    </tr>\n",
              "    <tr>\n",
              "      <th>35332</th>\n",
              "      <td>&lt;http://dbpedia.org/resource/Don_Schultz&gt;</td>\n",
              "      <td>Don Schultz</td>\n",
              "      <td>don schultz born 13 may 1936 in woodhaven quee...</td>\n",
              "    </tr>\n",
              "    <tr>\n",
              "      <th>42541</th>\n",
              "      <td>&lt;http://dbpedia.org/resource/Tamara_Golovey&gt;</td>\n",
              "      <td>Tamara Golovey</td>\n",
              "      <td>tamara golovey russian is a chess master chess...</td>\n",
              "    </tr>\n",
              "    <tr>\n",
              "      <th>11232</th>\n",
              "      <td>&lt;http://dbpedia.org/resource/Yanko_Yanev&gt;</td>\n",
              "      <td>Yanko Yanev</td>\n",
              "      <td>yanko yanev has played a vital role in shaping...</td>\n",
              "    </tr>\n",
              "    <tr>\n",
              "      <th>20076</th>\n",
              "      <td>&lt;http://dbpedia.org/resource/Michael_Khodarkov...</td>\n",
              "      <td>Michael Khodarkovsky</td>\n",
              "      <td>michael khodarkovsky odessa ussr july 21 1958 ...</td>\n",
              "    </tr>\n",
              "    <tr>\n",
              "      <th>14897</th>\n",
              "      <td>&lt;http://dbpedia.org/resource/James_Eade&gt;</td>\n",
              "      <td>James Eade</td>\n",
              "      <td>james eade born march 23 1957 is an american c...</td>\n",
              "    </tr>\n",
              "    <tr>\n",
              "      <th>22282</th>\n",
              "      <td>&lt;http://dbpedia.org/resource/Irma_Arguello&gt;</td>\n",
              "      <td>Irma Arguello</td>\n",
              "      <td>irma arguello is an international security exp...</td>\n",
              "    </tr>\n",
              "    <tr>\n",
              "      <th>12890</th>\n",
              "      <td>&lt;http://dbpedia.org/resource/Randy_Bauer&gt;</td>\n",
              "      <td>Randy Bauer</td>\n",
              "      <td>randy bauer born 1958 is a chess master and a ...</td>\n",
              "    </tr>\n",
              "    <tr>\n",
              "      <th>36050</th>\n",
              "      <td>&lt;http://dbpedia.org/resource/John_Large&gt;</td>\n",
              "      <td>John Large</td>\n",
              "      <td>john h large is a nuclear engineer and analyst...</td>\n",
              "    </tr>\n",
              "    <tr>\n",
              "      <th>36821</th>\n",
              "      <td>&lt;http://dbpedia.org/resource/Michael_R._Anasta...</td>\n",
              "      <td>Michael R. Anastasio</td>\n",
              "      <td>michael anastasio born 1948 led two national s...</td>\n",
              "    </tr>\n",
              "    <tr>\n",
              "      <th>19596</th>\n",
              "      <td>&lt;http://dbpedia.org/resource/Bruce_G._Blair&gt;</td>\n",
              "      <td>Bruce G. Blair</td>\n",
              "      <td>bruce g blair born 1947 is a nuclear security ...</td>\n",
              "    </tr>\n",
              "  </tbody>\n",
              "</table>\n",
              "</div>\n",
              "    <div class=\"colab-df-buttons\">\n",
              "\n",
              "  <div class=\"colab-df-container\">\n",
              "    <button class=\"colab-df-convert\" onclick=\"convertToInteractive('df-42c91e69-826e-47e9-abf7-447f8715ec2c')\"\n",
              "            title=\"Convert this dataframe to an interactive table.\"\n",
              "            style=\"display:none;\">\n",
              "\n",
              "  <svg xmlns=\"http://www.w3.org/2000/svg\" height=\"24px\" viewBox=\"0 -960 960 960\">\n",
              "    <path d=\"M120-120v-720h720v720H120Zm60-500h600v-160H180v160Zm220 220h160v-160H400v160Zm0 220h160v-160H400v160ZM180-400h160v-160H180v160Zm440 0h160v-160H620v160ZM180-180h160v-160H180v160Zm440 0h160v-160H620v160Z\"/>\n",
              "  </svg>\n",
              "    </button>\n",
              "\n",
              "  <style>\n",
              "    .colab-df-container {\n",
              "      display:flex;\n",
              "      gap: 12px;\n",
              "    }\n",
              "\n",
              "    .colab-df-convert {\n",
              "      background-color: #E8F0FE;\n",
              "      border: none;\n",
              "      border-radius: 50%;\n",
              "      cursor: pointer;\n",
              "      display: none;\n",
              "      fill: #1967D2;\n",
              "      height: 32px;\n",
              "      padding: 0 0 0 0;\n",
              "      width: 32px;\n",
              "    }\n",
              "\n",
              "    .colab-df-convert:hover {\n",
              "      background-color: #E2EBFA;\n",
              "      box-shadow: 0px 1px 2px rgba(60, 64, 67, 0.3), 0px 1px 3px 1px rgba(60, 64, 67, 0.15);\n",
              "      fill: #174EA6;\n",
              "    }\n",
              "\n",
              "    .colab-df-buttons div {\n",
              "      margin-bottom: 4px;\n",
              "    }\n",
              "\n",
              "    [theme=dark] .colab-df-convert {\n",
              "      background-color: #3B4455;\n",
              "      fill: #D2E3FC;\n",
              "    }\n",
              "\n",
              "    [theme=dark] .colab-df-convert:hover {\n",
              "      background-color: #434B5C;\n",
              "      box-shadow: 0px 1px 3px 1px rgba(0, 0, 0, 0.15);\n",
              "      filter: drop-shadow(0px 1px 2px rgba(0, 0, 0, 0.3));\n",
              "      fill: #FFFFFF;\n",
              "    }\n",
              "  </style>\n",
              "\n",
              "    <script>\n",
              "      const buttonEl =\n",
              "        document.querySelector('#df-42c91e69-826e-47e9-abf7-447f8715ec2c button.colab-df-convert');\n",
              "      buttonEl.style.display =\n",
              "        google.colab.kernel.accessAllowed ? 'block' : 'none';\n",
              "\n",
              "      async function convertToInteractive(key) {\n",
              "        const element = document.querySelector('#df-42c91e69-826e-47e9-abf7-447f8715ec2c');\n",
              "        const dataTable =\n",
              "          await google.colab.kernel.invokeFunction('convertToInteractive',\n",
              "                                                    [key], {});\n",
              "        if (!dataTable) return;\n",
              "\n",
              "        const docLinkHtml = 'Like what you see? Visit the ' +\n",
              "          '<a target=\"_blank\" href=https://colab.research.google.com/notebooks/data_table.ipynb>data table notebook</a>'\n",
              "          + ' to learn more about interactive tables.';\n",
              "        element.innerHTML = '';\n",
              "        dataTable['output_type'] = 'display_data';\n",
              "        await google.colab.output.renderOutput(dataTable, element);\n",
              "        const docLink = document.createElement('div');\n",
              "        docLink.innerHTML = docLinkHtml;\n",
              "        element.appendChild(docLink);\n",
              "      }\n",
              "    </script>\n",
              "  </div>\n",
              "\n",
              "\n",
              "<div id=\"df-ffd88299-f6d4-4feb-b78f-0d17cf8aecc9\">\n",
              "  <button class=\"colab-df-quickchart\" onclick=\"quickchart('df-ffd88299-f6d4-4feb-b78f-0d17cf8aecc9')\"\n",
              "            title=\"Suggest charts\"\n",
              "            style=\"display:none;\">\n",
              "\n",
              "<svg xmlns=\"http://www.w3.org/2000/svg\" height=\"24px\"viewBox=\"0 0 24 24\"\n",
              "     width=\"24px\">\n",
              "    <g>\n",
              "        <path d=\"M19 3H5c-1.1 0-2 .9-2 2v14c0 1.1.9 2 2 2h14c1.1 0 2-.9 2-2V5c0-1.1-.9-2-2-2zM9 17H7v-7h2v7zm4 0h-2V7h2v10zm4 0h-2v-4h2v4z\"/>\n",
              "    </g>\n",
              "</svg>\n",
              "  </button>\n",
              "\n",
              "<style>\n",
              "  .colab-df-quickchart {\n",
              "      --bg-color: #E8F0FE;\n",
              "      --fill-color: #1967D2;\n",
              "      --hover-bg-color: #E2EBFA;\n",
              "      --hover-fill-color: #174EA6;\n",
              "      --disabled-fill-color: #AAA;\n",
              "      --disabled-bg-color: #DDD;\n",
              "  }\n",
              "\n",
              "  [theme=dark] .colab-df-quickchart {\n",
              "      --bg-color: #3B4455;\n",
              "      --fill-color: #D2E3FC;\n",
              "      --hover-bg-color: #434B5C;\n",
              "      --hover-fill-color: #FFFFFF;\n",
              "      --disabled-bg-color: #3B4455;\n",
              "      --disabled-fill-color: #666;\n",
              "  }\n",
              "\n",
              "  .colab-df-quickchart {\n",
              "    background-color: var(--bg-color);\n",
              "    border: none;\n",
              "    border-radius: 50%;\n",
              "    cursor: pointer;\n",
              "    display: none;\n",
              "    fill: var(--fill-color);\n",
              "    height: 32px;\n",
              "    padding: 0;\n",
              "    width: 32px;\n",
              "  }\n",
              "\n",
              "  .colab-df-quickchart:hover {\n",
              "    background-color: var(--hover-bg-color);\n",
              "    box-shadow: 0 1px 2px rgba(60, 64, 67, 0.3), 0 1px 3px 1px rgba(60, 64, 67, 0.15);\n",
              "    fill: var(--button-hover-fill-color);\n",
              "  }\n",
              "\n",
              "  .colab-df-quickchart-complete:disabled,\n",
              "  .colab-df-quickchart-complete:disabled:hover {\n",
              "    background-color: var(--disabled-bg-color);\n",
              "    fill: var(--disabled-fill-color);\n",
              "    box-shadow: none;\n",
              "  }\n",
              "\n",
              "  .colab-df-spinner {\n",
              "    border: 2px solid var(--fill-color);\n",
              "    border-color: transparent;\n",
              "    border-bottom-color: var(--fill-color);\n",
              "    animation:\n",
              "      spin 1s steps(1) infinite;\n",
              "  }\n",
              "\n",
              "  @keyframes spin {\n",
              "    0% {\n",
              "      border-color: transparent;\n",
              "      border-bottom-color: var(--fill-color);\n",
              "      border-left-color: var(--fill-color);\n",
              "    }\n",
              "    20% {\n",
              "      border-color: transparent;\n",
              "      border-left-color: var(--fill-color);\n",
              "      border-top-color: var(--fill-color);\n",
              "    }\n",
              "    30% {\n",
              "      border-color: transparent;\n",
              "      border-left-color: var(--fill-color);\n",
              "      border-top-color: var(--fill-color);\n",
              "      border-right-color: var(--fill-color);\n",
              "    }\n",
              "    40% {\n",
              "      border-color: transparent;\n",
              "      border-right-color: var(--fill-color);\n",
              "      border-top-color: var(--fill-color);\n",
              "    }\n",
              "    60% {\n",
              "      border-color: transparent;\n",
              "      border-right-color: var(--fill-color);\n",
              "    }\n",
              "    80% {\n",
              "      border-color: transparent;\n",
              "      border-right-color: var(--fill-color);\n",
              "      border-bottom-color: var(--fill-color);\n",
              "    }\n",
              "    90% {\n",
              "      border-color: transparent;\n",
              "      border-bottom-color: var(--fill-color);\n",
              "    }\n",
              "  }\n",
              "</style>\n",
              "\n",
              "  <script>\n",
              "    async function quickchart(key) {\n",
              "      const quickchartButtonEl =\n",
              "        document.querySelector('#' + key + ' button');\n",
              "      quickchartButtonEl.disabled = true;  // To prevent multiple clicks.\n",
              "      quickchartButtonEl.classList.add('colab-df-spinner');\n",
              "      try {\n",
              "        const charts = await google.colab.kernel.invokeFunction(\n",
              "            'suggestCharts', [key], {});\n",
              "      } catch (error) {\n",
              "        console.error('Error during call to suggestCharts:', error);\n",
              "      }\n",
              "      quickchartButtonEl.classList.remove('colab-df-spinner');\n",
              "      quickchartButtonEl.classList.add('colab-df-quickchart-complete');\n",
              "    }\n",
              "    (() => {\n",
              "      let quickchartButtonEl =\n",
              "        document.querySelector('#df-ffd88299-f6d4-4feb-b78f-0d17cf8aecc9 button');\n",
              "      quickchartButtonEl.style.display =\n",
              "        google.colab.kernel.accessAllowed ? 'block' : 'none';\n",
              "    })();\n",
              "  </script>\n",
              "</div>\n",
              "\n",
              "    </div>\n",
              "  </div>\n"
            ],
            "application/vnd.google.colaboratory.intrinsic+json": {
              "type": "dataframe",
              "summary": "{\n  \"name\": \"df2\",\n  \"rows\": 11,\n  \"fields\": [\n    {\n      \"column\": \"URI\",\n      \"properties\": {\n        \"dtype\": \"string\",\n        \"num_unique_values\": 11,\n        \"samples\": [\n          \"<http://dbpedia.org/resource/James_Eade>\",\n          \"<http://dbpedia.org/resource/Kenneth_Thomas>\",\n          \"<http://dbpedia.org/resource/Michael_R._Anastasio>\"\n        ],\n        \"semantic_type\": \"\",\n        \"description\": \"\"\n      }\n    },\n    {\n      \"column\": \"name\",\n      \"properties\": {\n        \"dtype\": \"string\",\n        \"num_unique_values\": 11,\n        \"samples\": [\n          \"James Eade\",\n          \"Kenneth Thomas\",\n          \"Michael R. Anastasio\"\n        ],\n        \"semantic_type\": \"\",\n        \"description\": \"\"\n      }\n    },\n    {\n      \"column\": \"text\",\n      \"properties\": {\n        \"dtype\": \"string\",\n        \"num_unique_values\": 11,\n        \"samples\": [\n          \"james eade born march 23 1957 is an american chess master chess tournament organizer and chess book publisher he holds the title of fide master he is best known for his book chess for dummies which is one of the best selling chess books of all time he was a member of the policy board of the united states chess federation uscf from 1996 to 1999 he has served as american zone president of fide the world chess federation from 2000 to 2002 and has been a trustee of the u s chess trust since 2000 he is their current treasurer he is a past president of calchess the northern california chess association the kolty chess for youth foundation a 501c3 charity and the chess journalists of america as well as a former chairman of the chess advisory board for utdallas he is a former editor and publisher of both the calchess journal and the golden gate chess newshe organized a number of fide futurities and roundrobins in the 1990s he organized the 1995 pan pacific international chess tournament the strongest chess tournament ever held in san francisco won by viktor korchnoi and the 1996 hall of fame tournament won by lubomir kavalekas a player he is a solid master rated 2320 by fide politically he is a controversial person he and tom dorsch took on the us chess establishment claiming that the uscf was being mismanaged and misgoverned into insolvency eade was one of three northern californians with mark pinto and neil falconer to bail the uscf out when it could not afford to send a team to the chess olympiadseade wrote an article for chess life making the case for chess in the olympic games he pointed out that chess was already in the african games the asian games and the central american games and that recognition by national olympic committees had led to hundreds of thousands of dollars in new contributions to chess this led some to falsely charge him with being pro drug testing eade simply maintained that drug testing a fact of life in the olympics is a small price to pay for the right to represent ones country overseaseade was made president of the us chess trust at the annual meeting in august 2010he lives in menlo park california where he continues to teach and write about chess\",\n          \"kenneth thomas born february 24 1938 was chief financial officer of the united states chess federation from april 23 to december 31 2004 he took over the position of cfo of the uscf during a period of great financial distress with the uscf having lost money seven years in a row with total losses amounting to 17 million he was hired by bill goichberg because the uscf was in severe financial difficulty he agreed to work for far below the normal salary he restored the federation to profitability and financial solvencyken thomas was born in mead oklahoma during the great dust bowl three of his siblings died of starvation and ken nearly died as well after world war ii ken with his family moved to new jersey he graduated from bound brook high school therekenneth thomas served in the us army ordnance corps from 1961 to 1964 as a sergeant he worked in nuclear weapon assembly he worked in the nuclear weapons laboratory in sandia base near albuquerque new mexico he was a mechanic in the internal workings of nuclear weaponslater he was transferred to ldenscheid west germany and attached to the german army the bundeswehr where he worked on secret weapons in the british sector he speaks german he traveled all over western europe arming and disarming nuclear weapons he also played chess there and twice participated in the european army championships in kaiserslautern germanyafter completing his military service he graduated from the university of houston in 1972 with a bachelor of business administration and from that scho\",\n          \"michael anastasio born 1948 led two national science laboratories during a time of transition he was the director of the los alamos national laboratory and president of the los alamos national security llc the company that operates the laboratory he is the former director of lawrence livermore national laboratory llnl the university of california board of regents appointed michael r anastasio the director of llnl on june 4 2002 he started on july 1 2002 in 2005 he became the president of the los alamos national security llc and became the director of the los alamos national laboratory on june 1 2006 during his directorship at lawrence livermore the laboratory won 25 rd 100 awards and maintained its worldclass leadership position in highperformance computing and its application to global climate modelinghe has a bachelors degree in physics from johns hopkins university and earned ms and phd degrees in theoretical nuclear physics from the state university of new york at stony brook his career at llnl began in 1980 as a physicist in bdivision one of the two nuclear weapons design divisions he participated in the development of the w87 w84 and b83 warheads and 10 nuclear tests he was project physicist on four of these tests in 1991 he was made bdivision leader and program manager responsible for primary weapons design from 1996 to 2001 he served as associate director for defense and nuclear technologies responsible for all activities in the laboratorys nuclear weapons program in that capacity he was instrumental in the development and execution of the national stockpile stewardship program from 2001 to 2002 anastasio served as llnls deputy director for strategic operationshe has 18 publications in intermediate energy theoretical nuclear physics and 800 citations he received the department of energy weapons recognition of excellence award in 1990 and is a member of sigma pi sigma the national physics honor society us strategic command strategic advisory group and the defense science board task force on nuclear capabilitieshe retired from his position as laboratory director at los alamos national laboratory on june 1st 2011\"\n        ],\n        \"semantic_type\": \"\",\n        \"description\": \"\"\n      }\n    }\n  ]\n}"
            }
          },
          "metadata": {},
          "execution_count": 150
        }
      ]
    },
    {
      "cell_type": "code",
      "source": [
        "%%capture output\n",
        "#install Wikipedia API\n",
        "!pip3 install wikipedia-api"
      ],
      "metadata": {
        "id": "d2iRXknpc0eb"
      },
      "execution_count": null,
      "outputs": []
    },
    {
      "cell_type": "code",
      "source": [
        "import wikipediaapi"
      ],
      "metadata": {
        "id": "ZYnUdOyLc3_S"
      },
      "execution_count": null,
      "outputs": []
    },
    {
      "cell_type": "code",
      "source": [
        "# Get NEW names from WIKI who were already determined as nearest neighbors with Kenneth Thomas\n",
        "names = [] #Create an empty list as a container for each name, that is appended row by row in the following loop\n",
        "for i in indices[0]:\n",
        "  names.append(df2.iloc[i]['name'])\n",
        "pd.Series(names) #reference the list \"names\" as a data series\n",
        "print(pd.Series(names))"
      ],
      "metadata": {
        "colab": {
          "base_uri": "https://localhost:8080/"
        },
        "id": "GVlV7YICHhtX",
        "outputId": "55e5c426-2e53-4ac8-9fa4-989bd51810dc"
      },
      "execution_count": null,
      "outputs": [
        {
          "output_type": "stream",
          "name": "stdout",
          "text": [
            "0           Kenneth Thomas\n",
            "1              Don Schultz\n",
            "2           Tamara Golovey\n",
            "3              Yanko Yanev\n",
            "4     Michael Khodarkovsky\n",
            "5               James Eade\n",
            "6            Irma Arguello\n",
            "7              Randy Bauer\n",
            "8               John Large\n",
            "9     Michael R. Anastasio\n",
            "10          Bruce G. Blair\n",
            "dtype: object\n"
          ]
        }
      ]
    },
    {
      "cell_type": "code",
      "source": [
        "# Get the text from wikipedia referred to as \"bio\" - https://en.wikipedia.org/wiki/et.al\n",
        "list_for_series = [] #Create a list as a container for the biographical text to be retrieved using the wiki app\n",
        "for i in names:\n",
        "  bio_text = i\n",
        "  wikip = wikipediaapi.Wikipedia(user_agent = 'famous') #This line initializes the wikipediaapi to interact with Wikipedia. The user_agent is set to 'famous', which is a string identifying the biographical text.\n",
        "  page_person= wikip.page(bio_text) # This line uses the wikipediaapi to fetch the Wikipedia page for the current person (using bio_text as the page title) and assigns it to the variable page_person.\n",
        "  wiki_text = page_person.text # This line adds the extracted Wikipedia text (wiki_text) to the list_for_series list.\n",
        "  list_for_series.append(wiki_text) # This line extracts the text content from the fetched Wikipedia page (page_person) and assigns it to the variable wiki_text\n",
        "pd.Series(list_for_series) # This line creates a pandas Series from the list_for_series list"
      ],
      "metadata": {
        "colab": {
          "base_uri": "https://localhost:8080/",
          "height": 429
        },
        "id": "akVYHz10NsBs",
        "outputId": "b9601580-d12c-4d8f-ab29-265c87893be7"
      },
      "execution_count": null,
      "outputs": [
        {
          "output_type": "execute_result",
          "data": {
            "text/plain": [
              "0     Kenneth, Ken or Kenny Thomas may refer to:\\n\\n...\n",
              "1     Donald Schultz (May 13, 1936, Woodhaven, Queen...\n",
              "2     Tamara Asherawna Golovey is a Chess Master, Ch...\n",
              "3                                                      \n",
              "4     Michael Khodarkovsky is an American chess play...\n",
              "5     James V. Eade (born March 23, 1957) is an Amer...\n",
              "6     Irma Arguello is an international security exp...\n",
              "7                                                      \n",
              "8     John Henry Large (4 May 1943 – 3 November 2018...\n",
              "9     Michael Anastasio (born 1948) led two national...\n",
              "10    Bruce Gentry Blair (November 16, 1947 – July 1...\n",
              "dtype: object"
            ],
            "text/html": [
              "<div>\n",
              "<style scoped>\n",
              "    .dataframe tbody tr th:only-of-type {\n",
              "        vertical-align: middle;\n",
              "    }\n",
              "\n",
              "    .dataframe tbody tr th {\n",
              "        vertical-align: top;\n",
              "    }\n",
              "\n",
              "    .dataframe thead th {\n",
              "        text-align: right;\n",
              "    }\n",
              "</style>\n",
              "<table border=\"1\" class=\"dataframe\">\n",
              "  <thead>\n",
              "    <tr style=\"text-align: right;\">\n",
              "      <th></th>\n",
              "      <th>0</th>\n",
              "    </tr>\n",
              "  </thead>\n",
              "  <tbody>\n",
              "    <tr>\n",
              "      <th>0</th>\n",
              "      <td>Kenneth, Ken or Kenny Thomas may refer to:\\n\\n...</td>\n",
              "    </tr>\n",
              "    <tr>\n",
              "      <th>1</th>\n",
              "      <td>Donald Schultz (May 13, 1936, Woodhaven, Queen...</td>\n",
              "    </tr>\n",
              "    <tr>\n",
              "      <th>2</th>\n",
              "      <td>Tamara Asherawna Golovey is a Chess Master, Ch...</td>\n",
              "    </tr>\n",
              "    <tr>\n",
              "      <th>3</th>\n",
              "      <td></td>\n",
              "    </tr>\n",
              "    <tr>\n",
              "      <th>4</th>\n",
              "      <td>Michael Khodarkovsky is an American chess play...</td>\n",
              "    </tr>\n",
              "    <tr>\n",
              "      <th>5</th>\n",
              "      <td>James V. Eade (born March 23, 1957) is an Amer...</td>\n",
              "    </tr>\n",
              "    <tr>\n",
              "      <th>6</th>\n",
              "      <td>Irma Arguello is an international security exp...</td>\n",
              "    </tr>\n",
              "    <tr>\n",
              "      <th>7</th>\n",
              "      <td></td>\n",
              "    </tr>\n",
              "    <tr>\n",
              "      <th>8</th>\n",
              "      <td>John Henry Large (4 May 1943 – 3 November 2018...</td>\n",
              "    </tr>\n",
              "    <tr>\n",
              "      <th>9</th>\n",
              "      <td>Michael Anastasio (born 1948) led two national...</td>\n",
              "    </tr>\n",
              "    <tr>\n",
              "      <th>10</th>\n",
              "      <td>Bruce Gentry Blair (November 16, 1947 – July 1...</td>\n",
              "    </tr>\n",
              "  </tbody>\n",
              "</table>\n",
              "</div><br><label><b>dtype:</b> object</label>"
            ]
          },
          "metadata": {},
          "execution_count": 172
        }
      ]
    },
    {
      "cell_type": "code",
      "source": [
        "def get_wikipedia_content(names_series): # This line defines a function called get_wikipedia_content that takes one argument: names_series.\n",
        "    # the argument names_series will retrieve the Wikipedia page names as strings\n",
        "    try: # This line starts a try-except block, which is used for error handling.\n",
        "        page = wikipedia.page(names_series) # This line is the core of the function. It uses the wikipedia.page() function to fetch the Wikipedia page corresponding to the provided names_series.\n",
        "        return page.content\n",
        "    except wikipedia.exceptions.PageError:\n",
        "        # If a PageError occurs (e.g., page not found), return None\n",
        "        return None\n",
        "print(names_series) # This line is outside the function definition. It prints the value of the names_series variable to the console."
      ],
      "metadata": {
        "id": "NmKL7GMNh57D",
        "colab": {
          "base_uri": "https://localhost:8080/"
        },
        "outputId": "6b4aa01e-614e-4700-cf3d-e42def4d61e4"
      },
      "execution_count": null,
      "outputs": [
        {
          "output_type": "stream",
          "name": "stdout",
          "text": [
            "0           Kenneth Thomas\n",
            "1              Don Schultz\n",
            "2           Tamara Golovey\n",
            "3              Yanko Yanev\n",
            "4     Michael Khodarkovsky\n",
            "5               James Eade\n",
            "6            Irma Arguello\n",
            "7              Randy Bauer\n",
            "8               John Large\n",
            "9     Michael R. Anastasio\n",
            "10          Bruce G. Blair\n",
            "Name: IndvName, dtype: object\n"
          ]
        }
      ]
    },
    {
      "cell_type": "markdown",
      "source": [],
      "metadata": {
        "id": "fLXTqItJJmh9"
      }
    },
    {
      "cell_type": "code",
      "source": [
        "names_series = pd.Series(names, name='IndvName') # Creates a pandas Series named names_series from the names list\n",
        "list_for_series_series = pd.Series(list_for_series, name='Blurb', index=names_series.index) # Creates another pandas Series named list_for_series_series from the list_for_series list; name='Blurb' assigns the column name 'Blurb' to this Series; index=names_series.index ensures that this Series uses the same index as names_series, so the names and blurbs are aligned correctly\n",
        "\n",
        "# Convert Series to DataFrames with a single column\n",
        "names_df = names_series.to_frame() # Converts the names_series Series into a DataFrame named names_df. This creates a DataFrame with one column ('IndvName') containing the names.\n",
        "list_for_series_df = list_for_series_series.to_frame() # Converts the list_for_series_series Series into a DataFrame named list_for_series_df. This creates a DataFrame with one column ('Blurb') containing the blurbs.\n",
        "\n",
        "mini_df = pd.concat([names_df, list_for_series_df], axis=1) # This creates the mini_df DataFrame, which now has two columns: 'IndvName' (containing names) and 'Blurb' (containing the corresponding blurbs)\n",
        "print(mini_df)"
      ],
      "metadata": {
        "colab": {
          "base_uri": "https://localhost:8080/"
        },
        "id": "Vwkwjr8fOUNd",
        "outputId": "5f073039-7ea1-4da1-ca4f-f3aa7df66739"
      },
      "execution_count": null,
      "outputs": [
        {
          "output_type": "stream",
          "name": "stdout",
          "text": [
            "                IndvName                                              Blurb\n",
            "0         Kenneth Thomas  Kenneth, Ken or Kenny Thomas may refer to:\\n\\n...\n",
            "1            Don Schultz  Donald Schultz (May 13, 1936, Woodhaven, Queen...\n",
            "2         Tamara Golovey  Tamara Asherawna Golovey is a Chess Master, Ch...\n",
            "3            Yanko Yanev                                                   \n",
            "4   Michael Khodarkovsky  Michael Khodarkovsky is an American chess play...\n",
            "5             James Eade  James V. Eade (born March 23, 1957) is an Amer...\n",
            "6          Irma Arguello  Irma Arguello is an international security exp...\n",
            "7            Randy Bauer                                                   \n",
            "8             John Large  John Henry Large (4 May 1943 – 3 November 2018...\n",
            "9   Michael R. Anastasio  Michael Anastasio (born 1948) led two national...\n",
            "10        Bruce G. Blair  Bruce Gentry Blair (November 16, 1947 – July 1...\n"
          ]
        }
      ]
    },
    {
      "cell_type": "code",
      "source": [
        "import re # regular expressions\n",
        "\n",
        "def clean_bios(cleaning): # This line defines a function called clean_bios that takes one argument: cleaning. This function is designed to perform cleaning operations on the biographical text input to the mini_df.\n",
        "    bios = bios.lower()  # Convert to lowercase\n",
        "    bios = re.sub(r'[^\\w\\s]', '', bios)  # Remove punctuation and special characters\n",
        "    # Add more cleaning steps as needed (e.g., removing stop words, stemming, etc.)\n",
        "    return text\n",
        "\n",
        "wiki_df['CleanedWikiText'] = wiki_df['WikiText'].apply(clean_text)\n",
        "wiki_df"
      ],
      "metadata": {
        "id": "PhV5cH_uc7-D",
        "colab": {
          "base_uri": "https://localhost:8080/",
          "height": 98
        },
        "outputId": "6344ed18-5cbc-40af-b8aa-4d80390bf5f9"
      },
      "execution_count": null,
      "outputs": [
        {
          "output_type": "execute_result",
          "data": {
            "text/plain": [
              "           Person                                           WikiText  \\\n",
              "0  Kenneth Thomas  Kenneth, Ken or Kenny Thomas may refer to:\\n\\n...   \n",
              "\n",
              "                                     CleanedWikiText  \n",
              "0  kenneth ken or kenny thomas may refer to\\n\\nke...  "
            ],
            "text/html": [
              "\n",
              "  <div id=\"df-c5502248-b5e6-4ec0-ae1c-3c5c1c45d626\" class=\"colab-df-container\">\n",
              "    <div>\n",
              "<style scoped>\n",
              "    .dataframe tbody tr th:only-of-type {\n",
              "        vertical-align: middle;\n",
              "    }\n",
              "\n",
              "    .dataframe tbody tr th {\n",
              "        vertical-align: top;\n",
              "    }\n",
              "\n",
              "    .dataframe thead th {\n",
              "        text-align: right;\n",
              "    }\n",
              "</style>\n",
              "<table border=\"1\" class=\"dataframe\">\n",
              "  <thead>\n",
              "    <tr style=\"text-align: right;\">\n",
              "      <th></th>\n",
              "      <th>Person</th>\n",
              "      <th>WikiText</th>\n",
              "      <th>CleanedWikiText</th>\n",
              "    </tr>\n",
              "  </thead>\n",
              "  <tbody>\n",
              "    <tr>\n",
              "      <th>0</th>\n",
              "      <td>Kenneth Thomas</td>\n",
              "      <td>Kenneth, Ken or Kenny Thomas may refer to:\\n\\n...</td>\n",
              "      <td>kenneth ken or kenny thomas may refer to\\n\\nke...</td>\n",
              "    </tr>\n",
              "  </tbody>\n",
              "</table>\n",
              "</div>\n",
              "    <div class=\"colab-df-buttons\">\n",
              "\n",
              "  <div class=\"colab-df-container\">\n",
              "    <button class=\"colab-df-convert\" onclick=\"convertToInteractive('df-c5502248-b5e6-4ec0-ae1c-3c5c1c45d626')\"\n",
              "            title=\"Convert this dataframe to an interactive table.\"\n",
              "            style=\"display:none;\">\n",
              "\n",
              "  <svg xmlns=\"http://www.w3.org/2000/svg\" height=\"24px\" viewBox=\"0 -960 960 960\">\n",
              "    <path d=\"M120-120v-720h720v720H120Zm60-500h600v-160H180v160Zm220 220h160v-160H400v160Zm0 220h160v-160H400v160ZM180-400h160v-160H180v160Zm440 0h160v-160H620v160ZM180-180h160v-160H180v160Zm440 0h160v-160H620v160Z\"/>\n",
              "  </svg>\n",
              "    </button>\n",
              "\n",
              "  <style>\n",
              "    .colab-df-container {\n",
              "      display:flex;\n",
              "      gap: 12px;\n",
              "    }\n",
              "\n",
              "    .colab-df-convert {\n",
              "      background-color: #E8F0FE;\n",
              "      border: none;\n",
              "      border-radius: 50%;\n",
              "      cursor: pointer;\n",
              "      display: none;\n",
              "      fill: #1967D2;\n",
              "      height: 32px;\n",
              "      padding: 0 0 0 0;\n",
              "      width: 32px;\n",
              "    }\n",
              "\n",
              "    .colab-df-convert:hover {\n",
              "      background-color: #E2EBFA;\n",
              "      box-shadow: 0px 1px 2px rgba(60, 64, 67, 0.3), 0px 1px 3px 1px rgba(60, 64, 67, 0.15);\n",
              "      fill: #174EA6;\n",
              "    }\n",
              "\n",
              "    .colab-df-buttons div {\n",
              "      margin-bottom: 4px;\n",
              "    }\n",
              "\n",
              "    [theme=dark] .colab-df-convert {\n",
              "      background-color: #3B4455;\n",
              "      fill: #D2E3FC;\n",
              "    }\n",
              "\n",
              "    [theme=dark] .colab-df-convert:hover {\n",
              "      background-color: #434B5C;\n",
              "      box-shadow: 0px 1px 3px 1px rgba(0, 0, 0, 0.15);\n",
              "      filter: drop-shadow(0px 1px 2px rgba(0, 0, 0, 0.3));\n",
              "      fill: #FFFFFF;\n",
              "    }\n",
              "  </style>\n",
              "\n",
              "    <script>\n",
              "      const buttonEl =\n",
              "        document.querySelector('#df-c5502248-b5e6-4ec0-ae1c-3c5c1c45d626 button.colab-df-convert');\n",
              "      buttonEl.style.display =\n",
              "        google.colab.kernel.accessAllowed ? 'block' : 'none';\n",
              "\n",
              "      async function convertToInteractive(key) {\n",
              "        const element = document.querySelector('#df-c5502248-b5e6-4ec0-ae1c-3c5c1c45d626');\n",
              "        const dataTable =\n",
              "          await google.colab.kernel.invokeFunction('convertToInteractive',\n",
              "                                                    [key], {});\n",
              "        if (!dataTable) return;\n",
              "\n",
              "        const docLinkHtml = 'Like what you see? Visit the ' +\n",
              "          '<a target=\"_blank\" href=https://colab.research.google.com/notebooks/data_table.ipynb>data table notebook</a>'\n",
              "          + ' to learn more about interactive tables.';\n",
              "        element.innerHTML = '';\n",
              "        dataTable['output_type'] = 'display_data';\n",
              "        await google.colab.output.renderOutput(dataTable, element);\n",
              "        const docLink = document.createElement('div');\n",
              "        docLink.innerHTML = docLinkHtml;\n",
              "        element.appendChild(docLink);\n",
              "      }\n",
              "    </script>\n",
              "  </div>\n",
              "\n",
              "\n",
              "  <div id=\"id_a6d7cf8f-c5ac-4265-99e6-49c7b1ccc924\">\n",
              "    <style>\n",
              "      .colab-df-generate {\n",
              "        background-color: #E8F0FE;\n",
              "        border: none;\n",
              "        border-radius: 50%;\n",
              "        cursor: pointer;\n",
              "        display: none;\n",
              "        fill: #1967D2;\n",
              "        height: 32px;\n",
              "        padding: 0 0 0 0;\n",
              "        width: 32px;\n",
              "      }\n",
              "\n",
              "      .colab-df-generate:hover {\n",
              "        background-color: #E2EBFA;\n",
              "        box-shadow: 0px 1px 2px rgba(60, 64, 67, 0.3), 0px 1px 3px 1px rgba(60, 64, 67, 0.15);\n",
              "        fill: #174EA6;\n",
              "      }\n",
              "\n",
              "      [theme=dark] .colab-df-generate {\n",
              "        background-color: #3B4455;\n",
              "        fill: #D2E3FC;\n",
              "      }\n",
              "\n",
              "      [theme=dark] .colab-df-generate:hover {\n",
              "        background-color: #434B5C;\n",
              "        box-shadow: 0px 1px 3px 1px rgba(0, 0, 0, 0.15);\n",
              "        filter: drop-shadow(0px 1px 2px rgba(0, 0, 0, 0.3));\n",
              "        fill: #FFFFFF;\n",
              "      }\n",
              "    </style>\n",
              "    <button class=\"colab-df-generate\" onclick=\"generateWithVariable('wiki_df')\"\n",
              "            title=\"Generate code using this dataframe.\"\n",
              "            style=\"display:none;\">\n",
              "\n",
              "  <svg xmlns=\"http://www.w3.org/2000/svg\" height=\"24px\"viewBox=\"0 0 24 24\"\n",
              "       width=\"24px\">\n",
              "    <path d=\"M7,19H8.4L18.45,9,17,7.55,7,17.6ZM5,21V16.75L18.45,3.32a2,2,0,0,1,2.83,0l1.4,1.43a1.91,1.91,0,0,1,.58,1.4,1.91,1.91,0,0,1-.58,1.4L9.25,21ZM18.45,9,17,7.55Zm-12,3A5.31,5.31,0,0,0,4.9,8.1,5.31,5.31,0,0,0,1,6.5,5.31,5.31,0,0,0,4.9,4.9,5.31,5.31,0,0,0,6.5,1,5.31,5.31,0,0,0,8.1,4.9,5.31,5.31,0,0,0,12,6.5,5.46,5.46,0,0,0,6.5,12Z\"/>\n",
              "  </svg>\n",
              "    </button>\n",
              "    <script>\n",
              "      (() => {\n",
              "      const buttonEl =\n",
              "        document.querySelector('#id_a6d7cf8f-c5ac-4265-99e6-49c7b1ccc924 button.colab-df-generate');\n",
              "      buttonEl.style.display =\n",
              "        google.colab.kernel.accessAllowed ? 'block' : 'none';\n",
              "\n",
              "      buttonEl.onclick = () => {\n",
              "        google.colab.notebook.generateWithVariable('wiki_df');\n",
              "      }\n",
              "      })();\n",
              "    </script>\n",
              "  </div>\n",
              "\n",
              "    </div>\n",
              "  </div>\n"
            ],
            "application/vnd.google.colaboratory.intrinsic+json": {
              "type": "dataframe",
              "variable_name": "wiki_df",
              "summary": "{\n  \"name\": \"wiki_df\",\n  \"rows\": 1,\n  \"fields\": [\n    {\n      \"column\": \"Person\",\n      \"properties\": {\n        \"dtype\": \"string\",\n        \"num_unique_values\": 1,\n        \"samples\": [\n          \"Kenneth Thomas\"\n        ],\n        \"semantic_type\": \"\",\n        \"description\": \"\"\n      }\n    },\n    {\n      \"column\": \"WikiText\",\n      \"properties\": {\n        \"dtype\": \"string\",\n        \"num_unique_values\": 1,\n        \"samples\": [\n          \"Kenneth, Ken or Kenny Thomas may refer to:\\n\\nKenneth Thomas (chess player) (born 1938), Chief Financial Officer of the United States Chess Federation\\nKen Thomas (trade unionist) (1927\\u20132008), Welsh trade unionist and General Secretary of the Civil and Public Services Association\\nKen Thomas (record producer), English record producer and recording engineer\\nKen Thomas (American football), American football running back\\nKenny Thomas (basketball) (born 1977), American basketball player\\nKenny Thomas (singer) (born 1968), British dance music singer\\nKeni Thomas, American country music singer and motivational speaker\\nKenneth Bryn Thomas (1915\\u20131978), English physician\"\n        ],\n        \"semantic_type\": \"\",\n        \"description\": \"\"\n      }\n    },\n    {\n      \"column\": \"CleanedWikiText\",\n      \"properties\": {\n        \"dtype\": \"string\",\n        \"num_unique_values\": 1,\n        \"samples\": [\n          \"kenneth ken or kenny thomas may refer to\\n\\nkenneth thomas chess player born 1938 chief financial officer of the united states chess federation\\nken thomas trade unionist 19272008 welsh trade unionist and general secretary of the civil and public services association\\nken thomas record producer english record producer and recording engineer\\nken thomas american football american football running back\\nkenny thomas basketball born 1977 american basketball player\\nkenny thomas singer born 1968 british dance music singer\\nkeni thomas american country music singer and motivational speaker\\nkenneth bryn thomas 19151978 english physician\"\n        ],\n        \"semantic_type\": \"\",\n        \"description\": \"\"\n      }\n    }\n  ]\n}"
            }
          },
          "metadata": {},
          "execution_count": 183
        }
      ]
    },
    {
      "cell_type": "code",
      "source": [
        "wiki_text_clean = wiki_text.lower()\n",
        "for c in [\"\\n\", \"'s\", \"'\", \"  \"]:\n",
        "  wiki_text_clean = wiki_text_clean.replace(c,\" \")\n",
        "wiki_text_clean"
      ],
      "metadata": {
        "id": "x5_B4KD8c73d",
        "colab": {
          "base_uri": "https://localhost:8080/",
          "height": 268
        },
        "outputId": "69f0b63e-dd2b-4df4-ce0f-3c4f4e015533"
      },
      "execution_count": null,
      "outputs": [
        {
          "output_type": "execute_result",
          "data": {
            "text/plain": [
              "'bruce gentry blair (november 16, 1947 – july 19, 2020) was an american nuclear security expert, research scholar, national security expert, the author of articles and books on nuclear topics, and a television show producer. education and background blair was born in creston, iowa. he earned a ph.d. in operations research at yale university in 1984. he received his b.s. in communications from the university of illinois in 1970. prior to his position at princeton, blair was the president of the world security institute, a non-profit organization. he was a senior fellow in the foreign policy studies program at the brookings institution from 1987 to 2000. previously, he served as a project director at the congressional office of technology assessment from 1982 to 1985, where he worked on a study of the u.s. ability to communicate with its strategic forces. from 1970 to 1974, blair served in the u.s. air force as a minuteman icbm launch control officer and support officer for the strategic air command airborne command post. career blair was a nuclear security expert and a research scholar at the program on science and global security at princeton university woodrow wilson school of public and international affairs. joining the program in may 2013, he focused on technical and policy steps on the path toward the verifiable elimination of nuclear weapons, specifically on deep bilateral nuclear arms reductions, multilateral arms negotiations and de-alerting of nuclear arsenals. he was co-founder of global zero, an international non-partisan group consisting of 300 world leaders, over 150 student chapters and millions of supporters worldwide dedicated to achieving the elimination of nuclear weapons. blair was an expert on united states and russian security policies, specializing in nuclear forces and command and control systems. he frequently testified before congress. in 2011, he was appointed to the u.s. secretary of state international security advisory board, a small group of experts that provides the department of state with independent insight and advice on all aspects of international security, disarmament and arms control. he also taught security studies as a visiting professor at yale and princeton universities. in 1999, he was awarded a macarthur fellowship prize for his research, work and leadership on de-alerting nuclear forces. in 2008, he was selected as a finalist for the skoll social entrepreneur award. blair expertise helped make nuclear and global affairs issues accessible to the public in various media outlets. he was an executive producer of countdown to zero, a documentary film on nuclear weapons. he also created and was the executive producer of the pbs weekly television series superpower: global affairs television (2002–2004), and was the executive producer for azimuth media and its weekly pbs television series, foreign exchange, which was first hosted by fareed zakaria (2005–2007) and subsequently by daljit dhaliwal (2008–2009). he published the washington profile (russian), washington observer (chinese), washington prism (persian), taqrir washington (arabic) and china security. he was also the executive producer of two television documentaries, cnn presents \"deadlock: russia forgotten war\" and the pbs frontline \"missile wars\" in 2002. he was the author of numerous books and articles on security issues in such publications as scientific american, national interest, the new york times and the washington post. his books include strategic command and control (brookings, 1985), winner of the edgar s. furniss award for its contribution to the study of national security; crisis stability and nuclear war (oxford, 1988; co-editor); the logic of accidental nuclear war (brookings, 1993); and global zero alert for nuclear forces (brookings, 1995). forcing the military to implement mcnamara \"permissive action links\" in 2002 blair said he had told former u.s. secretary of defense robert mcnamara (1961-1968) the previous month that the secret codes (called \"permissive action links”) required to launch minuteman missiles had all been set to oooooooo. mcnamara was shocked, because the top military leaders had assured him that those secret codes had been installed. in fact, the hardware had been installed. however, the secret codes had all been set to oooooooo. blair knew this, because one of his jobs while in the u.s. air force 1970 to 1974 had been as a minuteman icbm launch control officer. after he left the military, he began lobbying first the department of defense and then the u.s. congress to change those codes to something different. they were officially \"activated\" in 1977. in discussing this, blair concluded, \"it is hard to know where to begin, and end, in recounting stories like this one that reveal how misinformed, misled, and misguided on critical nuclear matters our top leaders have been throughout the nuclear age.\" for more, see blair other publications. death blair died in philadelphia after a stroke on july 19, 2020. books bruce g. blair (1979). progress in arms control? selected readings from scientific american. san francisco: freeman. bruce g. blair (1985). strategic command and control: redefining the nuclear threat. washington, d.c.: brookings. bruce g. blair; condoleezza rice, eds. (1987). crisis stability and nuclear war. ithaca, n.y.: cornell university. bruce g. blair; kurt gottfried, eds. (1988). crisis stability and nuclear war. oxford. bruce g. blair (1993). the logic of accidental nuclear war. washington, d.c.: brookings. isbn 9780815709848. bruce g. blair (1995). global zero alert for nuclear forces. washington, d.c.: brookings. isbn 9780815709411. publications \"can disarmament work?\", foreign affairs, co-authored with matt brown and richard burt, josef joff and james w. davis, july/august 2011. one hundred nuclear wars: stable deterrence between the united states and russia at reduced nuclear force levels off alert in the presence of limited missile defenses, routledge taylor & francis group, co-authored with victor esin, matthew mckinzie, valery yarynich and pavel zolotarev, august 9, 2011. \"bombs away\", the new york times, co-authored with damon bosetti and brian weeden, december 6, 2010. \"could terrorists launch america nuclear missiles?\", time, november 11, 2010. \"smaller and safer: a new plan for nuclear postures\", foreign affairs, co-authored with victor esin, matthew mckinzie, valery yarynich and pavel zolotarev, september/october 2010. \"de-alerting strategic forces\", in reykjavik revisited: steps toward a world free of nuclear weapons, george p. shultz, sidney d. drell, and james e. goodby, eds., (stanford, ca: hoover institution press, 2008). \"increasing warning and decision time ( de-alerting )\", (international conference, achieving the vision of a world free of nuclear weapons, oslo, february 26–27, 2008). \"a rebuttal of the u.s. statement on the alert status of u.s. nuclear forces\", bruce blair nuclear column, center for defense information, november 6, 2007. \"primed and ready\", bulletin of the atomic scientists, january/february 2007. \"the fallacy of nuclear primacy\", china security, co-authored with chen yali (washington, d.c.: world security institute), autumn 2006. \"the oil weapon: myth of china vulnerability\", china security, co-authored with chen yali and eric hagt (washington, d.c.: world security institute, summer 2006). \"editors notes: the space security dilemma\", china security, co-authored with chen yali (washington, d.c: world security institute, issue no. 2 (2006). \"general zhu and chinese nuclear preemption\", china security (washington, d.c: world security institute, issue no. 1(2005). \"iran and the rogues: america nuclear obsession,\" bruce blair nuclear column, center for defense information, september 19, 2005. \"the wrong deterrence: the threat of loose nukes is one of our own making\", the washington post, september 19, 2004. \"the logic of intelligence failure,\" forum on physics and society, american physical society, april 2004. (also presented at the 10th international castiglioncello conference: \"unilateral actions and military interventions: the future of nonproliferation,\" april 1, 2004.) \"keeping presidents in the nuclear dark (episode #2: the siop option that wasn t)\", bruce blair nuclear column, center for defense information, february 17, 2004. \"keeping presidents in the nuclear dark (episode #1: the case of the missing permissive action links),\" bruce blair nuclear column, center for defense information, february 11, 2004. \"rogue states: nuclear red-herrings,\" bruce blair nuclear column, center for defense information, december 5, 2003. \"we keep building nukes for all the wrong reasons\", the washington post, may 25, 2003. \"nuclear recollections\", the defense monitor, april/may 2003. \"the folly of nuclear war-gaming for korea and south asia\", bruce blair nuclear column, center for defense information, april 30, 2003. \"hair-trigger missiles risk catastrophic nuclear terrorism\", bruce blair nuclear column, center for defense information, april 29, 2003. \"nuclear time warp\", the defense monitor, may 2002. \"the ultimate hatred is nuclear\", the new york times, october 22, 2001. \"nukes: a lesson from russia\", the washington post, july 11, 2001. toward true security: ten steps the next president should take to transform u.s. nuclear weapons policy archived 2014-07-22 at the wayback machine, with richard l. garwin, frank von hippel, et al. (cambridge, ma: ucs publications, february 2008). toward true security: a u.s. nuclear posture for the decade archived 2016-03-25 at the wayback machine, with richard l. garwin, frank von hippel, and others (cambridge, ma: ucs publications, june 2001). \"trapped in the nuclear math\", the new york times, june 13, 2000. \"a longer nuclear fuse archived 2016-03-22 at the wayback machine\", with frank von hippel, the washington post, june 6, 2000. \"some sensible options for u.s. missile defense\", moscow times, june 3, 2000. \"russia aging war machine: economic weakness and the nuclear threat\", co-authored with cliff gaddy, the brookings review, june 22, 1999. the nuclear turning point: a blueprint for deep cuts and de-alerting of nuclear weapons, co-authored with harold feiveson, ed., frank von hippel, and others (washington, dc: brookings institution press, 1999). \"loose cannon\", national interest, summer 1998. \"the plight of the russian military and nuclear control\", in report of the commission to assess the ballistic missile threat to the united states, july 15, 1998. \"from nuclear deterrence to mutual safety\", with sam nunn, the washington post, june 22, 1997. \"accidental nuclear war – a post-cold war assessment\", with l. farrow and others, new england journal of medicine, april 30, 1998. \"redoubling nuclear weapons reduction\", with harold feiveson and frank von hippel, the washington post, november 12, 1997. \"dismantle armageddon\", with henry w. kendall, the new york times, may 21, 1994. \"russia doomsday machine\", the new york times, october 8, 1993. \"lighten up on ukraine\", the new york times, june 1, 1993. references external links global zero'"
            ],
            "application/vnd.google.colaboratory.intrinsic+json": {
              "type": "string"
            }
          },
          "metadata": {},
          "execution_count": 154
        }
      ]
    },
    {
      "cell_type": "code",
      "source": [
        "import re\n",
        "\n",
        "pat = re.compile(r'[^\\w\\s]'+'')\n",
        "wiki_text_clean = re.sub(pat,' ', wiki_text.lower())\n",
        "wiki_text_clean"
      ],
      "metadata": {
        "id": "XCCHThcZc7u8",
        "colab": {
          "base_uri": "https://localhost:8080/",
          "height": 268
        },
        "outputId": "0f7b5797-5e47-4fbb-ea17-2d78ececb940"
      },
      "execution_count": null,
      "outputs": [
        {
          "output_type": "execute_result",
          "data": {
            "text/plain": [
              "'bruce gentry blair  november 16  1947   july 19  2020  was an american nuclear security expert  research scholar  national security expert  the author of articles and books on nuclear topics  and a television show producer \\n\\neducation and background\\nblair was born in creston  iowa  he earned a ph d  in operations research at yale university in 1984  he received his b s  in communications from the university of illinois in 1970 \\nprior to his position at princeton  blair was the president of the world security institute  a non profit organization   he was a senior fellow in the foreign policy studies program at the brookings institution from 1987 to 2000   previously  he served as a project director at the congressional office of technology assessment from 1982 to 1985  where he worked on a study of the u s  s ability to communicate with its strategic forces  from 1970 to 1974  blair served in the u s  air force as a minuteman icbm launch control officer and support officer for the strategic air command s airborne command post \\n\\ncareer\\nblair was a nuclear security expert and a research scholar at the program on science and global security at princeton university s woodrow wilson school of public and international affairs  joining the program in may 2013  he focused on technical and policy steps on the path toward the verifiable elimination of nuclear weapons  specifically on deep bilateral nuclear arms reductions  multilateral arms negotiations and de alerting of nuclear arsenals  he was co founder of global zero  an international non partisan group consisting of 300 world leaders  over 150 student chapters and millions of supporters worldwide dedicated to achieving the elimination of nuclear weapons \\nblair was an expert on united states and russian security policies  specializing in nuclear forces and command and control systems   he frequently testified before congress   in 2011  he was appointed to the u s  secretary of state s international security advisory board  a small group of experts that provides the department of state with independent insight and advice on all aspects of international security  disarmament and arms control   he also taught security studies as a visiting professor at yale and princeton universities  in 1999  he was awarded a macarthur fellowship prize for his research  work and leadership on de alerting nuclear forces   in 2008  he was selected as a finalist for the skoll social entrepreneur award \\nblair s expertise helped make nuclear and global affairs issues accessible to the public in various media outlets  he was an executive producer of countdown to zero   a documentary film on nuclear weapons  he also created and was the executive producer of the pbs weekly television series superpower  global affairs television  2002 2004   and was the executive producer for azimuth media and its weekly pbs television series  foreign exchange  which was first hosted by fareed zakaria  2005 2007  and subsequently by daljit dhaliwal  2008 2009  \\nhe published the washington profile  russian   washington observer  chinese   washington prism  persian   taqrir washington  arabic  and china security   he was also the executive producer of two television documentaries  cnn presents   deadlock  russia s forgotten war   and the pbs frontline s  missile wars   in 2002 \\nhe was the author of numerous books and articles on security issues in such publications as scientific american  national interest  the new york times and the washington post   his books include strategic command and control  brookings  1985   winner of the edgar s  furniss award for its contribution to the study of national security  crisis stability and nuclear war  oxford  1988  co editor   the logic of accidental nuclear war  brookings  1993   and global zero alert for nuclear forces  brookings  1995  \\n\\nforcing the military to  implement mcnamara s  permissive action links \\nin 2002 blair said he had told former u s  secretary of defense robert mcnamara  1961 1968  the previous month that the secret codes  called  permissive action links   required to launch minuteman missiles had all been set to oooooooo   mcnamara was shocked  because the top military leaders had assured him that those secret codes had been installed   in fact  the hardware had been installed   however  the secret codes had all been set to oooooooo   blair knew this  because one of his jobs while in the u s  air force 1970 to 1974 had been as a minuteman icbm launch control officer   after he left the military  he began lobbying first the department of defense and then the u s  congress to change those codes to something different   they were officially  activated  in 1977   in discussing this  blair concluded   it is hard to know where to begin  and end  in recounting stories like this one that reveal how misinformed  misled  and misguided on critical nuclear matters our top leaders have been throughout the nuclear age   for more  see blair s other publications \\n\\ndeath\\nblair died in philadelphia after a stroke on july 19  2020 \\n\\nbooks\\nbruce g  blair  1979   progress in arms control  selected readings from scientific american  san francisco  freeman \\nbruce g  blair  1985   strategic command and control  redefining the nuclear threat  washington  d c   brookings \\nbruce g  blair  condoleezza rice  eds   1987   crisis stability and nuclear war  ithaca  n y   cornell university \\nbruce g  blair  kurt gottfried  eds   1988   crisis stability and nuclear war  oxford \\nbruce g  blair  1993   the logic of accidental nuclear war  washington  d c   brookings  isbn 9780815709848 \\nbruce g  blair  1995   global zero alert for nuclear forces  washington  d c   brookings  isbn 9780815709411 \\n\\npublications\\n can disarmament work    foreign affairs  co authored with matt brown and richard burt  josef joff and james w  davis  july august 2011 \\none hundred nuclear wars  stable deterrence between the united states and russia at reduced nuclear force levels off alert in the presence of limited missile defenses  routledge taylor   francis group  co authored with victor esin  matthew mckinzie  valery yarynich and pavel zolotarev  august 9  2011 \\n bombs away   the new york times  co authored with damon bosetti and brian weeden  december 6  2010 \\n could terrorists launch america s nuclear missiles    time  november 11  2010 \\n smaller and safer  a new plan for nuclear postures   foreign affairs  co authored with victor esin  matthew mckinzie  valery yarynich and pavel zolotarev  september october 2010 \\n de alerting strategic forces   in reykjavik revisited  steps toward a world free of nuclear weapons  george p  shultz  sidney d  drell  and james e  goodby  eds    stanford  ca  hoover institution press  2008  \\n increasing warning and decision time   de alerting      international conference  achieving the vision of a world free of nuclear weapons  oslo  february 26 27  2008  \\n a rebuttal of the u s  statement on the alert status of u s  nuclear forces   bruce blair s nuclear column  center for defense information  november 6  2007 \\n primed and ready   bulletin of the atomic scientists  january february 2007 \\n the fallacy of nuclear primacy   china security  co authored with chen yali  washington  d c   world security institute   autumn 2006 \\n the oil weapon  myth of china s vulnerability   china security  co authored with chen yali and eric hagt  washington  d c   world security institute  summer 2006  \\n editors  notes  the space security dilemma   china security  co authored with chen yali  washington  d c  world security institute  issue no  2  2006  \\n general zhu and chinese nuclear preemption   china security  washington  d c  world security institute  issue no  1 2005  \\n iran and the rogues  america s nuclear obsession   bruce blair s nuclear column  center for defense information  september 19  2005 \\n the wrong deterrence  the threat of loose nukes is one of our own making   the washington post  september 19  2004 \\n the logic of intelligence failure   forum on physics and society  american physical society  april 2004   also presented at the 10th international castiglioncello conference   unilateral actions and military interventions  the future of nonproliferation   april 1  2004  \\n keeping presidents in the nuclear dark  episode  2  the siop option that wasn t    bruce blair s nuclear column  center for defense information  february 17  2004 \\n keeping presidents in the nuclear dark  episode  1  the case of the missing permissive action links    bruce blair s nuclear column  center for defense information  february 11  2004 \\n rogue states  nuclear red herrings   bruce blair s nuclear column  center for defense information  december 5  2003 \\n we keep building nukes for all the wrong reasons   the washington post  may 25  2003 \\n nuclear recollections   the defense monitor  april may 2003 \\n the folly of nuclear war gaming for korea and south asia   bruce blair s nuclear column  center for defense information  april 30  2003 \\n hair trigger missiles risk catastrophic nuclear terrorism   bruce blair s nuclear column  center for defense information  april 29  2003 \\n nuclear time warp   the defense monitor  may 2002 \\n the ultimate hatred is nuclear   the new york times  october 22  2001 \\n nukes  a lesson from russia   the washington post  july 11  2001 \\ntoward true security  ten steps the next president should take to transform u s  nuclear weapons policy archived 2014 07 22 at the wayback machine  with richard l  garwin  frank von hippel  et al   cambridge  ma  ucs publications  february 2008  \\ntoward true security  a u s  nuclear posture for the decade archived 2016 03 25 at the wayback machine  with richard l  garwin  frank von hippel  and others  cambridge  ma  ucs publications  june 2001  \\n trapped in the nuclear math   the new york times  june 13  2000 \\n a longer nuclear fuse archived 2016 03 22 at the wayback machine   with frank von hippel  the washington post  june 6  2000 \\n some sensible options for u s  missile defense   moscow times  june 3  2000 \\n russia s aging war machine  economic weakness and the nuclear threat   co authored with cliff gaddy  the brookings review  june 22  1999 \\nthe nuclear turning point  a blueprint for deep cuts and de alerting of nuclear weapons  co authored with harold feiveson  ed   frank von hippel  and others  washington  dc  brookings institution press  1999  \\n loose cannon   national interest  summer 1998 \\n the plight of the russian military and nuclear control   in report of the commission to assess the ballistic missile threat to the united states  july 15  1998 \\n from nuclear deterrence to mutual safety   with sam nunn  the washington post  june 22  1997 \\n accidental nuclear war   a post cold war assessment   with l  farrow and others  new england journal of medicine  april 30  1998 \\n redoubling nuclear weapons reduction   with harold feiveson and frank von hippel  the washington post  november 12  1997 \\n dismantle armageddon   with henry w  kendall  the new york times  may 21  1994 \\n russia s doomsday machine   the new york times  october 8  1993 \\n lighten up on ukraine   the new york times  june 1  1993 \\n\\nreferences\\nexternal links\\nglobal zero'"
            ],
            "application/vnd.google.colaboratory.intrinsic+json": {
              "type": "string"
            }
          },
          "metadata": {},
          "execution_count": 131
        }
      ]
    },
    {
      "cell_type": "code",
      "source": [
        "# Break up single string into separate sentences\n",
        "wiki_blob = TextBlob(wiki_text_clean)\n",
        "len(wiki_blob.sentences)"
      ],
      "metadata": {
        "id": "dCro2awNfQ1_",
        "colab": {
          "base_uri": "https://localhost:8080/"
        },
        "outputId": "4db807ff-b12d-42cb-f4b5-9448fbefd01b"
      },
      "execution_count": null,
      "outputs": [
        {
          "output_type": "execute_result",
          "data": {
            "text/plain": [
              "1"
            ]
          },
          "metadata": {},
          "execution_count": 132
        }
      ]
    },
    {
      "cell_type": "code",
      "source": [
        "# Only look at first 5 sentences\n",
        "my_sentences = wiki_blob.sentences[0:5]\n",
        "my_sentences"
      ],
      "metadata": {
        "id": "FjTdGr3UfUpR",
        "colab": {
          "base_uri": "https://localhost:8080/"
        },
        "outputId": "d83be173-f3a5-4e45-92c0-5b951b45acdd"
      },
      "execution_count": null,
      "outputs": [
        {
          "output_type": "execute_result",
          "data": {
            "text/plain": [
              "[Sentence(\"bruce gentry blair  november 16  1947   july 19  2020  was an american nuclear security expert  research scholar  national security expert  the author of articles and books on nuclear topics  and a television show producer \n",
              " \n",
              " education and background\n",
              " blair was born in creston  iowa  he earned a ph d  in operations research at yale university in 1984  he received his b s  in communications from the university of illinois in 1970 \n",
              " prior to his position at princeton  blair was the president of the world security institute  a non profit organization   he was a senior fellow in the foreign policy studies program at the brookings institution from 1987 to 2000   previously  he served as a project director at the congressional office of technology assessment from 1982 to 1985  where he worked on a study of the u s  s ability to communicate with its strategic forces  from 1970 to 1974  blair served in the u s  air force as a minuteman icbm launch control officer and support officer for the strategic air command s airborne command post \n",
              " \n",
              " career\n",
              " blair was a nuclear security expert and a research scholar at the program on science and global security at princeton university s woodrow wilson school of public and international affairs  joining the program in may 2013  he focused on technical and policy steps on the path toward the verifiable elimination of nuclear weapons  specifically on deep bilateral nuclear arms reductions  multilateral arms negotiations and de alerting of nuclear arsenals  he was co founder of global zero  an international non partisan group consisting of 300 world leaders  over 150 student chapters and millions of supporters worldwide dedicated to achieving the elimination of nuclear weapons \n",
              " blair was an expert on united states and russian security policies  specializing in nuclear forces and command and control systems   he frequently testified before congress   in 2011  he was appointed to the u s  secretary of state s international security advisory board  a small group of experts that provides the department of state with independent insight and advice on all aspects of international security  disarmament and arms control   he also taught security studies as a visiting professor at yale and princeton universities  in 1999  he was awarded a macarthur fellowship prize for his research  work and leadership on de alerting nuclear forces   in 2008  he was selected as a finalist for the skoll social entrepreneur award \n",
              " blair s expertise helped make nuclear and global affairs issues accessible to the public in various media outlets  he was an executive producer of countdown to zero   a documentary film on nuclear weapons  he also created and was the executive producer of the pbs weekly television series superpower  global affairs television  2002 2004   and was the executive producer for azimuth media and its weekly pbs television series  foreign exchange  which was first hosted by fareed zakaria  2005 2007  and subsequently by daljit dhaliwal  2008 2009  \n",
              " he published the washington profile  russian   washington observer  chinese   washington prism  persian   taqrir washington  arabic  and china security   he was also the executive producer of two television documentaries  cnn presents   deadlock  russia s forgotten war   and the pbs frontline s  missile wars   in 2002 \n",
              " he was the author of numerous books and articles on security issues in such publications as scientific american  national interest  the new york times and the washington post   his books include strategic command and control  brookings  1985   winner of the edgar s  furniss award for its contribution to the study of national security  crisis stability and nuclear war  oxford  1988  co editor   the logic of accidental nuclear war  brookings  1993   and global zero alert for nuclear forces  brookings  1995  \n",
              " \n",
              " forcing the military to  implement mcnamara s  permissive action links \n",
              " in 2002 blair said he had told former u s  secretary of defense robert mcnamara  1961 1968  the previous month that the secret codes  called  permissive action links   required to launch minuteman missiles had all been set to oooooooo   mcnamara was shocked  because the top military leaders had assured him that those secret codes had been installed   in fact  the hardware had been installed   however  the secret codes had all been set to oooooooo   blair knew this  because one of his jobs while in the u s  air force 1970 to 1974 had been as a minuteman icbm launch control officer   after he left the military  he began lobbying first the department of defense and then the u s  congress to change those codes to something different   they were officially  activated  in 1977   in discussing this  blair concluded   it is hard to know where to begin  and end  in recounting stories like this one that reveal how misinformed  misled  and misguided on critical nuclear matters our top leaders have been throughout the nuclear age   for more  see blair s other publications \n",
              " \n",
              " death\n",
              " blair died in philadelphia after a stroke on july 19  2020 \n",
              " \n",
              " books\n",
              " bruce g  blair  1979   progress in arms control  selected readings from scientific american  san francisco  freeman \n",
              " bruce g  blair  1985   strategic command and control  redefining the nuclear threat  washington  d c   brookings \n",
              " bruce g  blair  condoleezza rice  eds   1987   crisis stability and nuclear war  ithaca  n y   cornell university \n",
              " bruce g  blair  kurt gottfried  eds   1988   crisis stability and nuclear war  oxford \n",
              " bruce g  blair  1993   the logic of accidental nuclear war  washington  d c   brookings  isbn 9780815709848 \n",
              " bruce g  blair  1995   global zero alert for nuclear forces  washington  d c   brookings  isbn 9780815709411 \n",
              " \n",
              " publications\n",
              "  can disarmament work    foreign affairs  co authored with matt brown and richard burt  josef joff and james w  davis  july august 2011 \n",
              " one hundred nuclear wars  stable deterrence between the united states and russia at reduced nuclear force levels off alert in the presence of limited missile defenses  routledge taylor   francis group  co authored with victor esin  matthew mckinzie  valery yarynich and pavel zolotarev  august 9  2011 \n",
              "  bombs away   the new york times  co authored with damon bosetti and brian weeden  december 6  2010 \n",
              "  could terrorists launch america s nuclear missiles    time  november 11  2010 \n",
              "  smaller and safer  a new plan for nuclear postures   foreign affairs  co authored with victor esin  matthew mckinzie  valery yarynich and pavel zolotarev  september october 2010 \n",
              "  de alerting strategic forces   in reykjavik revisited  steps toward a world free of nuclear weapons  george p  shultz  sidney d  drell  and james e  goodby  eds    stanford  ca  hoover institution press  2008  \n",
              "  increasing warning and decision time   de alerting      international conference  achieving the vision of a world free of nuclear weapons  oslo  february 26 27  2008  \n",
              "  a rebuttal of the u s  statement on the alert status of u s  nuclear forces   bruce blair s nuclear column  center for defense information  november 6  2007 \n",
              "  primed and ready   bulletin of the atomic scientists  january february 2007 \n",
              "  the fallacy of nuclear primacy   china security  co authored with chen yali  washington  d c   world security institute   autumn 2006 \n",
              "  the oil weapon  myth of china s vulnerability   china security  co authored with chen yali and eric hagt  washington  d c   world security institute  summer 2006  \n",
              "  editors  notes  the space security dilemma   china security  co authored with chen yali  washington  d c  world security institute  issue no  2  2006  \n",
              "  general zhu and chinese nuclear preemption   china security  washington  d c  world security institute  issue no  1 2005  \n",
              "  iran and the rogues  america s nuclear obsession   bruce blair s nuclear column  center for defense information  september 19  2005 \n",
              "  the wrong deterrence  the threat of loose nukes is one of our own making   the washington post  september 19  2004 \n",
              "  the logic of intelligence failure   forum on physics and society  american physical society  april 2004   also presented at the 10th international castiglioncello conference   unilateral actions and military interventions  the future of nonproliferation   april 1  2004  \n",
              "  keeping presidents in the nuclear dark  episode  2  the siop option that wasn t    bruce blair s nuclear column  center for defense information  february 17  2004 \n",
              "  keeping presidents in the nuclear dark  episode  1  the case of the missing permissive action links    bruce blair s nuclear column  center for defense information  february 11  2004 \n",
              "  rogue states  nuclear red herrings   bruce blair s nuclear column  center for defense information  december 5  2003 \n",
              "  we keep building nukes for all the wrong reasons   the washington post  may 25  2003 \n",
              "  nuclear recollections   the defense monitor  april may 2003 \n",
              "  the folly of nuclear war gaming for korea and south asia   bruce blair s nuclear column  center for defense information  april 30  2003 \n",
              "  hair trigger missiles risk catastrophic nuclear terrorism   bruce blair s nuclear column  center for defense information  april 29  2003 \n",
              "  nuclear time warp   the defense monitor  may 2002 \n",
              "  the ultimate hatred is nuclear   the new york times  october 22  2001 \n",
              "  nukes  a lesson from russia   the washington post  july 11  2001 \n",
              " toward true security  ten steps the next president should take to transform u s  nuclear weapons policy archived 2014 07 22 at the wayback machine  with richard l  garwin  frank von hippel  et al   cambridge  ma  ucs publications  february 2008  \n",
              " toward true security  a u s  nuclear posture for the decade archived 2016 03 25 at the wayback machine  with richard l  garwin  frank von hippel  and others  cambridge  ma  ucs publications  june 2001  \n",
              "  trapped in the nuclear math   the new york times  june 13  2000 \n",
              "  a longer nuclear fuse archived 2016 03 22 at the wayback machine   with frank von hippel  the washington post  june 6  2000 \n",
              "  some sensible options for u s  missile defense   moscow times  june 3  2000 \n",
              "  russia s aging war machine  economic weakness and the nuclear threat   co authored with cliff gaddy  the brookings review  june 22  1999 \n",
              " the nuclear turning point  a blueprint for deep cuts and de alerting of nuclear weapons  co authored with harold feiveson  ed   frank von hippel  and others  washington  dc  brookings institution press  1999  \n",
              "  loose cannon   national interest  summer 1998 \n",
              "  the plight of the russian military and nuclear control   in report of the commission to assess the ballistic missile threat to the united states  july 15  1998 \n",
              "  from nuclear deterrence to mutual safety   with sam nunn  the washington post  june 22  1997 \n",
              "  accidental nuclear war   a post cold war assessment   with l  farrow and others  new england journal of medicine  april 30  1998 \n",
              "  redoubling nuclear weapons reduction   with harold feiveson and frank von hippel  the washington post  november 12  1997 \n",
              "  dismantle armageddon   with henry w  kendall  the new york times  may 21  1994 \n",
              "  russia s doomsday machine   the new york times  october 8  1993 \n",
              "  lighten up on ukraine   the new york times  june 1  1993 \n",
              " \n",
              " references\n",
              " external links\n",
              " global zero\")]"
            ]
          },
          "metadata": {},
          "execution_count": 133
        }
      ]
    },
    {
      "cell_type": "code",
      "source": [
        "# Convert text blob sentences to strings\n",
        "my_sentences_str = [ str(x) for x in my_sentences ]\n",
        "my_sentences_str\n"
      ],
      "metadata": {
        "id": "9YK2acX2fbO9",
        "colab": {
          "base_uri": "https://localhost:8080/"
        },
        "outputId": "c4b268ef-b121-4f78-9d3d-db338b35ac09"
      },
      "execution_count": null,
      "outputs": [
        {
          "output_type": "execute_result",
          "data": {
            "text/plain": [
              "['bruce gentry blair  november 16  1947   july 19  2020  was an american nuclear security expert  research scholar  national security expert  the author of articles and books on nuclear topics  and a television show producer \\n\\neducation and background\\nblair was born in creston  iowa  he earned a ph d  in operations research at yale university in 1984  he received his b s  in communications from the university of illinois in 1970 \\nprior to his position at princeton  blair was the president of the world security institute  a non profit organization   he was a senior fellow in the foreign policy studies program at the brookings institution from 1987 to 2000   previously  he served as a project director at the congressional office of technology assessment from 1982 to 1985  where he worked on a study of the u s  s ability to communicate with its strategic forces  from 1970 to 1974  blair served in the u s  air force as a minuteman icbm launch control officer and support officer for the strategic air command s airborne command post \\n\\ncareer\\nblair was a nuclear security expert and a research scholar at the program on science and global security at princeton university s woodrow wilson school of public and international affairs  joining the program in may 2013  he focused on technical and policy steps on the path toward the verifiable elimination of nuclear weapons  specifically on deep bilateral nuclear arms reductions  multilateral arms negotiations and de alerting of nuclear arsenals  he was co founder of global zero  an international non partisan group consisting of 300 world leaders  over 150 student chapters and millions of supporters worldwide dedicated to achieving the elimination of nuclear weapons \\nblair was an expert on united states and russian security policies  specializing in nuclear forces and command and control systems   he frequently testified before congress   in 2011  he was appointed to the u s  secretary of state s international security advisory board  a small group of experts that provides the department of state with independent insight and advice on all aspects of international security  disarmament and arms control   he also taught security studies as a visiting professor at yale and princeton universities  in 1999  he was awarded a macarthur fellowship prize for his research  work and leadership on de alerting nuclear forces   in 2008  he was selected as a finalist for the skoll social entrepreneur award \\nblair s expertise helped make nuclear and global affairs issues accessible to the public in various media outlets  he was an executive producer of countdown to zero   a documentary film on nuclear weapons  he also created and was the executive producer of the pbs weekly television series superpower  global affairs television  2002 2004   and was the executive producer for azimuth media and its weekly pbs television series  foreign exchange  which was first hosted by fareed zakaria  2005 2007  and subsequently by daljit dhaliwal  2008 2009  \\nhe published the washington profile  russian   washington observer  chinese   washington prism  persian   taqrir washington  arabic  and china security   he was also the executive producer of two television documentaries  cnn presents   deadlock  russia s forgotten war   and the pbs frontline s  missile wars   in 2002 \\nhe was the author of numerous books and articles on security issues in such publications as scientific american  national interest  the new york times and the washington post   his books include strategic command and control  brookings  1985   winner of the edgar s  furniss award for its contribution to the study of national security  crisis stability and nuclear war  oxford  1988  co editor   the logic of accidental nuclear war  brookings  1993   and global zero alert for nuclear forces  brookings  1995  \\n\\nforcing the military to  implement mcnamara s  permissive action links \\nin 2002 blair said he had told former u s  secretary of defense robert mcnamara  1961 1968  the previous month that the secret codes  called  permissive action links   required to launch minuteman missiles had all been set to oooooooo   mcnamara was shocked  because the top military leaders had assured him that those secret codes had been installed   in fact  the hardware had been installed   however  the secret codes had all been set to oooooooo   blair knew this  because one of his jobs while in the u s  air force 1970 to 1974 had been as a minuteman icbm launch control officer   after he left the military  he began lobbying first the department of defense and then the u s  congress to change those codes to something different   they were officially  activated  in 1977   in discussing this  blair concluded   it is hard to know where to begin  and end  in recounting stories like this one that reveal how misinformed  misled  and misguided on critical nuclear matters our top leaders have been throughout the nuclear age   for more  see blair s other publications \\n\\ndeath\\nblair died in philadelphia after a stroke on july 19  2020 \\n\\nbooks\\nbruce g  blair  1979   progress in arms control  selected readings from scientific american  san francisco  freeman \\nbruce g  blair  1985   strategic command and control  redefining the nuclear threat  washington  d c   brookings \\nbruce g  blair  condoleezza rice  eds   1987   crisis stability and nuclear war  ithaca  n y   cornell university \\nbruce g  blair  kurt gottfried  eds   1988   crisis stability and nuclear war  oxford \\nbruce g  blair  1993   the logic of accidental nuclear war  washington  d c   brookings  isbn 9780815709848 \\nbruce g  blair  1995   global zero alert for nuclear forces  washington  d c   brookings  isbn 9780815709411 \\n\\npublications\\n can disarmament work    foreign affairs  co authored with matt brown and richard burt  josef joff and james w  davis  july august 2011 \\none hundred nuclear wars  stable deterrence between the united states and russia at reduced nuclear force levels off alert in the presence of limited missile defenses  routledge taylor   francis group  co authored with victor esin  matthew mckinzie  valery yarynich and pavel zolotarev  august 9  2011 \\n bombs away   the new york times  co authored with damon bosetti and brian weeden  december 6  2010 \\n could terrorists launch america s nuclear missiles    time  november 11  2010 \\n smaller and safer  a new plan for nuclear postures   foreign affairs  co authored with victor esin  matthew mckinzie  valery yarynich and pavel zolotarev  september october 2010 \\n de alerting strategic forces   in reykjavik revisited  steps toward a world free of nuclear weapons  george p  shultz  sidney d  drell  and james e  goodby  eds    stanford  ca  hoover institution press  2008  \\n increasing warning and decision time   de alerting      international conference  achieving the vision of a world free of nuclear weapons  oslo  february 26 27  2008  \\n a rebuttal of the u s  statement on the alert status of u s  nuclear forces   bruce blair s nuclear column  center for defense information  november 6  2007 \\n primed and ready   bulletin of the atomic scientists  january february 2007 \\n the fallacy of nuclear primacy   china security  co authored with chen yali  washington  d c   world security institute   autumn 2006 \\n the oil weapon  myth of china s vulnerability   china security  co authored with chen yali and eric hagt  washington  d c   world security institute  summer 2006  \\n editors  notes  the space security dilemma   china security  co authored with chen yali  washington  d c  world security institute  issue no  2  2006  \\n general zhu and chinese nuclear preemption   china security  washington  d c  world security institute  issue no  1 2005  \\n iran and the rogues  america s nuclear obsession   bruce blair s nuclear column  center for defense information  september 19  2005 \\n the wrong deterrence  the threat of loose nukes is one of our own making   the washington post  september 19  2004 \\n the logic of intelligence failure   forum on physics and society  american physical society  april 2004   also presented at the 10th international castiglioncello conference   unilateral actions and military interventions  the future of nonproliferation   april 1  2004  \\n keeping presidents in the nuclear dark  episode  2  the siop option that wasn t    bruce blair s nuclear column  center for defense information  february 17  2004 \\n keeping presidents in the nuclear dark  episode  1  the case of the missing permissive action links    bruce blair s nuclear column  center for defense information  february 11  2004 \\n rogue states  nuclear red herrings   bruce blair s nuclear column  center for defense information  december 5  2003 \\n we keep building nukes for all the wrong reasons   the washington post  may 25  2003 \\n nuclear recollections   the defense monitor  april may 2003 \\n the folly of nuclear war gaming for korea and south asia   bruce blair s nuclear column  center for defense information  april 30  2003 \\n hair trigger missiles risk catastrophic nuclear terrorism   bruce blair s nuclear column  center for defense information  april 29  2003 \\n nuclear time warp   the defense monitor  may 2002 \\n the ultimate hatred is nuclear   the new york times  october 22  2001 \\n nukes  a lesson from russia   the washington post  july 11  2001 \\ntoward true security  ten steps the next president should take to transform u s  nuclear weapons policy archived 2014 07 22 at the wayback machine  with richard l  garwin  frank von hippel  et al   cambridge  ma  ucs publications  february 2008  \\ntoward true security  a u s  nuclear posture for the decade archived 2016 03 25 at the wayback machine  with richard l  garwin  frank von hippel  and others  cambridge  ma  ucs publications  june 2001  \\n trapped in the nuclear math   the new york times  june 13  2000 \\n a longer nuclear fuse archived 2016 03 22 at the wayback machine   with frank von hippel  the washington post  june 6  2000 \\n some sensible options for u s  missile defense   moscow times  june 3  2000 \\n russia s aging war machine  economic weakness and the nuclear threat   co authored with cliff gaddy  the brookings review  june 22  1999 \\nthe nuclear turning point  a blueprint for deep cuts and de alerting of nuclear weapons  co authored with harold feiveson  ed   frank von hippel  and others  washington  dc  brookings institution press  1999  \\n loose cannon   national interest  summer 1998 \\n the plight of the russian military and nuclear control   in report of the commission to assess the ballistic missile threat to the united states  july 15  1998 \\n from nuclear deterrence to mutual safety   with sam nunn  the washington post  june 22  1997 \\n accidental nuclear war   a post cold war assessment   with l  farrow and others  new england journal of medicine  april 30  1998 \\n redoubling nuclear weapons reduction   with harold feiveson and frank von hippel  the washington post  november 12  1997 \\n dismantle armageddon   with henry w  kendall  the new york times  may 21  1994 \\n russia s doomsday machine   the new york times  october 8  1993 \\n lighten up on ukraine   the new york times  june 1  1993 \\n\\nreferences\\nexternal links\\nglobal zero']"
            ]
          },
          "metadata": {},
          "execution_count": 134
        }
      ]
    },
    {
      "cell_type": "code",
      "source": [
        "# Perform the TF-IDF Vectorization\n",
        "tf_idf_vec = TfidfVectorizer(stop_words = 'english')\n",
        "tf_idf_peep = tf_idf_vec.fit_transform(my_sentences_str)\n",
        "tf_idf_peep.shape"
      ],
      "metadata": {
        "id": "LHYHCIuSfb3V",
        "colab": {
          "base_uri": "https://localhost:8080/"
        },
        "outputId": "b371ac5e-a218-4543-98fe-c8c826f5d9f6"
      },
      "execution_count": null,
      "outputs": [
        {
          "output_type": "execute_result",
          "data": {
            "text/plain": [
              "(1, 548)"
            ]
          },
          "metadata": {},
          "execution_count": 135
        }
      ]
    },
    {
      "cell_type": "code",
      "source": [
        "tf_idf_peep"
      ],
      "metadata": {
        "id": "F_0nhpejfw5e",
        "colab": {
          "base_uri": "https://localhost:8080/"
        },
        "outputId": "92e21097-4531-4145-de84-2241a9d41ae6"
      },
      "execution_count": null,
      "outputs": [
        {
          "output_type": "execute_result",
          "data": {
            "text/plain": [
              "<1x548 sparse matrix of type '<class 'numpy.float64'>'\n",
              "\twith 548 stored elements in Compressed Sparse Row format>"
            ]
          },
          "metadata": {},
          "execution_count": 136
        }
      ]
    },
    {
      "cell_type": "code",
      "source": [
        "tf_idf_peep.transpose().shape"
      ],
      "metadata": {
        "id": "Jq52sZGsf5gW",
        "colab": {
          "base_uri": "https://localhost:8080/"
        },
        "outputId": "0af4013d-c93a-4d62-da34-a6fe3f835d3c"
      },
      "execution_count": null,
      "outputs": [
        {
          "output_type": "execute_result",
          "data": {
            "text/plain": [
              "(548, 1)"
            ]
          },
          "metadata": {},
          "execution_count": 137
        }
      ]
    },
    {
      "cell_type": "code",
      "source": [
        "tf_idf_vec.get_feature_names_out()"
      ],
      "metadata": {
        "id": "Vt-oKnxlgA-f",
        "colab": {
          "base_uri": "https://localhost:8080/"
        },
        "outputId": "b6a6759a-0bbd-4b17-b88b-4be255455cee"
      },
      "execution_count": null,
      "outputs": [
        {
          "output_type": "execute_result",
          "data": {
            "text/plain": [
              "array(['03', '07', '10th', '11', '12', '13', '15', '150', '16', '17',\n",
              "       '19', '1947', '1961', '1968', '1970', '1974', '1977', '1979',\n",
              "       '1982', '1984', '1985', '1987', '1988', '1993', '1994', '1995',\n",
              "       '1997', '1998', '1999', '2000', '2001', '2002', '2003', '2004',\n",
              "       '2005', '2006', '2007', '2008', '2009', '2010', '2011', '2013',\n",
              "       '2014', '2016', '2020', '21', '22', '25', '26', '27', '29', '30',\n",
              "       '300', '9780815709411', '9780815709848', 'ability', 'accessible',\n",
              "       'accidental', 'achieving', 'action', 'actions', 'activated',\n",
              "       'advice', 'advisory', 'affairs', 'age', 'aging', 'air', 'airborne',\n",
              "       'al', 'alert', 'alerting', 'america', 'american', 'appointed',\n",
              "       'april', 'arabic', 'archived', 'armageddon', 'arms', 'arsenals',\n",
              "       'articles', 'asia', 'aspects', 'assess', 'assessment', 'assured',\n",
              "       'atomic', 'august', 'author', 'authored', 'autumn', 'award',\n",
              "       'awarded', 'away', 'azimuth', 'background', 'ballistic', 'began',\n",
              "       'begin', 'bilateral', 'blair', 'blueprint', 'board', 'bombs',\n",
              "       'books', 'born', 'bosetti', 'brian', 'brookings', 'brown', 'bruce',\n",
              "       'building', 'bulletin', 'burt', 'ca', 'called', 'cambridge',\n",
              "       'cannon', 'career', 'case', 'castiglioncello', 'catastrophic',\n",
              "       'center', 'change', 'chapters', 'chen', 'china', 'chinese',\n",
              "       'cliff', 'cnn', 'codes', 'cold', 'column', 'command', 'commission',\n",
              "       'communicate', 'communications', 'concluded', 'condoleezza',\n",
              "       'conference', 'congress', 'congressional', 'consisting',\n",
              "       'contribution', 'control', 'cornell', 'countdown', 'created',\n",
              "       'creston', 'crisis', 'critical', 'cuts', 'daljit', 'damon', 'dark',\n",
              "       'davis', 'dc', 'deadlock', 'death', 'decade', 'december',\n",
              "       'decision', 'dedicated', 'deep', 'defense', 'defenses',\n",
              "       'department', 'deterrence', 'dhaliwal', 'died', 'different',\n",
              "       'dilemma', 'director', 'disarmament', 'discussing', 'dismantle',\n",
              "       'documentaries', 'documentary', 'doomsday', 'drell', 'earned',\n",
              "       'economic', 'ed', 'edgar', 'editor', 'editors', 'eds', 'education',\n",
              "       'elimination', 'end', 'england', 'entrepreneur', 'episode', 'eric',\n",
              "       'esin', 'et', 'exchange', 'executive', 'expert', 'expertise',\n",
              "       'experts', 'external', 'fact', 'failure', 'fallacy', 'fareed',\n",
              "       'farrow', 'february', 'feiveson', 'fellow', 'fellowship', 'film',\n",
              "       'finalist', 'focused', 'folly', 'force', 'forces', 'forcing',\n",
              "       'foreign', 'forgotten', 'forum', 'founder', 'francis', 'francisco',\n",
              "       'frank', 'free', 'freeman', 'frequently', 'frontline', 'furniss',\n",
              "       'fuse', 'future', 'gaddy', 'gaming', 'garwin', 'general', 'gentry',\n",
              "       'george', 'global', 'goodby', 'gottfried', 'group', 'hagt', 'hair',\n",
              "       'hard', 'hardware', 'harold', 'hatred', 'helped', 'henry',\n",
              "       'herrings', 'hippel', 'hoover', 'hosted', 'icbm', 'illinois',\n",
              "       'implement', 'include', 'increasing', 'independent', 'information',\n",
              "       'insight', 'installed', 'institute', 'institution', 'intelligence',\n",
              "       'international', 'interventions', 'iowa', 'iran', 'isbn', 'issue',\n",
              "       'issues', 'ithaca', 'james', 'january', 'jobs', 'joff', 'joining',\n",
              "       'josef', 'journal', 'july', 'june', 'keeping', 'kendall', 'knew',\n",
              "       'know', 'korea', 'kurt', 'launch', 'leaders', 'leadership', 'left',\n",
              "       'lesson', 'levels', 'lighten', 'like', 'limited', 'links',\n",
              "       'lobbying', 'logic', 'longer', 'loose', 'ma', 'macarthur',\n",
              "       'machine', 'make', 'making', 'math', 'matt', 'matters', 'matthew',\n",
              "       'mckinzie', 'mcnamara', 'media', 'medicine', 'military',\n",
              "       'millions', 'minuteman', 'misguided', 'misinformed', 'misled',\n",
              "       'missile', 'missiles', 'missing', 'monitor', 'month', 'moscow',\n",
              "       'multilateral', 'mutual', 'myth', 'national', 'negotiations',\n",
              "       'new', 'non', 'nonproliferation', 'notes', 'november', 'nuclear',\n",
              "       'nukes', 'numerous', 'nunn', 'observer', 'obsession', 'october',\n",
              "       'office', 'officer', 'officially', 'oil', 'oooooooo', 'operations',\n",
              "       'option', 'options', 'organization', 'oslo', 'outlets', 'oxford',\n",
              "       'partisan', 'path', 'pavel', 'pbs', 'permissive', 'persian', 'ph',\n",
              "       'philadelphia', 'physical', 'physics', 'plan', 'plight', 'point',\n",
              "       'policies', 'policy', 'position', 'post', 'posture', 'postures',\n",
              "       'preemption', 'presence', 'presented', 'presents', 'president',\n",
              "       'presidents', 'press', 'previous', 'previously', 'primacy',\n",
              "       'primed', 'princeton', 'prior', 'prism', 'prize', 'producer',\n",
              "       'professor', 'profile', 'profit', 'program', 'progress', 'project',\n",
              "       'provides', 'public', 'publications', 'published', 'readings',\n",
              "       'ready', 'reasons', 'rebuttal', 'received', 'recollections',\n",
              "       'recounting', 'red', 'redefining', 'redoubling', 'reduced',\n",
              "       'reduction', 'reductions', 'references', 'report', 'required',\n",
              "       'research', 'reveal', 'review', 'revisited', 'reykjavik', 'rice',\n",
              "       'richard', 'risk', 'robert', 'rogue', 'rogues', 'routledge',\n",
              "       'russia', 'russian', 'safer', 'safety', 'said', 'sam', 'san',\n",
              "       'scholar', 'school', 'science', 'scientific', 'scientists',\n",
              "       'secret', 'secretary', 'security', 'selected', 'senior',\n",
              "       'sensible', 'september', 'series', 'served', 'set', 'shocked',\n",
              "       'shultz', 'sidney', 'siop', 'skoll', 'small', 'smaller', 'social',\n",
              "       'society', 'south', 'space', 'specializing', 'specifically',\n",
              "       'stability', 'stable', 'stanford', 'state', 'statement', 'states',\n",
              "       'status', 'steps', 'stories', 'strategic', 'stroke', 'student',\n",
              "       'studies', 'study', 'subsequently', 'summer', 'superpower',\n",
              "       'support', 'supporters', 'systems', 'taqrir', 'taught', 'taylor',\n",
              "       'technical', 'technology', 'television', 'terrorism', 'terrorists',\n",
              "       'testified', 'threat', 'time', 'times', 'told', 'topics',\n",
              "       'transform', 'trapped', 'trigger', 'true', 'turning', 'ucs',\n",
              "       'ukraine', 'ultimate', 'unilateral', 'united', 'universities',\n",
              "       'university', 'valery', 'various', 'verifiable', 'victor',\n",
              "       'vision', 'visiting', 'von', 'vulnerability', 'war', 'warning',\n",
              "       'warp', 'wars', 'washington', 'wasn', 'wayback', 'weakness',\n",
              "       'weapon', 'weapons', 'weeden', 'weekly', 'wilson', 'winner',\n",
              "       'woodrow', 'work', 'worked', 'world', 'worldwide', 'wrong', 'yale',\n",
              "       'yali', 'yarynich', 'york', 'zakaria', 'zero', 'zhu', 'zolotarev'],\n",
              "      dtype=object)"
            ]
          },
          "metadata": {},
          "execution_count": 138
        }
      ]
    },
    {
      "cell_type": "code",
      "source": [
        "# stemming / lemming HERE"
      ],
      "metadata": {
        "id": "cHXFxlwy9N_1"
      },
      "execution_count": null,
      "outputs": []
    },
    {
      "cell_type": "code",
      "source": [
        "#compare this output from #42 to above output from #42 without cleaning above\n",
        "# BEYOND MVP - consider french translation and compare again...."
      ],
      "metadata": {
        "id": "MKfpZYkag08j"
      },
      "execution_count": null,
      "outputs": []
    },
    {
      "cell_type": "markdown",
      "source": [
        "#Creating Loops to run through the 10 similar Famous People in the same way that text was cleaned and vectorized and use knn for Sylvie Roy\n"
      ],
      "metadata": {
        "id": "HS8_TKoSi2lC"
      }
    },
    {
      "cell_type": "code",
      "source": [
        "def preprocess_text (text):\n",
        "  '''\n",
        "  This function will take a value and apply the lower case method, remove white spaces and characters and convert the text to TextBlob\n",
        "  '''\n",
        "  text = text.lower()\n",
        "  text = re.sub(r\"[^\\w\\s]\", \"\", text)\n",
        "  text = TextBlob(text)\n",
        "  return text"
      ],
      "metadata": {
        "id": "OSVgI8upoHg1"
      },
      "execution_count": null,
      "outputs": []
    },
    {
      "cell_type": "code",
      "source": [
        "df['text'] = df['text'].apply(preprocess_text) # Apply the function to our dataset"
      ],
      "metadata": {
        "id": "Sa87oKy5oHXt"
      },
      "execution_count": null,
      "outputs": []
    },
    {
      "cell_type": "markdown",
      "source": [
        "# Troubleshooting reveals common errors and why the code does not work as intended:"
      ],
      "metadata": {
        "id": "wKp2ZIvfkLvz"
      }
    },
    {
      "cell_type": "code",
      "source": [
        "wiki_names = names_for_wiki2.copy() # Creates a copy of the names_for_wiki2 list (which contains the names of Kenneth Thomas but not the 10 neighbors) and assigns it to wiki_names\n",
        "\n",
        "wikip = wikipediaapi.Wikipedia(user_agent='Famous_Peep') # This line initializes the wikipediaapi to interact with Wikipedia. The user_agent is set to 'famous_Peep', which is a string identifying the biographical text.\n",
        "\n",
        "# Loop through wiki_names to get text for each person\n",
        "wiki_texts = {}  # Dictionary to store Wikipedia text for each person\n",
        "for person in wiki_names: # Starts a loop that iterates through each person (name) in the wiki_names list.\n",
        "    try: # This code block handles errors.\n",
        "        page_ex = wikip.page(person) # activates the fetch of the biographical text\n",
        "        if page_ex.exists(): # Checks to see if the page exists\n",
        "            wiki_texts[person] = page_ex.text # If the page exists, this line stores the text content of the page (page_ex.text) in the wiki_texts dictionary, using the person's name as the key\n",
        "        else: # If the page does not exist, this block is executed.\n",
        "            print(f\"Wikipedia page not found for: {person}\")\n",
        "    except Exception as e:\n",
        "        print(f\"Error fetching Wikipedia page for {person}: {e}\")\n",
        "print(wiki_texts) # Print the wiki_texts dictionary\n",
        "\n",
        "wiki_df = pd.DataFrame(wiki_texts.items(), columns=['Person', 'WikiText'])\n",
        "# Creates a DataFrame named wiki_df using the pd.DataFrame()constructor; wiki_texts.items() provides the data for the DataFrame as a list of (key, value) pairs from the wiki_texts dictionary (where keys are person names and values are Wikipedia text content), columns=['Person', 'WikiText'] specifies the column names for the DataFrame.\n",
        "print(wiki_df)"
      ],
      "metadata": {
        "colab": {
          "base_uri": "https://localhost:8080/"
        },
        "outputId": "c2038df2-4826-4263-850c-9b3026718c9b",
        "id": "KuW7VCGh4CRg"
      },
      "execution_count": null,
      "outputs": [
        {
          "output_type": "stream",
          "name": "stdout",
          "text": [
            "{'Kenneth Thomas': 'Kenneth, Ken or Kenny Thomas may refer to:\\n\\nKenneth Thomas (chess player) (born 1938), Chief Financial Officer of the United States Chess Federation\\nKen Thomas (trade unionist) (1927–2008), Welsh trade unionist and General Secretary of the Civil and Public Services Association\\nKen Thomas (record producer), English record producer and recording engineer\\nKen Thomas (American football), American football running back\\nKenny Thomas (basketball) (born 1977), American basketball player\\nKenny Thomas (singer) (born 1968), British dance music singer\\nKeni Thomas, American country music singer and motivational speaker\\nKenneth Bryn Thomas (1915–1978), English physician'}\n",
            "           Person                                           WikiText\n",
            "0  Kenneth Thomas  Kenneth, Ken or Kenny Thomas may refer to:\\n\\n...\n"
          ]
        }
      ]
    },
    {
      "cell_type": "code",
      "source": [
        "def get_wikipedia_content(names): # This line defines a function called get_wikipedia_content that accepts one argument: names, expected to be a string.\n",
        "    try: # Begin a try-except block, a common way in Python to handle potential errors.\n",
        "        page = wikipedia.page(names) # This is the core of the function and uses the wikipedia.page() function (from the wikipedia app library) to fetch the Wikipedia page corresponding to the provided names and assigns it to the variable page.\n",
        "        return page.content\n",
        "    except wikipedia.exceptions.PageError:\n",
        "        return None  # If a PageError occurs (e.g., page not found), return None\n",
        "print(names) # Prints the value of the 'names' variable, but what was needed was a data series \"names_series\""
      ],
      "metadata": {
        "colab": {
          "base_uri": "https://localhost:8080/"
        },
        "outputId": "6630f2e2-3057-40d7-e615-d09fa1886b30",
        "id": "6w98_sBN4P_d"
      },
      "execution_count": null,
      "outputs": [
        {
          "output_type": "stream",
          "name": "stdout",
          "text": [
            "['Kenneth Thomas', 'Don Schultz', 'Tamara Golovey', 'Yanko Yanev', 'Michael Khodarkovsky', 'James Eade', 'Irma Arguello', 'Randy Bauer', 'John Large', 'Michael R. Anastasio', 'Bruce G. Blair']\n"
          ]
        }
      ]
    },
    {
      "cell_type": "markdown",
      "source": [
        "#Part 3\n",
        "Make an interactive notebook.\n",
        "\n",
        "In addition to presenting the project slides, at the end of the presentation each student will demonstrate their code using a famous person suggested by the other students that exists in the DBpedia set.\n",
        "\n",
        "create a function of tf-idf but need to precalculate the tf-idf or it will take too long\n",
        "\n",
        "Drop down\n",
        "sensitivity, polarity\n"
      ],
      "metadata": {
        "id": "K9xpYXUXp3b3"
      }
    },
    {
      "cell_type": "code",
      "source": [],
      "metadata": {
        "id": "D1cR20gF0j2P"
      },
      "execution_count": null,
      "outputs": []
    }
  ],
  "metadata": {
    "colab": {
      "provenance": [],
      "include_colab_link": true
    },
    "kernelspec": {
      "display_name": "Python 3 (ipykernel)",
      "language": "python",
      "name": "python3"
    },
    "language_info": {
      "codemirror_mode": {
        "name": "ipython",
        "version": 3
      },
      "file_extension": ".py",
      "mimetype": "text/x-python",
      "name": "python",
      "nbconvert_exporter": "python",
      "pygments_lexer": "ipython3",
      "version": "3.10.12"
    }
  },
  "nbformat": 4,
  "nbformat_minor": 0
}